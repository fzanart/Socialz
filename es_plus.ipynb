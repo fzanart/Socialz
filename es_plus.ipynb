{
  "nbformat": 4,
  "nbformat_minor": 0,
  "metadata": {
    "colab": {
      "name": "es_plus.ipynb",
      "provenance": [],
      "authorship_tag": "ABX9TyMHGmBn2v7ObQFe7tUUylmx",
      "include_colab_link": true
    },
    "kernelspec": {
      "name": "python3",
      "display_name": "Python 3"
    },
    "language_info": {
      "name": "python"
    }
  },
  "cells": [
    {
      "cell_type": "markdown",
      "metadata": {
        "id": "view-in-github",
        "colab_type": "text"
      },
      "source": [
        "<a href=\"https://colab.research.google.com/github/fzanart/Socialz/blob/main/es_plus.ipynb\" target=\"_parent\"><img src=\"https://colab.research.google.com/assets/colab-badge.svg\" alt=\"Open In Colab\"/></a>"
      ]
    },
    {
      "cell_type": "code",
      "source": [
        "!pip install scipy --upgrade"
      ],
      "metadata": {
        "colab": {
          "base_uri": "https://localhost:8080/"
        },
        "id": "13yaxIrCl2Ln",
        "outputId": "cc41d5cf-6e06-40f1-be22-71e1199c210e"
      },
      "execution_count": 1,
      "outputs": [
        {
          "output_type": "stream",
          "name": "stdout",
          "text": [
            "Requirement already satisfied: scipy in /usr/local/lib/python3.7/dist-packages (1.7.3)\n",
            "Requirement already satisfied: numpy<1.23.0,>=1.16.5 in /usr/local/lib/python3.7/dist-packages (from scipy) (1.21.6)\n"
          ]
        }
      ]
    },
    {
      "cell_type": "code",
      "execution_count": 2,
      "metadata": {
        "colab": {
          "base_uri": "https://localhost:8080/"
        },
        "id": "0IzNLhfgkHDP",
        "outputId": "ddcd4d22-8a15-4d81-8435-14238b144b14"
      },
      "outputs": [
        {
          "output_type": "stream",
          "name": "stdout",
          "text": [
            "Mounted at /content/drive/\n"
          ]
        }
      ],
      "source": [
        "import numpy as np\n",
        "import pandas as pd\n",
        "import json\n",
        "import networkx as nx\n",
        "import matplotlib.pyplot as plt\n",
        "from google.colab import drive\n",
        "drive.mount('/content/drive/')\n",
        "import random\n",
        "from scipy.stats import qmc\n",
        "from tqdm import tqdm\n",
        "import time"
      ]
    },
    {
      "cell_type": "code",
      "source": [
        "# Read the data\n",
        "df = pd.read_csv('/content/drive/MyDrive/Socialz/cobol_pullrequests.csv', usecols=['login', 'name'])\n",
        "df"
      ],
      "metadata": {
        "colab": {
          "base_uri": "https://localhost:8080/",
          "height": 433
        },
        "id": "zCDZN_H3mFDX",
        "outputId": "1f94294c-9acb-4382-ac36-9a8341235378"
      },
      "execution_count": 3,
      "outputs": [
        {
          "output_type": "execute_result",
          "data": {
            "text/plain": [
              "                             login                                 name\n",
              "0                     vim-sroberge                           vimaec/g3d\n",
              "1                     vim-sroberge                           vimaec/g3d\n",
              "2                     vim-sroberge                           vimaec/g3d\n",
              "3                     vim-sroberge                           vimaec/g3d\n",
              "4                         mavimaec                           vimaec/g3d\n",
              "...                            ...                                  ...\n",
              "1328  joe-tingsanchali-sonarsource  SonarSource/sonar-scanning-examples\n",
              "1329  joe-tingsanchali-sonarsource  SonarSource/sonar-scanning-examples\n",
              "1330  joe-tingsanchali-sonarsource  SonarSource/sonar-scanning-examples\n",
              "1331  joe-tingsanchali-sonarsource  SonarSource/sonar-scanning-examples\n",
              "1332  joe-tingsanchali-sonarsource  SonarSource/sonar-scanning-examples\n",
              "\n",
              "[1333 rows x 2 columns]"
            ],
            "text/html": [
              "\n",
              "  <div id=\"df-0e9a66be-197a-4d65-a87f-b5883de688e6\">\n",
              "    <div class=\"colab-df-container\">\n",
              "      <div>\n",
              "<style scoped>\n",
              "    .dataframe tbody tr th:only-of-type {\n",
              "        vertical-align: middle;\n",
              "    }\n",
              "\n",
              "    .dataframe tbody tr th {\n",
              "        vertical-align: top;\n",
              "    }\n",
              "\n",
              "    .dataframe thead th {\n",
              "        text-align: right;\n",
              "    }\n",
              "</style>\n",
              "<table border=\"1\" class=\"dataframe\">\n",
              "  <thead>\n",
              "    <tr style=\"text-align: right;\">\n",
              "      <th></th>\n",
              "      <th>login</th>\n",
              "      <th>name</th>\n",
              "    </tr>\n",
              "  </thead>\n",
              "  <tbody>\n",
              "    <tr>\n",
              "      <th>0</th>\n",
              "      <td>vim-sroberge</td>\n",
              "      <td>vimaec/g3d</td>\n",
              "    </tr>\n",
              "    <tr>\n",
              "      <th>1</th>\n",
              "      <td>vim-sroberge</td>\n",
              "      <td>vimaec/g3d</td>\n",
              "    </tr>\n",
              "    <tr>\n",
              "      <th>2</th>\n",
              "      <td>vim-sroberge</td>\n",
              "      <td>vimaec/g3d</td>\n",
              "    </tr>\n",
              "    <tr>\n",
              "      <th>3</th>\n",
              "      <td>vim-sroberge</td>\n",
              "      <td>vimaec/g3d</td>\n",
              "    </tr>\n",
              "    <tr>\n",
              "      <th>4</th>\n",
              "      <td>mavimaec</td>\n",
              "      <td>vimaec/g3d</td>\n",
              "    </tr>\n",
              "    <tr>\n",
              "      <th>...</th>\n",
              "      <td>...</td>\n",
              "      <td>...</td>\n",
              "    </tr>\n",
              "    <tr>\n",
              "      <th>1328</th>\n",
              "      <td>joe-tingsanchali-sonarsource</td>\n",
              "      <td>SonarSource/sonar-scanning-examples</td>\n",
              "    </tr>\n",
              "    <tr>\n",
              "      <th>1329</th>\n",
              "      <td>joe-tingsanchali-sonarsource</td>\n",
              "      <td>SonarSource/sonar-scanning-examples</td>\n",
              "    </tr>\n",
              "    <tr>\n",
              "      <th>1330</th>\n",
              "      <td>joe-tingsanchali-sonarsource</td>\n",
              "      <td>SonarSource/sonar-scanning-examples</td>\n",
              "    </tr>\n",
              "    <tr>\n",
              "      <th>1331</th>\n",
              "      <td>joe-tingsanchali-sonarsource</td>\n",
              "      <td>SonarSource/sonar-scanning-examples</td>\n",
              "    </tr>\n",
              "    <tr>\n",
              "      <th>1332</th>\n",
              "      <td>joe-tingsanchali-sonarsource</td>\n",
              "      <td>SonarSource/sonar-scanning-examples</td>\n",
              "    </tr>\n",
              "  </tbody>\n",
              "</table>\n",
              "<p>1333 rows × 2 columns</p>\n",
              "</div>\n",
              "      <button class=\"colab-df-convert\" onclick=\"convertToInteractive('df-0e9a66be-197a-4d65-a87f-b5883de688e6')\"\n",
              "              title=\"Convert this dataframe to an interactive table.\"\n",
              "              style=\"display:none;\">\n",
              "        \n",
              "  <svg xmlns=\"http://www.w3.org/2000/svg\" height=\"24px\"viewBox=\"0 0 24 24\"\n",
              "       width=\"24px\">\n",
              "    <path d=\"M0 0h24v24H0V0z\" fill=\"none\"/>\n",
              "    <path d=\"M18.56 5.44l.94 2.06.94-2.06 2.06-.94-2.06-.94-.94-2.06-.94 2.06-2.06.94zm-11 1L8.5 8.5l.94-2.06 2.06-.94-2.06-.94L8.5 2.5l-.94 2.06-2.06.94zm10 10l.94 2.06.94-2.06 2.06-.94-2.06-.94-.94-2.06-.94 2.06-2.06.94z\"/><path d=\"M17.41 7.96l-1.37-1.37c-.4-.4-.92-.59-1.43-.59-.52 0-1.04.2-1.43.59L10.3 9.45l-7.72 7.72c-.78.78-.78 2.05 0 2.83L4 21.41c.39.39.9.59 1.41.59.51 0 1.02-.2 1.41-.59l7.78-7.78 2.81-2.81c.8-.78.8-2.07 0-2.86zM5.41 20L4 18.59l7.72-7.72 1.47 1.35L5.41 20z\"/>\n",
              "  </svg>\n",
              "      </button>\n",
              "      \n",
              "  <style>\n",
              "    .colab-df-container {\n",
              "      display:flex;\n",
              "      flex-wrap:wrap;\n",
              "      gap: 12px;\n",
              "    }\n",
              "\n",
              "    .colab-df-convert {\n",
              "      background-color: #E8F0FE;\n",
              "      border: none;\n",
              "      border-radius: 50%;\n",
              "      cursor: pointer;\n",
              "      display: none;\n",
              "      fill: #1967D2;\n",
              "      height: 32px;\n",
              "      padding: 0 0 0 0;\n",
              "      width: 32px;\n",
              "    }\n",
              "\n",
              "    .colab-df-convert:hover {\n",
              "      background-color: #E2EBFA;\n",
              "      box-shadow: 0px 1px 2px rgba(60, 64, 67, 0.3), 0px 1px 3px 1px rgba(60, 64, 67, 0.15);\n",
              "      fill: #174EA6;\n",
              "    }\n",
              "\n",
              "    [theme=dark] .colab-df-convert {\n",
              "      background-color: #3B4455;\n",
              "      fill: #D2E3FC;\n",
              "    }\n",
              "\n",
              "    [theme=dark] .colab-df-convert:hover {\n",
              "      background-color: #434B5C;\n",
              "      box-shadow: 0px 1px 3px 1px rgba(0, 0, 0, 0.15);\n",
              "      filter: drop-shadow(0px 1px 2px rgba(0, 0, 0, 0.3));\n",
              "      fill: #FFFFFF;\n",
              "    }\n",
              "  </style>\n",
              "\n",
              "      <script>\n",
              "        const buttonEl =\n",
              "          document.querySelector('#df-0e9a66be-197a-4d65-a87f-b5883de688e6 button.colab-df-convert');\n",
              "        buttonEl.style.display =\n",
              "          google.colab.kernel.accessAllowed ? 'block' : 'none';\n",
              "\n",
              "        async function convertToInteractive(key) {\n",
              "          const element = document.querySelector('#df-0e9a66be-197a-4d65-a87f-b5883de688e6');\n",
              "          const dataTable =\n",
              "            await google.colab.kernel.invokeFunction('convertToInteractive',\n",
              "                                                     [key], {});\n",
              "          if (!dataTable) return;\n",
              "\n",
              "          const docLinkHtml = 'Like what you see? Visit the ' +\n",
              "            '<a target=\"_blank\" href=https://colab.research.google.com/notebooks/data_table.ipynb>data table notebook</a>'\n",
              "            + ' to learn more about interactive tables.';\n",
              "          element.innerHTML = '';\n",
              "          dataTable['output_type'] = 'display_data';\n",
              "          await google.colab.output.renderOutput(dataTable, element);\n",
              "          const docLink = document.createElement('div');\n",
              "          docLink.innerHTML = docLinkHtml;\n",
              "          element.appendChild(docLink);\n",
              "        }\n",
              "      </script>\n",
              "    </div>\n",
              "  </div>\n",
              "  "
            ]
          },
          "metadata": {},
          "execution_count": 3
        }
      ]
    },
    {
      "cell_type": "code",
      "source": [
        "# Add user (u: ) repo (r: ) indicator for each node\n",
        "df['login'] = df['login'].apply(lambda x: 'u: '+x)\n",
        "df['name'] = df['name'].apply(lambda x: 'r: '+x)"
      ],
      "metadata": {
        "id": "nkj9YXbemKaY"
      },
      "execution_count": 4,
      "outputs": []
    },
    {
      "cell_type": "code",
      "source": [
        "# Build the adjacency matrix for user - repo (and repo - user) interactions.\n",
        "adj_matrix = pd.crosstab(df['login'], df['name']).astype(float)\n",
        "idx = adj_matrix.columns.union(adj_matrix.index)\n",
        "adj_matrix = adj_matrix.reindex(index = idx, columns=idx, fill_value=0.0)"
      ],
      "metadata": {
        "id": "D3o-ec5imQPU"
      },
      "execution_count": 5,
      "outputs": []
    },
    {
      "cell_type": "code",
      "source": [
        "# Add user - user interactions.\n",
        "matrix_elements = np.sort(df['login'].unique(), axis=0)\n",
        "repo_len = len(df['name'].unique())\n",
        "\n",
        "def cosine_similarity(vector_a, vector_b):\n",
        "    \n",
        "    norma = (np.linalg.norm(vector_a)*np.linalg.norm(vector_b))\n",
        "\n",
        "    if norma > 0:\n",
        "\n",
        "        cos_sim = np.dot(vector_a,vector_b)/ norma\n",
        "\n",
        "    else:\n",
        "\n",
        "        cos_sim = 0\n",
        "\n",
        "    return cos_sim\n",
        "\n",
        "#Initialise an auxiliar matrix to record the user - user similarities\n",
        "shape = (len(matrix_elements), len(matrix_elements))\n",
        "aux_matrix = pd.DataFrame((np.zeros(shape=shape)), columns=matrix_elements, index=matrix_elements)\n",
        "\n",
        "for i in matrix_elements:\n",
        "    for j in matrix_elements:\n",
        "\n",
        "        # Compare row vectors\n",
        "        aux_vector_a = adj_matrix.loc[i].to_numpy()[:repo_len]\n",
        "        aux_vector_b = adj_matrix.loc[j].to_numpy()[:repo_len]\n",
        "        \n",
        "        score = cosine_similarity(aux_vector_a, aux_vector_b)\n",
        "        aux_matrix.at[i, j] = score"
      ],
      "metadata": {
        "id": "jDb_SEfmmmPg"
      },
      "execution_count": 6,
      "outputs": []
    },
    {
      "cell_type": "code",
      "source": [
        "# Set the diagonal to 0 (Same user-user interaction = 0)\n",
        "np.fill_diagonal(aux_matrix.to_numpy(), 0)"
      ],
      "metadata": {
        "id": "iSpdcZO1mwW6"
      },
      "execution_count": 7,
      "outputs": []
    },
    {
      "cell_type": "code",
      "source": [
        "# Fill adj_matrix with aux_matrix data\n",
        "for column in aux_matrix.columns:\n",
        "    for row in aux_matrix.index:\n",
        "\n",
        "        aux = aux_matrix.at[row, column]\n",
        "        adj_matrix.at[row, column] = aux"
      ],
      "metadata": {
        "id": "Csa-Hn-Km4Fk"
      },
      "execution_count": 8,
      "outputs": []
    },
    {
      "cell_type": "code",
      "source": [
        "# Compute graph metrics\n",
        "\n",
        "def graph_metrics(adj_matrix):\n",
        "  # Build the initial graph from adj_matrix.\n",
        "  G = nx.from_pandas_adjacency(adj_matrix, create_using=nx.DiGraph)\n",
        "  d = {'degree' : {node:val for (node, val) in G.degree()} ,      # measure of activity of the node.\n",
        "       'betweenness_centrality' : nx.betweenness_centrality(G)}   # measure of relative importance of the node.\n",
        "\n",
        "  metric_df = pd.DataFrame(d)\n",
        "\n",
        "  # normalise node degree values  https://www.statology.org/normalize-data-between-0-and-1/\n",
        "  # zi = (xi – min(x)) / (max(x) – min(x))\n",
        "  metric_df['degree'] = metric_df['degree'].apply(lambda x: (x - metric_df['degree'].min())/(metric_df['degree'].max() - metric_df['degree'].min()))\n",
        "  \n",
        "  #TODO:  filter users\n",
        "  \n",
        "  return metric_df"
      ],
      "metadata": {
        "id": "oISAL9HbnEw7"
      },
      "execution_count": 36,
      "outputs": []
    },
    {
      "cell_type": "code",
      "source": [
        "# TODO: plot graph metric distribution\n",
        "metric_df = graph_metrics(adj_matrix)\n",
        "metric_df.plot.scatter(x='degree', y='betweenness_centrality')"
      ],
      "metadata": {
        "colab": {
          "base_uri": "https://localhost:8080/",
          "height": 320
        },
        "id": "nb4Ja_R7p4Lp",
        "outputId": "7283c78c-b8a2-4fdb-83bc-d6181b3824f9"
      },
      "execution_count": 38,
      "outputs": [
        {
          "output_type": "execute_result",
          "data": {
            "text/plain": [
              "<matplotlib.axes._subplots.AxesSubplot at 0x7f3a9f419850>"
            ]
          },
          "metadata": {},
          "execution_count": 38
        },
        {
          "output_type": "display_data",
          "data": {
            "text/plain": [
              "<Figure size 432x288 with 1 Axes>"
            ],
            "image/png": "[encoded data removed]"
          },
          "metadata": {
            "needs_background": "light"
          }
        }
      ]
    },
    {
      "cell_type": "code",
      "source": [
        "# Evaluate metrics in terms of star-discrepancy\n",
        "def objective(candidate):\n",
        "  return qmc.discrepancy(candidate, method='L2-star',workers=-1)"
      ],
      "metadata": {
        "id": "A7YWx3ZppsJP"
      },
      "execution_count": 39,
      "outputs": []
    },
    {
      "cell_type": "code",
      "source": [
        "# TODO: \n",
        "objective(metric_df)"
      ],
      "metadata": {
        "colab": {
          "base_uri": "https://localhost:8080/"
        },
        "id": "oRLmNaW8pz4-",
        "outputId": "c70ce00a-3031-473d-a6b3-645694e90bf8"
      },
      "execution_count": 40,
      "outputs": [
        {
          "output_type": "execute_result",
          "data": {
            "text/plain": [
              "0.6763834378398914"
            ]
          },
          "metadata": {},
          "execution_count": 40
        }
      ]
    },
    {
      "cell_type": "code",
      "source": [
        "# Mutator, give it an adj_matrix, and it will return the mutated adj_matrix.\n",
        "\n",
        "def mutate(adj_matrix, node): # Do I nedd to pass the node? or should I ramdomly choose one?\n",
        "\n",
        "  # Create a graph from the adj. matrix, and list the connected componnets.\n",
        "  G = nx.from_pandas_adjacency(adj_matrix, create_using=nx.DiGraph)\n",
        "  connected_components = list(nx.weakly_connected_components(G))\n",
        "\n",
        "  # Define a method to return the connected component of a particular node.\n",
        "  def get_component(node, connected_components):\n",
        "    for component in connected_components:\n",
        "      if node in component:\n",
        "        return component\n",
        "    else:\n",
        "      return set()\n",
        "\n",
        "  # get adj_matrix of the node's connected component (sub graph) \n",
        "  sub_am = nx.to_pandas_adjacency(G, list(get_component(node, connected_components)))\n",
        "\n",
        "  # Mutate, keep iterating (shuffling) until .loc[node,node] = 0.0\n",
        "  aux = False\n",
        "  while aux is False:\n",
        "    np.random.shuffle(sub_am.loc[node])\n",
        "    if sub_am.loc[node,node] == 0.0:\n",
        "      aux = True\n",
        "\n",
        "  # Fill adj_matrix with sub graph adj. matrix (sub_am) data\n",
        "  for column in sub_am.columns:\n",
        "      for row in sub_am.index:\n",
        "\n",
        "          aux = sub_am.at[row, column]\n",
        "          adj_matrix.at[row, column] = aux\n",
        "\n",
        "  adj_matrix.loc[sub_am.index,sub_am.columns]\n",
        "\n",
        "  return adj_matrix"
      ],
      "metadata": {
        "id": "gbNvB4Lr0bpQ"
      },
      "execution_count": null,
      "outputs": []
    },
    {
      "cell_type": "code",
      "source": [
        "# es_plus"
      ],
      "metadata": {
        "id": "KpDkGMc_p84M"
      },
      "execution_count": null,
      "outputs": []
    }
  ]
}