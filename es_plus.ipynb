{
  "nbformat": 4,
  "nbformat_minor": 0,
  "metadata": {
    "colab": {
      "name": "es_plus.ipynb",
      "provenance": [],
      "authorship_tag": "ABX9TyPWQjLz62qchrptS4UnDT2o",
      "include_colab_link": true
    },
    "kernelspec": {
      "name": "python3",
      "display_name": "Python 3"
    },
    "language_info": {
      "name": "python"
    }
  },
  "cells": [
    {
      "cell_type": "markdown",
      "metadata": {
        "id": "view-in-github",
        "colab_type": "text"
      },
      "source": [
        "<a href=\"https://colab.research.google.com/github/fzanart/Socialz/blob/main/es_plus.ipynb\" target=\"_parent\"><img src=\"https://colab.research.google.com/assets/colab-badge.svg\" alt=\"Open In Colab\"/></a>"
      ]
    },
    {
      "cell_type": "code",
      "source": [
        "!pip install scipy --upgrade"
      ],
      "metadata": {
        "colab": {
          "base_uri": "https://localhost:8080/"
        },
        "id": "13yaxIrCl2Ln",
        "outputId": "318d73e1-6a15-4c03-fb8c-8771ad5e8edf"
      },
      "execution_count": 1,
      "outputs": [
        {
          "output_type": "stream",
          "name": "stdout",
          "text": [
            "Requirement already satisfied: scipy in /usr/local/lib/python3.7/dist-packages (1.7.3)\n",
            "Requirement already satisfied: numpy<1.23.0,>=1.16.5 in /usr/local/lib/python3.7/dist-packages (from scipy) (1.21.6)\n"
          ]
        }
      ]
    },
    {
      "cell_type": "code",
      "execution_count": 2,
      "metadata": {
        "colab": {
          "base_uri": "https://localhost:8080/"
        },
        "id": "0IzNLhfgkHDP",
        "outputId": "d013aca4-fffe-41aa-e5b6-9ec78234c2ce"
      },
      "outputs": [
        {
          "output_type": "stream",
          "name": "stdout",
          "text": [
            "Drive already mounted at /content/drive/; to attempt to forcibly remount, call drive.mount(\"/content/drive/\", force_remount=True).\n"
          ]
        }
      ],
      "source": [
        "import numpy as np\n",
        "import pandas as pd\n",
        "import json\n",
        "import networkx as nx\n",
        "import matplotlib.pyplot as plt\n",
        "from google.colab import drive\n",
        "drive.mount('/content/drive/')\n",
        "import random\n",
        "from scipy.stats import qmc\n",
        "from tqdm import tqdm\n",
        "import time"
      ]
    },
    {
      "cell_type": "code",
      "source": [
        "# Read the data\n",
        "df = pd.read_csv('/content/drive/MyDrive/Socialz/cobol_pullrequests.csv', usecols=['login', 'name'])\n",
        "df"
      ],
      "metadata": {
        "colab": {
          "base_uri": "https://localhost:8080/",
          "height": 433
        },
        "id": "zCDZN_H3mFDX",
        "outputId": "ddefd8ce-6e6a-4895-e7a0-dceb4443ed1a"
      },
      "execution_count": 3,
      "outputs": [
        {
          "output_type": "execute_result",
          "data": {
            "text/plain": [
              "                             login                                 name\n",
              "0                     vim-sroberge                           vimaec/g3d\n",
              "1                     vim-sroberge                           vimaec/g3d\n",
              "2                     vim-sroberge                           vimaec/g3d\n",
              "3                     vim-sroberge                           vimaec/g3d\n",
              "4                         mavimaec                           vimaec/g3d\n",
              "...                            ...                                  ...\n",
              "1328  joe-tingsanchali-sonarsource  SonarSource/sonar-scanning-examples\n",
              "1329  joe-tingsanchali-sonarsource  SonarSource/sonar-scanning-examples\n",
              "1330  joe-tingsanchali-sonarsource  SonarSource/sonar-scanning-examples\n",
              "1331  joe-tingsanchali-sonarsource  SonarSource/sonar-scanning-examples\n",
              "1332  joe-tingsanchali-sonarsource  SonarSource/sonar-scanning-examples\n",
              "\n",
              "[1333 rows x 2 columns]"
            ],
            "text/html": [
              "\n",
              "  <div id=\"df-5340c793-7139-4ba2-9e98-f4cd82efc7b4\">\n",
              "    <div class=\"colab-df-container\">\n",
              "      <div>\n",
              "<style scoped>\n",
              "    .dataframe tbody tr th:only-of-type {\n",
              "        vertical-align: middle;\n",
              "    }\n",
              "\n",
              "    .dataframe tbody tr th {\n",
              "        vertical-align: top;\n",
              "    }\n",
              "\n",
              "    .dataframe thead th {\n",
              "        text-align: right;\n",
              "    }\n",
              "</style>\n",
              "<table border=\"1\" class=\"dataframe\">\n",
              "  <thead>\n",
              "    <tr style=\"text-align: right;\">\n",
              "      <th></th>\n",
              "      <th>login</th>\n",
              "      <th>name</th>\n",
              "    </tr>\n",
              "  </thead>\n",
              "  <tbody>\n",
              "    <tr>\n",
              "      <th>0</th>\n",
              "      <td>vim-sroberge</td>\n",
              "      <td>vimaec/g3d</td>\n",
              "    </tr>\n",
              "    <tr>\n",
              "      <th>1</th>\n",
              "      <td>vim-sroberge</td>\n",
              "      <td>vimaec/g3d</td>\n",
              "    </tr>\n",
              "    <tr>\n",
              "      <th>2</th>\n",
              "      <td>vim-sroberge</td>\n",
              "      <td>vimaec/g3d</td>\n",
              "    </tr>\n",
              "    <tr>\n",
              "      <th>3</th>\n",
              "      <td>vim-sroberge</td>\n",
              "      <td>vimaec/g3d</td>\n",
              "    </tr>\n",
              "    <tr>\n",
              "      <th>4</th>\n",
              "      <td>mavimaec</td>\n",
              "      <td>vimaec/g3d</td>\n",
              "    </tr>\n",
              "    <tr>\n",
              "      <th>...</th>\n",
              "      <td>...</td>\n",
              "      <td>...</td>\n",
              "    </tr>\n",
              "    <tr>\n",
              "      <th>1328</th>\n",
              "      <td>joe-tingsanchali-sonarsource</td>\n",
              "      <td>SonarSource/sonar-scanning-examples</td>\n",
              "    </tr>\n",
              "    <tr>\n",
              "      <th>1329</th>\n",
              "      <td>joe-tingsanchali-sonarsource</td>\n",
              "      <td>SonarSource/sonar-scanning-examples</td>\n",
              "    </tr>\n",
              "    <tr>\n",
              "      <th>1330</th>\n",
              "      <td>joe-tingsanchali-sonarsource</td>\n",
              "      <td>SonarSource/sonar-scanning-examples</td>\n",
              "    </tr>\n",
              "    <tr>\n",
              "      <th>1331</th>\n",
              "      <td>joe-tingsanchali-sonarsource</td>\n",
              "      <td>SonarSource/sonar-scanning-examples</td>\n",
              "    </tr>\n",
              "    <tr>\n",
              "      <th>1332</th>\n",
              "      <td>joe-tingsanchali-sonarsource</td>\n",
              "      <td>SonarSource/sonar-scanning-examples</td>\n",
              "    </tr>\n",
              "  </tbody>\n",
              "</table>\n",
              "<p>1333 rows × 2 columns</p>\n",
              "</div>\n",
              "      <button class=\"colab-df-convert\" onclick=\"convertToInteractive('df-5340c793-7139-4ba2-9e98-f4cd82efc7b4')\"\n",
              "              title=\"Convert this dataframe to an interactive table.\"\n",
              "              style=\"display:none;\">\n",
              "        \n",
              "  <svg xmlns=\"http://www.w3.org/2000/svg\" height=\"24px\"viewBox=\"0 0 24 24\"\n",
              "       width=\"24px\">\n",
              "    <path d=\"M0 0h24v24H0V0z\" fill=\"none\"/>\n",
              "    <path d=\"M18.56 5.44l.94 2.06.94-2.06 2.06-.94-2.06-.94-.94-2.06-.94 2.06-2.06.94zm-11 1L8.5 8.5l.94-2.06 2.06-.94-2.06-.94L8.5 2.5l-.94 2.06-2.06.94zm10 10l.94 2.06.94-2.06 2.06-.94-2.06-.94-.94-2.06-.94 2.06-2.06.94z\"/><path d=\"M17.41 7.96l-1.37-1.37c-.4-.4-.92-.59-1.43-.59-.52 0-1.04.2-1.43.59L10.3 9.45l-7.72 7.72c-.78.78-.78 2.05 0 2.83L4 21.41c.39.39.9.59 1.41.59.51 0 1.02-.2 1.41-.59l7.78-7.78 2.81-2.81c.8-.78.8-2.07 0-2.86zM5.41 20L4 18.59l7.72-7.72 1.47 1.35L5.41 20z\"/>\n",
              "  </svg>\n",
              "      </button>\n",
              "      \n",
              "  <style>\n",
              "    .colab-df-container {\n",
              "      display:flex;\n",
              "      flex-wrap:wrap;\n",
              "      gap: 12px;\n",
              "    }\n",
              "\n",
              "    .colab-df-convert {\n",
              "      background-color: #E8F0FE;\n",
              "      border: none;\n",
              "      border-radius: 50%;\n",
              "      cursor: pointer;\n",
              "      display: none;\n",
              "      fill: #1967D2;\n",
              "      height: 32px;\n",
              "      padding: 0 0 0 0;\n",
              "      width: 32px;\n",
              "    }\n",
              "\n",
              "    .colab-df-convert:hover {\n",
              "      background-color: #E2EBFA;\n",
              "      box-shadow: 0px 1px 2px rgba(60, 64, 67, 0.3), 0px 1px 3px 1px rgba(60, 64, 67, 0.15);\n",
              "      fill: #174EA6;\n",
              "    }\n",
              "\n",
              "    [theme=dark] .colab-df-convert {\n",
              "      background-color: #3B4455;\n",
              "      fill: #D2E3FC;\n",
              "    }\n",
              "\n",
              "    [theme=dark] .colab-df-convert:hover {\n",
              "      background-color: #434B5C;\n",
              "      box-shadow: 0px 1px 3px 1px rgba(0, 0, 0, 0.15);\n",
              "      filter: drop-shadow(0px 1px 2px rgba(0, 0, 0, 0.3));\n",
              "      fill: #FFFFFF;\n",
              "    }\n",
              "  </style>\n",
              "\n",
              "      <script>\n",
              "        const buttonEl =\n",
              "          document.querySelector('#df-5340c793-7139-4ba2-9e98-f4cd82efc7b4 button.colab-df-convert');\n",
              "        buttonEl.style.display =\n",
              "          google.colab.kernel.accessAllowed ? 'block' : 'none';\n",
              "\n",
              "        async function convertToInteractive(key) {\n",
              "          const element = document.querySelector('#df-5340c793-7139-4ba2-9e98-f4cd82efc7b4');\n",
              "          const dataTable =\n",
              "            await google.colab.kernel.invokeFunction('convertToInteractive',\n",
              "                                                     [key], {});\n",
              "          if (!dataTable) return;\n",
              "\n",
              "          const docLinkHtml = 'Like what you see? Visit the ' +\n",
              "            '<a target=\"_blank\" href=https://colab.research.google.com/notebooks/data_table.ipynb>data table notebook</a>'\n",
              "            + ' to learn more about interactive tables.';\n",
              "          element.innerHTML = '';\n",
              "          dataTable['output_type'] = 'display_data';\n",
              "          await google.colab.output.renderOutput(dataTable, element);\n",
              "          const docLink = document.createElement('div');\n",
              "          docLink.innerHTML = docLinkHtml;\n",
              "          element.appendChild(docLink);\n",
              "        }\n",
              "      </script>\n",
              "    </div>\n",
              "  </div>\n",
              "  "
            ]
          },
          "metadata": {},
          "execution_count": 3
        }
      ]
    },
    {
      "cell_type": "code",
      "source": [
        "# Add user (u: ) repo (r: ) indicator for each node\n",
        "df['login'] = df['login'].apply(lambda x: 'u: '+x)\n",
        "df['name'] = df['name'].apply(lambda x: 'r: '+x)"
      ],
      "metadata": {
        "id": "nkj9YXbemKaY"
      },
      "execution_count": 4,
      "outputs": []
    },
    {
      "cell_type": "code",
      "source": [
        "# Build the adjacency matrix for user - repo (and repo - user) interactions.\n",
        "adj_matrix = pd.crosstab(df['login'], df['name']).astype(float)\n",
        "idx = adj_matrix.columns.union(adj_matrix.index)\n",
        "adj_matrix = adj_matrix.reindex(index = idx, columns=idx, fill_value=0.0)"
      ],
      "metadata": {
        "id": "D3o-ec5imQPU"
      },
      "execution_count": 5,
      "outputs": []
    },
    {
      "cell_type": "code",
      "source": [
        "# Add user - user interactions.\n",
        "matrix_elements = np.sort(df['login'].unique(), axis=0)\n",
        "repo_len = len(df['name'].unique())\n",
        "\n",
        "def cosine_similarity(vector_a, vector_b):\n",
        "    \n",
        "    norma = (np.linalg.norm(vector_a)*np.linalg.norm(vector_b))\n",
        "\n",
        "    if norma > 0:\n",
        "\n",
        "        cos_sim = np.dot(vector_a,vector_b)/ norma\n",
        "\n",
        "    else:\n",
        "\n",
        "        cos_sim = 0\n",
        "\n",
        "    return cos_sim\n",
        "\n",
        "#Initialise an auxiliar matrix to record the user - user similarities\n",
        "shape = (len(matrix_elements), len(matrix_elements))\n",
        "aux_matrix = pd.DataFrame((np.zeros(shape=shape)), columns=matrix_elements, index=matrix_elements)\n",
        "\n",
        "for i in matrix_elements:\n",
        "    for j in matrix_elements:\n",
        "\n",
        "        # Compare row vectors\n",
        "        aux_vector_a = adj_matrix.loc[i].to_numpy()[:repo_len]\n",
        "        aux_vector_b = adj_matrix.loc[j].to_numpy()[:repo_len]\n",
        "        \n",
        "        score = cosine_similarity(aux_vector_a, aux_vector_b)\n",
        "        aux_matrix.at[i, j] = score"
      ],
      "metadata": {
        "id": "jDb_SEfmmmPg"
      },
      "execution_count": 6,
      "outputs": []
    },
    {
      "cell_type": "code",
      "source": [
        "# Set the diagonal to 0 (Same user-user interaction = 0)\n",
        "np.fill_diagonal(aux_matrix.to_numpy(), 0)"
      ],
      "metadata": {
        "id": "iSpdcZO1mwW6"
      },
      "execution_count": 7,
      "outputs": []
    },
    {
      "cell_type": "code",
      "source": [
        "# Fill adj_matrix with aux_matrix data\n",
        "for column in aux_matrix.columns:\n",
        "    for row in aux_matrix.index:\n",
        "\n",
        "        aux = aux_matrix.at[row, column]\n",
        "        adj_matrix.at[row, column] = aux"
      ],
      "metadata": {
        "id": "Csa-Hn-Km4Fk"
      },
      "execution_count": 8,
      "outputs": []
    },
    {
      "cell_type": "code",
      "source": [
        "# Compute graph metrics\n",
        "\n",
        "def graph_metrics(adj_matrix):\n",
        "  # Build the initial graph from adj_matrix.\n",
        "  G = nx.from_pandas_adjacency(adj_matrix, create_using=nx.DiGraph)\n",
        "  d = {'degree' : {node:val for (node, val) in G.degree()} ,      # measure of activity of the node.\n",
        "       'betweenness_centrality' : nx.betweenness_centrality(G)}   # measure of relative importance of the node.\n",
        "\n",
        "  metric_df = pd.DataFrame(d)\n",
        "\n",
        "  # normalise node degree values  https://www.statology.org/normalize-data-between-0-and-1/\n",
        "  # zi = (xi – min(x)) / (max(x) – min(x))\n",
        "  metric_df['degree'] = metric_df['degree'].apply(lambda x: (x - metric_df['degree'].min())/(metric_df['degree'].max() - metric_df['degree'].min()))\n",
        "  \n",
        "  #TODO:  filter users\n",
        "  \n",
        "  return metric_df"
      ],
      "metadata": {
        "id": "oISAL9HbnEw7"
      },
      "execution_count": 9,
      "outputs": []
    },
    {
      "cell_type": "code",
      "source": [
        "# Evaluate degree and betweenness centrality.\n",
        "metric_df = graph_metrics(adj_matrix)\n",
        "\n",
        "# Plot graph metric distribution, filtered by users.\n",
        "metric_udf = metric_df[metric_df.index.str.startswith('u: ')]\n",
        "\n",
        "fig, ax = plt.subplots()\n",
        "ax.scatter(metric_udf['degree'],metric_udf['betweenness_centrality'],edgecolor=\"k\", c=\"r\")\n",
        "ax.set_xlabel('Degree')\n",
        "ax.set_ylabel('Betweenness centrality')\n",
        "ax.annotate('mike', (metric_udf.loc['u: mikeharrisontelia'][0], metric_udf.loc['u: mikeharrisontelia'][1]))\n",
        "\n",
        "plt.show()\n",
        "\n",
        "# 'u: ralphnuessecpwr'       #'u: mikeharrisontelia'"
      ],
      "metadata": {
        "colab": {
          "base_uri": "https://localhost:8080/",
          "height": 303
        },
        "id": "nb4Ja_R7p4Lp",
        "outputId": "bd180ddb-9302-424e-d425-0d548c227010"
      },
      "execution_count": 10,
      "outputs": [
        {
          "output_type": "display_data",
          "data": {
            "text/plain": [
              "<Figure size 432x288 with 1 Axes>"
            ],
            "image/png": "[encoded data removed]"
          },
          "metadata": {
            "needs_background": "light"
          }
        }
      ]
    },
    {
      "cell_type": "code",
      "source": [
        "# Evaluate metrics in terms of star-discrepancy\n",
        "def objective(candidate):\n",
        "  return qmc.discrepancy(candidate, method='L2-star',workers=-1)"
      ],
      "metadata": {
        "id": "A7YWx3ZppsJP"
      },
      "execution_count": 11,
      "outputs": []
    },
    {
      "cell_type": "code",
      "source": [
        "# Initial evluation \n",
        "objective(metric_df)"
      ],
      "metadata": {
        "colab": {
          "base_uri": "https://localhost:8080/"
        },
        "id": "oRLmNaW8pz4-",
        "outputId": "03702f4f-cc75-4753-c314-453f9d3e7fd8"
      },
      "execution_count": 12,
      "outputs": [
        {
          "output_type": "execute_result",
          "data": {
            "text/plain": [
              "0.6763834378398914"
            ]
          },
          "metadata": {},
          "execution_count": 12
        }
      ]
    },
    {
      "cell_type": "code",
      "source": [
        "# Mutator, give it an adj_matrix, and it will return the mutated adj_matrix.\n",
        "\n",
        "def mutate(adj_matrix, node): # Do I nedd to pass the node? or should I ramdomly choose one?\n",
        "\n",
        "  am = adj_matrix.copy()\n",
        "\n",
        "  # Create a graph from the adj. matrix, and list the connected componnets.\n",
        "  G = nx.from_pandas_adjacency(am, create_using=nx.DiGraph)\n",
        "  connected_components = list(nx.weakly_connected_components(G))\n",
        "\n",
        "  # Define a method to return the connected component of a particular node.\n",
        "  def get_component(node, connected_components):\n",
        "    for component in connected_components:\n",
        "      if node in component:\n",
        "        return component\n",
        "    else:\n",
        "      return set()\n",
        "\n",
        "  # get adj_matrix of the node's connected component (sub graph) \n",
        "  sub_am = nx.to_pandas_adjacency(G, list(get_component(node, connected_components)))\n",
        "\n",
        "  # Mutate, keep iterating (shuffling) until .loc[node,node] = 0.0\n",
        "  aux = False\n",
        "  while aux is False:\n",
        "    np.random.shuffle(sub_am.loc[node]) # to ignore warning try sample(frac=1)\n",
        "    if sub_am.loc[node,node] == 0.0:\n",
        "      aux = True\n",
        "\n",
        "  # Fill adj_matrix with sub graph adj. matrix (sub_am) data\n",
        "  for column in sub_am.columns:\n",
        "      for row in sub_am.index:\n",
        "\n",
        "          aux = sub_am.at[row, column]\n",
        "          am.at[row, column] = aux\n",
        "\n",
        "  return am"
      ],
      "metadata": {
        "id": "gbNvB4Lr0bpQ"
      },
      "execution_count": 13,
      "outputs": []
    },
    {
      "cell_type": "code",
      "source": [
        "# compare graph metrics\n",
        "# test mutator\n",
        "\n",
        "# 'u: ralphnuessecpwr'\n",
        "# 'u: mikeharrisontelia' \n",
        "# 'u: fabiocosta0305'\n",
        "\n",
        "node = 'u: mikeharrisontelia'       \n",
        "am = mutate(adj_matrix, node)\n",
        "metric_mdf = graph_metrics(am)\n",
        "\n",
        "metric_umdf = metric_mdf[metric_mdf.index.str.startswith('u: ')]\n",
        "\n",
        "fig, ax = plt.subplots()\n",
        "ax.scatter(metric_umdf['degree'],metric_umdf['betweenness_centrality'],edgecolor=\"k\", c=\"r\")\n",
        "ax.set_xlabel('Degree')\n",
        "ax.set_ylabel('Betweenness centrality')\n",
        "ax.annotate('mike', (metric_umdf.loc['u: mikeharrisontelia'][0], metric_umdf.loc['u: mikeharrisontelia'][1]))\n",
        "\n",
        "plt.show()\n",
        "\n",
        "print('discreprancy: ', objective(graph_metrics(am)))"
      ],
      "metadata": {
        "colab": {
          "base_uri": "https://localhost:8080/",
          "height": 333
        },
        "id": "wKc9NrmQ4bCS",
        "outputId": "978cedbd-21b7-4a04-b29b-ebb9f98b1509"
      },
      "execution_count": 14,
      "outputs": [
        {
          "output_type": "stream",
          "name": "stderr",
          "text": [
            "/usr/local/lib/python3.7/dist-packages/ipykernel_launcher.py:25: UserWarning: you are shuffling a 'Series' object which is not a subclass of 'Sequence'; `shuffle` is not guaranteed to behave correctly. E.g., non-numpy array/tensor objects with view semantics may contain duplicates after shuffling.\n"
          ]
        },
        {
          "output_type": "display_data",
          "data": {
            "text/plain": [
              "<Figure size 432x288 with 1 Axes>"
            ],
            "image/png": "[encoded data removed]"
          },
          "metadata": {
            "needs_background": "light"
          }
        },
        {
          "output_type": "stream",
          "name": "stdout",
          "text": [
            "discreprancy:  0.6765073817191457\n"
          ]
        }
      ]
    },
    {
      "cell_type": "code",
      "source": [
        "# evolution strategy (mu, lambda) algorithm\n",
        "def es_plus(initial_record, objective, n_iter, mu, lam):\n",
        "  best, best_eval = None, 1e+10\n",
        "\t# calculate the number of children per parent\n",
        "  n_children = int(lam / mu)\n",
        "\t\n",
        "  # initial population\n",
        "  population = list()\n",
        "  \n",
        "  for i in range(lam):\n",
        "    candidate = initial_record.copy()       # copy the initial matrix\n",
        "    sample = candidate.sample(1).index[0]  # get a random node\n",
        "    candidate = mutate(candidate, sample)   # mutate\n",
        "    population.append(candidate)            # add to population\n",
        "\n",
        "  # perform the search\n",
        "  for epoch in range(n_iter):\n",
        "    # evaluate the fitness for the population\n",
        "    scores = [objective(graph_metrics(candidate)) for candidate in population]\n",
        "    # rank scores in ascending order\n",
        "    ranks = np.argsort(np.argsort(scores))\n",
        "    # select the indexes for the top mu ranked solutions, drop the worse results\t\n",
        "    selected = [i for i,_ in enumerate(ranks) if ranks[i] < mu]\n",
        "    # create offspring from parents\n",
        "    offspring = list()\n",
        "    for i in selected:\n",
        "      # check if this parent is the best solution ever seen\n",
        "      if scores[i] < best_eval:\n",
        "        best, best_eval = population[i], scores[i]\n",
        "        print('%d, Best eval: = %.5f' % (epoch, best_eval))\n",
        "        \n",
        "        # keep the parent\n",
        "        offspring.append(population[i])\n",
        "\n",
        "        # create offspring for parent\n",
        "        for j in range(n_children):\n",
        "\n",
        "          sample = population[i].sample(1).index[0]\n",
        "          child = mutate(population[i], sample)\n",
        "          offspring.append(child)\n",
        "\n",
        "    # replace population with children\n",
        "    population = offspring\n",
        "\n",
        "  return [best, best_eval]"
      ],
      "metadata": {
        "id": "abygAwTTQM7y"
      },
      "execution_count": 17,
      "outputs": []
    },
    {
      "cell_type": "code",
      "source": [
        "# define the total iterationsja\n",
        "n_iter = 200000\n",
        "# number of parents selected\n",
        "mu = 1\n",
        "# the number of children generated by parents\n",
        "lam = 20\n",
        "# perform the evolution strategy (mu, lambda) search\n",
        "best, score = es_plus(adj_matrix, objective, n_iter, mu, lam)"
      ],
      "metadata": {
        "colab": {
          "base_uri": "https://localhost:8080/"
        },
        "id": "V6AeW6EcTnLz",
        "outputId": "b1937309-8d52-4601-87ba-b62faebf1b3e"
      },
      "execution_count": 20,
      "outputs": [
        {
          "output_type": "stream",
          "name": "stderr",
          "text": [
            "/usr/local/lib/python3.7/dist-packages/ipykernel_launcher.py:25: UserWarning: you are shuffling a 'Series' object which is not a subclass of 'Sequence'; `shuffle` is not guaranteed to behave correctly. E.g., non-numpy array/tensor objects with view semantics may contain duplicates after shuffling.\n"
          ]
        },
        {
          "output_type": "stream",
          "name": "stdout",
          "text": [
            "0, Best eval: = 0.67637\n",
            "1, Best eval: = 0.67467\n",
            "2, Best eval: = 0.67298\n",
            "3, Best eval: = 0.67113\n",
            "4, Best eval: = 0.66915\n",
            "5, Best eval: = 0.66708\n",
            "6, Best eval: = 0.66504\n",
            "7, Best eval: = 0.66275\n",
            "8, Best eval: = 0.65129\n",
            "9, Best eval: = 0.64870\n"
          ]
        }
      ]
    },
    {
      "cell_type": "code",
      "source": [
        "node = 'u: mikeharrisontelia'       \n",
        "\n",
        "metric = graph_metrics(best)\n",
        "\n",
        "metric_u = metric[metric.index.str.startswith('u: ')]\n",
        "\n",
        "fig, ax = plt.subplots()\n",
        "ax.scatter(metric_u['degree'],metric_u['betweenness_centrality'],edgecolor=\"k\", c=\"r\")\n",
        "ax.set_xlabel('Degree')\n",
        "ax.set_ylabel('Betweenness centrality')\n",
        "ax.annotate('mike', (metric_u.loc[node][0], metric_u.loc[node][1]))\n",
        "\n",
        "plt.show()"
      ],
      "metadata": {
        "colab": {
          "base_uri": "https://localhost:8080/",
          "height": 300
        },
        "id": "3rX9t7Ymddlh",
        "outputId": "c00fe565-78db-41a2-d054-27ad22c3266c"
      },
      "execution_count": 22,
      "outputs": [
        {
          "output_type": "display_data",
          "data": {
            "text/plain": [
              "<Figure size 432x288 with 1 Axes>"
            ],
            "image/png": "[encoded data removed]"
          },
          "metadata": {
            "needs_background": "light"
          }
        }
      ]
    }
  ]
}