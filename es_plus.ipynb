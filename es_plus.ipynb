{
  "nbformat": 4,
  "nbformat_minor": 0,
  "metadata": {
    "colab": {
      "name": "es_plus.ipynb",
      "provenance": [],
      "authorship_tag": "ABX9TyM43X0r41nFgp70FoBIt3h0",
      "include_colab_link": true
    },
    "kernelspec": {
      "name": "python3",
      "display_name": "Python 3"
    },
    "language_info": {
      "name": "python"
    }
  },
  "cells": [
    {
      "cell_type": "markdown",
      "metadata": {
        "id": "view-in-github",
        "colab_type": "text"
      },
      "source": [
        "<a href=\"https://colab.research.google.com/github/fzanart/Socialz/blob/main/es_plus.ipynb\" target=\"_parent\"><img src=\"https://colab.research.google.com/assets/colab-badge.svg\" alt=\"Open In Colab\"/></a>"
      ]
    },
    {
      "cell_type": "code",
      "source": [
        "!pip install scipy --upgrade"
      ],
      "metadata": {
        "id": "13yaxIrCl2Ln"
      },
      "execution_count": null,
      "outputs": []
    },
    {
      "cell_type": "code",
      "execution_count": null,
      "metadata": {
        "id": "0IzNLhfgkHDP"
      },
      "outputs": [],
      "source": [
        "import numpy as np\n",
        "import pandas as pd\n",
        "import json\n",
        "import networkx as nx\n",
        "import matplotlib.pyplot as plt\n",
        "from google.colab import drive\n",
        "drive.mount('/content/drive/')\n",
        "import random\n",
        "from scipy.stats import qmc\n",
        "from tqdm import tqdm\n",
        "import time"
      ]
    },
    {
      "cell_type": "code",
      "source": [
        "# Read the data\n",
        "df = pd.read_csv('/content/drive/MyDrive/Socialz/cobol_pullrequests.csv', usecols=['login', 'name'])\n",
        "df"
      ],
      "metadata": {
        "id": "zCDZN_H3mFDX"
      },
      "execution_count": null,
      "outputs": []
    },
    {
      "cell_type": "code",
      "source": [
        "# Add user (u: ) repo (r: ) indicator for each node\n",
        "df['login'] = df['login'].apply(lambda x: 'u: '+x)\n",
        "df['name'] = df['name'].apply(lambda x: 'r: '+x)"
      ],
      "metadata": {
        "id": "nkj9YXbemKaY"
      },
      "execution_count": null,
      "outputs": []
    },
    {
      "cell_type": "code",
      "source": [
        "# Build the adjacency matrix for user - repo (and repo - user) interactions.\n",
        "adj_matrix = pd.crosstab(df['login'], df['name']).astype(float)\n",
        "idx = adj_matrix.columns.union(adj_matrix.index)\n",
        "adj_matrix = adj_matrix.reindex(index = idx, columns=idx, fill_value=0.0)"
      ],
      "metadata": {
        "id": "D3o-ec5imQPU"
      },
      "execution_count": null,
      "outputs": []
    },
    {
      "cell_type": "code",
      "source": [
        "# Add user - user interactions.\n",
        "matrix_elements = np.sort(df['login'].unique(), axis=0)\n",
        "repo_len = len(df['name'].unique())\n",
        "\n",
        "def  cosine_similarity(vector_a, vector_b):\n",
        "    \n",
        "    norma = (np.linalg.norm(vector_a)*np.linalg.norm(vector_b))\n",
        "\n",
        "    if norma > 0:\n",
        "\n",
        "        cos_sim = np.dot(vector_a,vector_b)/ norma\n",
        "\n",
        "    else:\n",
        "\n",
        "        cos_sim = 0\n",
        "\n",
        "    return cos_sim\n",
        "\n",
        "#Initialise an auxiliar matrix to record the user - user similarities\n",
        "shape = (len(matrix_elements), len(matrix_elements))\n",
        "aux_matrix = pd.DataFrame((np.zeros(shape=shape)), columns=matrix_elements, index=matrix_elements)\n",
        "\n",
        "for i in matrix_elements:\n",
        "    for j in matrix_elements:\n",
        "\n",
        "        # Compare row vectors\n",
        "        aux_vector_a = adj_matrix.loc[i].to_numpy()[:repo_len]\n",
        "        aux_vector_b = adj_matrix.loc[j].to_numpy()[:repo_len]\n",
        "        \n",
        "        score = cosine_similarity(aux_vector_a, aux_vector_b)\n",
        "        aux_matrix.at[i, j] = score"
      ],
      "metadata": {
        "id": "jDb_SEfmmmPg"
      },
      "execution_count": null,
      "outputs": []
    },
    {
      "cell_type": "code",
      "source": [
        "# Set the diagonal to 0 (Same user-user interaction = 0)\n",
        "np.fill_diagonal(aux_matrix.to_numpy(), 0)"
      ],
      "metadata": {
        "id": "iSpdcZO1mwW6"
      },
      "execution_count": null,
      "outputs": []
    },
    {
      "cell_type": "code",
      "source": [
        "# Fill adj_matrix with aux_matrix data\n",
        "for column in aux_matrix.columns:\n",
        "    for row in aux_matrix.index:\n",
        "\n",
        "        aux = aux_matrix.at[row, column]\n",
        "        adj_matrix.at[row, column] = aux"
      ],
      "metadata": {
        "id": "Csa-Hn-Km4Fk"
      },
      "execution_count": null,
      "outputs": []
    },
    {
      "cell_type": "code",
      "source": [
        "\n",
        "\n",
        "def graph_metrics(adj_matrix):\n",
        "  # Build the initial graph from adj_matrix.\n",
        "  G = nx.from_pandas_adjacency(adj_matrix, create_using=nx.DiGraph)\n",
        "  d = {'degree' : nx.degree(G),                                   # measure of activity of the node.\n",
        "       'betweenness_centrality' : nx.betweenness_centrality(G)}   # measure of relative importance of the node.\n",
        "\n",
        "  metric_df = pd.DataFrame(d)\n",
        "\n",
        "  #TODO:  filter users\n",
        "  #       normalise node degree values  https://www.statology.org/normalize-data-between-0-and-1/\n",
        "\n",
        "\n",
        "  return metric_df"
      ],
      "metadata": {
        "id": "oISAL9HbnEw7"
      },
      "execution_count": null,
      "outputs": []
    },
    {
      "cell_type": "code",
      "source": [
        "# TODO: plot graph metric distribution"
      ],
      "metadata": {
        "id": "nb4Ja_R7p4Lp"
      },
      "execution_count": null,
      "outputs": []
    },
    {
      "cell_type": "code",
      "source": [
        "def objective(candidate):\n",
        "  return qmc.discrepancy(candidate, method='L2-star',workers=-1)"
      ],
      "metadata": {
        "id": "A7YWx3ZppsJP"
      },
      "execution_count": null,
      "outputs": []
    },
    {
      "cell_type": "code",
      "source": [
        "# TODO: \n",
        "objective(df)"
      ],
      "metadata": {
        "id": "oRLmNaW8pz4-"
      },
      "execution_count": null,
      "outputs": []
    },
    {
      "cell_type": "code",
      "source": [
        ""
      ],
      "metadata": {
        "id": "KpDkGMc_p84M"
      },
      "execution_count": null,
      "outputs": []
    }
  ]
}