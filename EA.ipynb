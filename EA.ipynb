{
  "nbformat": 4,
  "nbformat_minor": 0,
  "metadata": {
    "colab": {
      "name": "EA.ipynb",
      "provenance": [],
      "authorship_tag": "ABX9TyMmKCrxcdz2ccn18sHnmtx1",
      "include_colab_link": true
    },
    "kernelspec": {
      "name": "python3",
      "display_name": "Python 3"
    },
    "language_info": {
      "name": "python"
    }
  },
  "cells": [
    {
      "cell_type": "markdown",
      "metadata": {
        "id": "view-in-github",
        "colab_type": "text"
      },
      "source": [
        "<a href=\"https://colab.research.google.com/github/fzanart/Socialz/blob/main/EA.ipynb\" target=\"_parent\"><img src=\"https://colab.research.google.com/assets/colab-badge.svg\" alt=\"Open In Colab\"/></a>"
      ]
    },
    {
      "cell_type": "code",
      "execution_count": null,
      "metadata": {
        "id": "ui1zFt6gsacC"
      },
      "outputs": [],
      "source": [
        "# Algorithm 1 Generate a random TSP instance.\n",
        "def randomInstance(size):\n",
        "  for i = 1 → size do \n",
        "    instance[i, 1] ← U(0, 1) #? Uniform random number between 0 and 1 \n",
        "    instance[i, 2] ← U(0, 1) #? Uniform random number between 0 and 1\n",
        "  return instance\n"
      ]
    },
    {
      "cell_type": "code",
      "source": [
        "# Algorithm 2 EA for evolving problem easy and hard TSP instances\n",
        "def EA(popSize, instSize, generations, time_limit, cells, repetitions, type, rnd, mutationParameters) \n",
        "  poolSize ← ?popSize/2? \n",
        "  for i = 1 → popSize do \n",
        "    population[i] ← rescale(randomInstance(instSize)) \n",
        "    population[i] ← round(population[i], cells) \n",
        "    if rnd then \n",
        "    population[i] ← normalMutation(population[i]) \n",
        "    population[i] ← CutToBoundary(population[i])\n",
        "\n",
        "  for generation = 1 → generations do \n",
        "    for k = 1 → popSize do \n",
        "    fitness[k] ← computeFitness(population[k], repetitions)\n",
        "\n",
        "  matingPool ← createMatingPool(poolSize, population, fitness) \n",
        "  nextPopulation[1] ← population[bestOf(fitness)] ? 1-elitism\n",
        "\n",
        "    for k = 2 → popSize do \n",
        "    parent1 ← randomElement(matingPool) \n",
        "    parent2 ← randomElement(matingPool) \n",
        "    offspring ← uniformMutation(uniformCrossover(parent1, parent2)) \n",
        "    if !rnd then \n",
        "      offspring ← normalMutation(offspring)\n",
        "    offspring ← rescale(offspring) \n",
        "    offspring ← round(offspring, cells) \n",
        "    if rnd then \n",
        "    offspring ← normalMutation(offspring) \n",
        "    offspring ← CutToBoundary(offspring)\n",
        "\n",
        "  population ← nextPopulation \n",
        "  if over time limit time_limit then \n",
        "  return population\n"
      ],
      "metadata": {
        "id": "t6nUVl-ms7vB"
      },
      "execution_count": null,
      "outputs": []
    },
    {
      "cell_type": "code",
      "source": [
        "# Algorithm 3 Compute Fitness\n",
        "def ComputeFitness(instance, repetitions):\n",
        "  optimalTourLength ← concorde(instance)     #CONCORDE\n",
        "  for j = 1 → repetitions do \n",
        "    twoOptTourLengths[j] ← twoOpt(instance) # Two Opt Tour length\n",
        "\n",
        "  return mean(twoOptTourLengths)/optimalTourLength\n",
        "\n"
      ],
      "metadata": {
        "id": "b70UMHbfw8rn"
      },
      "execution_count": null,
      "outputs": []
    },
    {
      "cell_type": "code",
      "source": [
        "# Algorithm 4 Mating pool creation\n",
        "def createMatingPool(poolSize, population, fitness):\n",
        "  for i = 1 → poolSize do \n",
        "  matingPool[i] ← betterOf(randomElement(population), randomElement(population))\n",
        "\n",
        "  return matingPool\n"
      ],
      "metadata": {
        "id": "8RLENiIbxasv"
      },
      "execution_count": null,
      "outputs": []
    }
  ]
}