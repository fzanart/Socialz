{
  "nbformat": 4,
  "nbformat_minor": 0,
  "metadata": {
    "colab": {
      "name": "EA.ipynb",
      "provenance": [],
      "authorship_tag": "ABX9TyMqSRSvCrCKpHbesLX25I0X",
      "include_colab_link": true
    },
    "kernelspec": {
      "name": "python3",
      "display_name": "Python 3"
    },
    "language_info": {
      "name": "python"
    }
  },
  "cells": [
    {
      "cell_type": "markdown",
      "metadata": {
        "id": "view-in-github",
        "colab_type": "text"
      },
      "source": [
        "<a href=\"https://colab.research.google.com/github/fzanart/Socialz/blob/wip/EA.ipynb\" target=\"_parent\"><img src=\"https://colab.research.google.com/assets/colab-badge.svg\" alt=\"Open In Colab\"/></a>"
      ]
    },
    {
      "cell_type": "code",
      "execution_count": null,
      "metadata": {
        "id": "ui1zFt6gsacC"
      },
      "outputs": [],
      "source": [
        "# Algorithm 1 Generate a random TSP instance.\n",
        "def randomInstance(size):\n",
        "  for i = 1 → size do \n",
        "    instance[i, 1] ← U(0, 1) #? Uniform random number between 0 and 1 \n",
        "    instance[i, 2] ← U(0, 1) #? Uniform random number between 0 and 1\n",
        "  return instance\n"
      ]
    },
    {
      "cell_type": "code",
      "source": [
        "# Algorithm 2 EA for evolving problem easy and hard TSP instances\n",
        "def EA(popSize, instSize, generations, time_limit, cells, repetitions, type, rnd, mutationParameters):\n",
        "  poolSize ← ?popSize/2? \n",
        "  for i = 1 → popSize do \n",
        "    population[i] ← rescale(randomInstance(instSize)) \n",
        "    population[i] ← round(population[i], cells) \n",
        "    if rnd then \n",
        "    population[i] ← normalMutation(population[i]) \n",
        "    population[i] ← CutToBoundary(population[i])\n",
        "\n",
        "  for generation = 1 → generations do \n",
        "    for k = 1 → popSize do \n",
        "    fitness[k] ← computeFitness(population[k], repetitions)\n",
        "\n",
        "  matingPool ← createMatingPool(poolSize, population, fitness) \n",
        "  nextPopulation[1] ← population[bestOf(fitness)] ? 1-elitism\n",
        "\n",
        "    for k = 2 → popSize do \n",
        "    parent1 ← randomElement(matingPool) \n",
        "    parent2 ← randomElement(matingPool) \n",
        "    offspring ← uniformMutation(uniformCrossover(parent1, parent2)) # uniformMutation\n",
        "    if !rnd then \n",
        "      offspring ← normalMutation(offspring)\n",
        "    offspring ← rescale(offspring) \n",
        "    offspring ← round(offspring, cells) \n",
        "    if rnd then \n",
        "    offspring ← normalMutation(offspring) \n",
        "    offspring ← CutToBoundary(offspring)\n",
        "\n",
        "  population ← nextPopulation \n",
        "  if over time limit time_limit then \n",
        "  return population\n"
      ],
      "metadata": {
        "id": "t6nUVl-ms7vB"
      },
      "execution_count": null,
      "outputs": []
    },
    {
      "cell_type": "code",
      "source": [
        "# Algorithm 3 Compute Fitness\n",
        "def ComputeFitness(instance, repetitions):\n",
        "  optimalTourLength ← concorde(instance)     #CONCORDE\n",
        "  for j = 1 → repetitions do \n",
        "    twoOptTourLengths[j] ← twoOpt(instance) # Two Opt Tour length\n",
        "\n",
        "  return mean(twoOptTourLengths)/optimalTourLength\n",
        "\n"
      ],
      "metadata": {
        "id": "b70UMHbfw8rn"
      },
      "execution_count": null,
      "outputs": []
    },
    {
      "cell_type": "code",
      "source": [
        "# Algorithm 4 Mating pool creation\n",
        "def createMatingPool(poolSize, population, fitness):\n",
        "  for i = 1 → poolSize do \n",
        "  matingPool[i] ← betterOf(randomElement(population), randomElement(population))\n",
        "\n",
        "  return matingPool\n"
      ],
      "metadata": {
        "id": "8RLENiIbxasv"
      },
      "execution_count": null,
      "outputs": []
    },
    {
      "cell_type": "code",
      "source": [
        "# Algorithm 5 Rescale instance\n",
        "\n",
        "def rescale(instance):\n",
        "  mins ← column_mins(instance)\n",
        "  maxs ← column_maxs(instance)\n",
        "  scaledPop ← ((instance − mins)**T/(maxs − mins))**T  \n",
        "  \n",
        "  return scaledPop"
      ],
      "metadata": {
        "id": "jTCIAGFg8u9b"
      },
      "execution_count": null,
      "outputs": []
    },
    {
      "cell_type": "code",
      "source": [
        "# Algorithm 6 Round instance\n",
        "\n",
        "def round(instance, cells) \n",
        "  gridRnd ← createGrid(resolution = cells) \n",
        "  instRnd ← floor(instance ∗ cells)/cells \n",
        "  for i = 1 → instSize do\n",
        "    instRnd[i, ] < −SetToCellCenter(instRnd, gridRnd)\n",
        "  return instRnd"
      ],
      "metadata": {
        "id": "31N2QVvi9LxJ"
      },
      "execution_count": null,
      "outputs": []
    },
    {
      "cell_type": "code",
      "source": [
        "import numpy as np\n",
        "import random\n",
        "import operator\n",
        "import pandas as pd\n",
        "import matplotlib.pyplot as plt\n"
      ],
      "metadata": {
        "id": "HETMFQ4AP2kx"
      },
      "execution_count": 178,
      "outputs": []
    },
    {
      "cell_type": "code",
      "source": [
        "# Algorithm 1 Generate a random TSP instance.\n",
        "def randomInstance(size):\n",
        "\n",
        "  instance = []\n",
        "  \n",
        "  for i in range(size):\n",
        "    instance.append((random.uniform(0, 1),random.uniform(0, 1)))\n",
        "\n",
        "  return instance"
      ],
      "metadata": {
        "id": "dinWR0-oWv77"
      },
      "execution_count": 179,
      "outputs": []
    },
    {
      "cell_type": "code",
      "source": [
        "# Algorithm 3 Compute Fitness\n",
        "def ComputeFitness(population):\n",
        "\n",
        "  fitnessResults = {}\n",
        "\n",
        "  def routeDistance(route):\n",
        "\n",
        "    pathDistance = 0\n",
        "\n",
        "    for i in range(len(route)):\n",
        "      fromCity = route[i]\n",
        "      toCity = None\n",
        "      if i + 1 < len(route):\n",
        "        toCity = route[i + 1]\n",
        "      else:\n",
        "        toCity = route[0]\n",
        "\n",
        "      pathDistance += np.linalg.norm(np.array(fromCity) - np.array(toCity))\n",
        "\n",
        "    return pathDistance\n",
        "\n",
        "  for i in range(0,len(population)):\n",
        "    fitnessResults[i] = 1/routeDistance(population[i])\n",
        "\n",
        "  return sorted(fitnessResults.items(), key = operator.itemgetter(1), reverse = True)\n",
        "\n"
      ],
      "metadata": {
        "id": "SGkQ0qBaFc5Q"
      },
      "execution_count": 180,
      "outputs": []
    },
    {
      "cell_type": "code",
      "source": [
        "# Algorithm 2 EA for evolving problem easy and hard TSP instances\n",
        "def EA(popSize, instSize, generations, time_limit, cells, repetitions, type, rnd, mutationParameters):\n",
        "\n",
        "  cityList = randomInstance(instSize)\n",
        "\n",
        "  population = [] #first generation\n",
        "  for i in range(popSize):\n",
        "    population.append(random.sample(cityList, len(cityList))) # randomly select the order in which we visit each city.\n",
        "\n",
        "  popRanked = ComputeFitness(population)\n",
        "  print(\"Initial distance: \" + str(popRanked[0][1]))\n",
        "  \n",
        "  for i in range(generations):\n",
        "    popRanked = ComputeFitness(population)\n",
        "    matingpool = matingPool(poolSize, population, popRanked)\n",
        "    offspring = breedPopulation(matingpool, eliteSize)\n",
        "    population = mutatePopulation(offspring, mutationRate)\n",
        "  \n",
        "  print(\"Final distance: \" + str(popRanked[0][1]))\n",
        "  bestRoute = population(popRanked[0][0])\n",
        "\n",
        "  return population\n",
        "\n",
        "  # poolSize ← ?popSize/2? \n",
        "  # for i = 1 → popSize do \n",
        "  #   population[i] ← rescale(randomInstance(instSize)) \n",
        "  #   population[i] ← round(population[i], cells) \n",
        "  #   if rnd then \n",
        "  #   population[i] ← normalMutation(population[i]) \n",
        "  #   population[i] ← CutToBoundary(population[i])\n",
        "\n",
        "  # for generation = 1 → generations do \n",
        "  #   for k = 1 → popSize do \n",
        "  #   fitness[k] ← computeFitness(population[k], repetitions)\n",
        "\n",
        "  # matingPool ← createMatingPool(poolSize, population, fitness) \n",
        "  # nextPopulation[1] ← population[bestOf(fitness)] ? 1-elitism\n",
        "\n",
        "  #   for k = 2 → popSize do \n",
        "  #   parent1 ← randomElement(matingPool) \n",
        "  #   parent2 ← randomElement(matingPool) \n",
        "  #   offspring ← uniformMutation(uniformCrossover(parent1, parent2)) # uniformMutation\n",
        "  #   if !rnd then \n",
        "  #     offspring ← normalMutation(offspring)\n",
        "  #   offspring ← rescale(offspring) \n",
        "  #   offspring ← round(offspring, cells) \n",
        "  #   if rnd then \n",
        "  #   offspring ← normalMutation(offspring) \n",
        "  #   offspring ← CutToBoundary(offspring)\n",
        "\n",
        "  # population ← nextPopulation \n",
        "  # if over time limit time_limit then \n",
        "  # return population"
      ],
      "metadata": {
        "id": "uklvgYO3G5mB"
      },
      "execution_count": 181,
      "outputs": []
    },
    {
      "cell_type": "code",
      "source": [
        "popRanked = ComputeFitness(population)\n",
        "print(\"Initial distance: \" + str(popRanked[0][1]))"
      ],
      "metadata": {
        "colab": {
          "base_uri": "https://localhost:8080/"
        },
        "id": "SbN0rGRP3NVC",
        "outputId": "7f7cd017-10ac-478a-d661-2e53c90198fe"
      },
      "execution_count": 177,
      "outputs": [
        {
          "output_type": "stream",
          "name": "stdout",
          "text": [
            "Initial distance: 0.08852560494068941\n"
          ]
        }
      ]
    },
    {
      "cell_type": "code",
      "source": [
        "# Algorithm 4 Mating pool creation\n",
        "\n",
        "def createMatingPool(poolSize, population, popRanked):\n",
        "  \n",
        "  matingPool = []\n",
        "  \n",
        "  matingpool.append(population[popRanked[0][0]])\n",
        "\n",
        "  for i in range(poolSize):\n",
        "    rnd_a = random.randint(0, poolSize)\n",
        "    rnd_b = random.randint(0, poolSize)\n",
        "\n",
        "    if popRanked[rnd_a][1] >= popRanked[rnd_b][1]:\n",
        "      matingpool.append(population[popRanked[rnd_a][0]])\n",
        "    else:\n",
        "      matingpool.append(population[popRanked[rnd_b][0]])\n",
        "\n",
        "  return matingPool"
      ],
      "metadata": {
        "id": "5KsagN_Lipkq"
      },
      "execution_count": 182,
      "outputs": []
    },
    {
      "cell_type": "code",
      "source": [
        "def ordered_crossover(parent1, parent2): # all locations exactly one time.\n",
        "  child = []\n",
        "  childP1 = []\n",
        "  childP2 = []\n",
        "  \n",
        "  geneA = int(random.random() * len(parent1))\n",
        "  geneB = int(random.random() * len(parent1))\n",
        "  \n",
        "  startGene = min(geneA, geneB)\n",
        "  endGene = max(geneA, geneB)\n",
        "\n",
        "  for i in range(startGene, endGene):\n",
        "      childP1.append(parent1[i])\n",
        "      \n",
        "  childP2 = [item for item in parent2 if item not in childP1]\n",
        "\n",
        "  child = childP1 + childP2\n",
        "  return child"
      ],
      "metadata": {
        "id": "JZpk51GnvPIs"
      },
      "execution_count": 183,
      "outputs": []
    },
    {
      "cell_type": "code",
      "source": [
        "def breedPopulation(matingpool, eliteSize):\n",
        "    children = []\n",
        "    length = len(matingpool) - eliteSize\n",
        "    pool = random.sample(matingpool, len(matingpool))\n",
        "\n",
        "    for i in range(0,eliteSize):\n",
        "        children.append(matingpool[i])\n",
        "    \n",
        "    for i in range(0, length):\n",
        "        child = ordered_crossover(pool[i], pool[len(matingpool)-i-1])\n",
        "        children.append(child)\n",
        "\n",
        "    return children"
      ],
      "metadata": {
        "id": "oGtzvG-Sv8iw"
      },
      "execution_count": 184,
      "outputs": []
    },
    {
      "cell_type": "code",
      "source": [
        "def mutate(individual, mutationRate):\n",
        "    for swapped in range(len(individual)):\n",
        "        if(random.random() < mutationRate):\n",
        "            swapWith = int(random.random() * len(individual))\n",
        "            \n",
        "            city1 = individual[swapped]\n",
        "            city2 = individual[swapWith]\n",
        "            \n",
        "            individual[swapped] = city2\n",
        "            individual[swapWith] = city1\n",
        "    return individual"
      ],
      "metadata": {
        "id": "9Mi-K0lMwtcs"
      },
      "execution_count": 185,
      "outputs": []
    },
    {
      "cell_type": "code",
      "source": [
        "def mutatePopulation(population, mutationRate):\n",
        "    mutatedPop = []\n",
        "    \n",
        "    for ind in range(0, len(population)):\n",
        "        mutatedInd = mutate(population[ind], mutationRate)\n",
        "        mutatedPop.append(mutatedInd)\n",
        "    return mutatedPop"
      ],
      "metadata": {
        "id": "gUMcEr1swtJK"
      },
      "execution_count": 186,
      "outputs": []
    },
    {
      "cell_type": "code",
      "source": [
        "popRanked = ComputeFitness(population)"
      ],
      "metadata": {
        "id": "lmD3zxt8pnnP"
      },
      "execution_count": 162,
      "outputs": []
    },
    {
      "cell_type": "code",
      "source": [
        "popRanked"
      ],
      "metadata": {
        "colab": {
          "base_uri": "https://localhost:8080/"
        },
        "id": "MGX6LyoHpo-B",
        "outputId": "d6d5883f-0856-406e-aa1f-bdf8662df354"
      },
      "execution_count": 163,
      "outputs": [
        {
          "output_type": "execute_result",
          "data": {
            "text/plain": [
              "[(2, 0.08852560494068941),\n",
              " (3, 0.08813025023544094),\n",
              " (1, 0.07588977506981232),\n",
              " (0, 0.07571093253618874),\n",
              " (4, 0.07472421763739634)]"
            ]
          },
          "metadata": {},
          "execution_count": 163
        }
      ]
    },
    {
      "cell_type": "code",
      "source": [
        "rnd_a = random.randint(0, 3)"
      ],
      "metadata": {
        "id": "5f5JJzdes1kD"
      },
      "execution_count": 164,
      "outputs": []
    },
    {
      "cell_type": "code",
      "source": [
        "rnd_b = random.randint(0, 3)"
      ],
      "metadata": {
        "id": "OFuy8HSfs6g_"
      },
      "execution_count": 165,
      "outputs": []
    },
    {
      "cell_type": "code",
      "source": [
        "rnd_a, rnd_b"
      ],
      "metadata": {
        "colab": {
          "base_uri": "https://localhost:8080/"
        },
        "id": "dw3K5_VKs74T",
        "outputId": "69077815-7129-437a-cb6d-5af95aec17b6"
      },
      "execution_count": 168,
      "outputs": [
        {
          "output_type": "execute_result",
          "data": {
            "text/plain": [
              "(2, 0)"
            ]
          },
          "metadata": {},
          "execution_count": 168
        }
      ]
    },
    {
      "cell_type": "code",
      "source": [
        "popRanked[rnd_a][1]"
      ],
      "metadata": {
        "colab": {
          "base_uri": "https://localhost:8080/"
        },
        "id": "ndOCklgAtDhw",
        "outputId": "5638c95e-04f0-4ed4-bbbc-925241e6a86b"
      },
      "execution_count": 174,
      "outputs": [
        {
          "output_type": "execute_result",
          "data": {
            "text/plain": [
              "0.07588977506981232"
            ]
          },
          "metadata": {},
          "execution_count": 174
        }
      ]
    },
    {
      "cell_type": "code",
      "source": [
        "popRanked[rnd_b][1]"
      ],
      "metadata": {
        "colab": {
          "base_uri": "https://localhost:8080/"
        },
        "id": "DIXa2Pontc4M",
        "outputId": "fe877cc6-2273-4f21-c0f0-14f83f1a4715"
      },
      "execution_count": 175,
      "outputs": [
        {
          "output_type": "execute_result",
          "data": {
            "text/plain": [
              "0.08852560494068941"
            ]
          },
          "metadata": {},
          "execution_count": 175
        }
      ]
    },
    {
      "cell_type": "code",
      "source": [
        "popRanked[rnd_a][1] >= popRanked[rnd_b][1]"
      ],
      "metadata": {
        "colab": {
          "base_uri": "https://localhost:8080/"
        },
        "id": "zuSt_Hy_tfWJ",
        "outputId": "24fa0b5c-bf4d-4f1b-c247-1f0c9956d0c0"
      },
      "execution_count": 176,
      "outputs": [
        {
          "output_type": "execute_result",
          "data": {
            "text/plain": [
              "False"
            ]
          },
          "metadata": {},
          "execution_count": 176
        }
      ]
    },
    {
      "cell_type": "code",
      "source": [
        "random.choice([0.0798984481700883, 0.06682841178994736])"
      ],
      "metadata": {
        "colab": {
          "base_uri": "https://localhost:8080/"
        },
        "id": "Q6ooY8WFm7G_",
        "outputId": "9fbccd36-563e-4ac8-908e-9ed026d4ebce"
      },
      "execution_count": 153,
      "outputs": [
        {
          "output_type": "execute_result",
          "data": {
            "text/plain": [
              "0.0798984481700883"
            ]
          },
          "metadata": {},
          "execution_count": 153
        }
      ]
    },
    {
      "cell_type": "code",
      "source": [
        "instance = randomInstance(25)\n",
        "instance"
      ],
      "metadata": {
        "colab": {
          "base_uri": "https://localhost:8080/"
        },
        "id": "um150Bd4YLrk",
        "outputId": "d58a6799-dc4c-44ab-92a5-de215d59b07d"
      },
      "execution_count": 157,
      "outputs": [
        {
          "output_type": "execute_result",
          "data": {
            "text/plain": [
              "[(0.41959249468007, 0.12343515760832546),\n",
              " (0.683421514622092, 0.5350296508711315),\n",
              " (0.6044276245314084, 0.49403736922821384),\n",
              " (0.455976728475619, 0.02043692030744948),\n",
              " (0.5178693460584299, 0.674268243524467),\n",
              " (0.6633225443908808, 0.8887919538897812),\n",
              " (0.09764954533697245, 0.7173567806186109),\n",
              " (0.41186441794572437, 0.6403156459061169),\n",
              " (0.8717961664849794, 0.4500372777556253),\n",
              " (0.4294425236621955, 0.666481544215917),\n",
              " (0.675126372508601, 0.9686448046502633),\n",
              " (0.14491597037079662, 0.9679691845034403),\n",
              " (0.08773515057330417, 0.47057274284875106),\n",
              " (0.7515648523137963, 0.4262457408941356),\n",
              " (0.694799413305446, 0.32737183380035406),\n",
              " (0.6663638038124486, 0.21953005962200278),\n",
              " (0.01968727415210314, 0.2077672409238488),\n",
              " (0.12793808834461518, 0.6972073572468891),\n",
              " (0.6688832832296099, 0.5998324802492045),\n",
              " (0.3042320975871464, 0.983401256740969),\n",
              " (0.10580026549835375, 0.7286021026536611),\n",
              " (0.19496860538792737, 0.7742473296320556),\n",
              " (0.9458858496386913, 0.29788065415899456),\n",
              " (0.1756602638159973, 0.8817980603520958),\n",
              " (0.33665696906894194, 0.9865615357085871)]"
            ]
          },
          "metadata": {},
          "execution_count": 157
        }
      ]
    },
    {
      "cell_type": "code",
      "source": [
        "route = createRoute(instance)\n",
        "route"
      ],
      "metadata": {
        "colab": {
          "base_uri": "https://localhost:8080/"
        },
        "id": "wimm9EkXdMtd",
        "outputId": "800ef694-5231-4cdc-fd38-89df1e486100"
      },
      "execution_count": 158,
      "outputs": [
        {
          "output_type": "execute_result",
          "data": {
            "text/plain": [
              "[(0.19496860538792737, 0.7742473296320556),\n",
              " (0.09764954533697245, 0.7173567806186109),\n",
              " (0.08773515057330417, 0.47057274284875106),\n",
              " (0.8717961664849794, 0.4500372777556253),\n",
              " (0.3042320975871464, 0.983401256740969),\n",
              " (0.4294425236621955, 0.666481544215917),\n",
              " (0.6633225443908808, 0.8887919538897812),\n",
              " (0.455976728475619, 0.02043692030744948),\n",
              " (0.1756602638159973, 0.8817980603520958),\n",
              " (0.01968727415210314, 0.2077672409238488),\n",
              " (0.41959249468007, 0.12343515760832546),\n",
              " (0.6688832832296099, 0.5998324802492045),\n",
              " (0.7515648523137963, 0.4262457408941356),\n",
              " (0.10580026549835375, 0.7286021026536611),\n",
              " (0.6044276245314084, 0.49403736922821384),\n",
              " (0.14491597037079662, 0.9679691845034403),\n",
              " (0.6663638038124486, 0.21953005962200278),\n",
              " (0.12793808834461518, 0.6972073572468891),\n",
              " (0.683421514622092, 0.5350296508711315),\n",
              " (0.675126372508601, 0.9686448046502633),\n",
              " (0.41186441794572437, 0.6403156459061169),\n",
              " (0.9458858496386913, 0.29788065415899456),\n",
              " (0.694799413305446, 0.32737183380035406),\n",
              " (0.5178693460584299, 0.674268243524467),\n",
              " (0.33665696906894194, 0.9865615357085871)]"
            ]
          },
          "metadata": {},
          "execution_count": 158
        }
      ]
    },
    {
      "cell_type": "code",
      "source": [
        "def initialPopulation(popSize, cityList):\n",
        "    population = []\n",
        "\n",
        "    for i in range(0, popSize):\n",
        "        population.append(createRoute(cityList))\n",
        "    return population"
      ],
      "metadata": {
        "id": "0bBbi5t3ySpV"
      },
      "execution_count": null,
      "outputs": []
    },
    {
      "cell_type": "code",
      "source": [
        "population = initialPopulation(5,instance)\n",
        "population"
      ],
      "metadata": {
        "colab": {
          "base_uri": "https://localhost:8080/"
        },
        "id": "lnPn7K8ZyWyY",
        "outputId": "d5b4733a-de23-496d-b836-3155208d20c2"
      },
      "execution_count": 159,
      "outputs": [
        {
          "output_type": "execute_result",
          "data": {
            "text/plain": [
              "[[(0.9458858496386913, 0.29788065415899456),\n",
              "  (0.41959249468007, 0.12343515760832546),\n",
              "  (0.33665696906894194, 0.9865615357085871),\n",
              "  (0.19496860538792737, 0.7742473296320556),\n",
              "  (0.7515648523137963, 0.4262457408941356),\n",
              "  (0.08773515057330417, 0.47057274284875106),\n",
              "  (0.6633225443908808, 0.8887919538897812),\n",
              "  (0.14491597037079662, 0.9679691845034403),\n",
              "  (0.8717961664849794, 0.4500372777556253),\n",
              "  (0.10580026549835375, 0.7286021026536611),\n",
              "  (0.1756602638159973, 0.8817980603520958),\n",
              "  (0.694799413305446, 0.32737183380035406),\n",
              "  (0.01968727415210314, 0.2077672409238488),\n",
              "  (0.455976728475619, 0.02043692030744948),\n",
              "  (0.683421514622092, 0.5350296508711315),\n",
              "  (0.09764954533697245, 0.7173567806186109),\n",
              "  (0.6663638038124486, 0.21953005962200278),\n",
              "  (0.12793808834461518, 0.6972073572468891),\n",
              "  (0.41186441794572437, 0.6403156459061169),\n",
              "  (0.6044276245314084, 0.49403736922821384),\n",
              "  (0.5178693460584299, 0.674268243524467),\n",
              "  (0.3042320975871464, 0.983401256740969),\n",
              "  (0.675126372508601, 0.9686448046502633),\n",
              "  (0.4294425236621955, 0.666481544215917),\n",
              "  (0.6688832832296099, 0.5998324802492045)],\n",
              " [(0.09764954533697245, 0.7173567806186109),\n",
              "  (0.1756602638159973, 0.8817980603520958),\n",
              "  (0.6688832832296099, 0.5998324802492045),\n",
              "  (0.41186441794572437, 0.6403156459061169),\n",
              "  (0.6044276245314084, 0.49403736922821384),\n",
              "  (0.9458858496386913, 0.29788065415899456),\n",
              "  (0.10580026549835375, 0.7286021026536611),\n",
              "  (0.455976728475619, 0.02043692030744948),\n",
              "  (0.694799413305446, 0.32737183380035406),\n",
              "  (0.8717961664849794, 0.4500372777556253),\n",
              "  (0.12793808834461518, 0.6972073572468891),\n",
              "  (0.3042320975871464, 0.983401256740969),\n",
              "  (0.6663638038124486, 0.21953005962200278),\n",
              "  (0.33665696906894194, 0.9865615357085871),\n",
              "  (0.01968727415210314, 0.2077672409238488),\n",
              "  (0.08773515057330417, 0.47057274284875106),\n",
              "  (0.683421514622092, 0.5350296508711315),\n",
              "  (0.19496860538792737, 0.7742473296320556),\n",
              "  (0.5178693460584299, 0.674268243524467),\n",
              "  (0.6633225443908808, 0.8887919538897812),\n",
              "  (0.7515648523137963, 0.4262457408941356),\n",
              "  (0.675126372508601, 0.9686448046502633),\n",
              "  (0.41959249468007, 0.12343515760832546),\n",
              "  (0.14491597037079662, 0.9679691845034403),\n",
              "  (0.4294425236621955, 0.666481544215917)],\n",
              " [(0.08773515057330417, 0.47057274284875106),\n",
              "  (0.675126372508601, 0.9686448046502633),\n",
              "  (0.01968727415210314, 0.2077672409238488),\n",
              "  (0.9458858496386913, 0.29788065415899456),\n",
              "  (0.6663638038124486, 0.21953005962200278),\n",
              "  (0.694799413305446, 0.32737183380035406),\n",
              "  (0.7515648523137963, 0.4262457408941356),\n",
              "  (0.6044276245314084, 0.49403736922821384),\n",
              "  (0.19496860538792737, 0.7742473296320556),\n",
              "  (0.12793808834461518, 0.6972073572468891),\n",
              "  (0.10580026549835375, 0.7286021026536611),\n",
              "  (0.1756602638159973, 0.8817980603520958),\n",
              "  (0.683421514622092, 0.5350296508711315),\n",
              "  (0.4294425236621955, 0.666481544215917),\n",
              "  (0.5178693460584299, 0.674268243524467),\n",
              "  (0.6633225443908808, 0.8887919538897812),\n",
              "  (0.09764954533697245, 0.7173567806186109),\n",
              "  (0.8717961664849794, 0.4500372777556253),\n",
              "  (0.6688832832296099, 0.5998324802492045),\n",
              "  (0.41959249468007, 0.12343515760832546),\n",
              "  (0.3042320975871464, 0.983401256740969),\n",
              "  (0.33665696906894194, 0.9865615357085871),\n",
              "  (0.455976728475619, 0.02043692030744948),\n",
              "  (0.14491597037079662, 0.9679691845034403),\n",
              "  (0.41186441794572437, 0.6403156459061169)],\n",
              " [(0.14491597037079662, 0.9679691845034403),\n",
              "  (0.9458858496386913, 0.29788065415899456),\n",
              "  (0.01968727415210314, 0.2077672409238488),\n",
              "  (0.6044276245314084, 0.49403736922821384),\n",
              "  (0.1756602638159973, 0.8817980603520958),\n",
              "  (0.41186441794572437, 0.6403156459061169),\n",
              "  (0.4294425236621955, 0.666481544215917),\n",
              "  (0.455976728475619, 0.02043692030744948),\n",
              "  (0.694799413305446, 0.32737183380035406),\n",
              "  (0.683421514622092, 0.5350296508711315),\n",
              "  (0.6688832832296099, 0.5998324802492045),\n",
              "  (0.6633225443908808, 0.8887919538897812),\n",
              "  (0.09764954533697245, 0.7173567806186109),\n",
              "  (0.7515648523137963, 0.4262457408941356),\n",
              "  (0.8717961664849794, 0.4500372777556253),\n",
              "  (0.6663638038124486, 0.21953005962200278),\n",
              "  (0.3042320975871464, 0.983401256740969),\n",
              "  (0.08773515057330417, 0.47057274284875106),\n",
              "  (0.12793808834461518, 0.6972073572468891),\n",
              "  (0.10580026549835375, 0.7286021026536611),\n",
              "  (0.19496860538792737, 0.7742473296320556),\n",
              "  (0.675126372508601, 0.9686448046502633),\n",
              "  (0.33665696906894194, 0.9865615357085871),\n",
              "  (0.5178693460584299, 0.674268243524467),\n",
              "  (0.41959249468007, 0.12343515760832546)],\n",
              " [(0.14491597037079662, 0.9679691845034403),\n",
              "  (0.5178693460584299, 0.674268243524467),\n",
              "  (0.12793808834461518, 0.6972073572468891),\n",
              "  (0.41186441794572437, 0.6403156459061169),\n",
              "  (0.7515648523137963, 0.4262457408941356),\n",
              "  (0.41959249468007, 0.12343515760832546),\n",
              "  (0.6633225443908808, 0.8887919538897812),\n",
              "  (0.8717961664849794, 0.4500372777556253),\n",
              "  (0.1756602638159973, 0.8817980603520958),\n",
              "  (0.683421514622092, 0.5350296508711315),\n",
              "  (0.694799413305446, 0.32737183380035406),\n",
              "  (0.09764954533697245, 0.7173567806186109),\n",
              "  (0.33665696906894194, 0.9865615357085871),\n",
              "  (0.455976728475619, 0.02043692030744948),\n",
              "  (0.9458858496386913, 0.29788065415899456),\n",
              "  (0.3042320975871464, 0.983401256740969),\n",
              "  (0.08773515057330417, 0.47057274284875106),\n",
              "  (0.4294425236621955, 0.666481544215917),\n",
              "  (0.6688832832296099, 0.5998324802492045),\n",
              "  (0.10580026549835375, 0.7286021026536611),\n",
              "  (0.6044276245314084, 0.49403736922821384),\n",
              "  (0.6663638038124486, 0.21953005962200278),\n",
              "  (0.01968727415210314, 0.2077672409238488),\n",
              "  (0.19496860538792737, 0.7742473296320556),\n",
              "  (0.675126372508601, 0.9686448046502633)]]"
            ]
          },
          "metadata": {},
          "execution_count": 159
        }
      ]
    },
    {
      "cell_type": "code",
      "source": [
        "ranking = rankRoutes(population)"
      ],
      "metadata": {
        "id": "G_vCc4W0zNTr"
      },
      "execution_count": 160,
      "outputs": []
    },
    {
      "cell_type": "code",
      "source": [
        "ranking"
      ],
      "metadata": {
        "colab": {
          "base_uri": "https://localhost:8080/"
        },
        "id": "PWomxirwzPRz",
        "outputId": "17d4c3c1-c118-4659-ed4d-e3ab5fe7b592"
      },
      "execution_count": 161,
      "outputs": [
        {
          "output_type": "execute_result",
          "data": {
            "text/plain": [
              "[(2, 0.08852560494068941),\n",
              " (3, 0.08813025023544094),\n",
              " (1, 0.07588977506981232),\n",
              " (0, 0.07571093253618874),\n",
              " (4, 0.07472421763739634)]"
            ]
          },
          "metadata": {},
          "execution_count": 161
        }
      ]
    },
    {
      "cell_type": "code",
      "source": [
        "class Fitness:\n",
        "    def __init__(self, route):\n",
        "        self.route = route\n",
        "        self.distance = 0\n",
        "        self.fitness= 0.0\n",
        "    \n",
        "    def routeDistance(self):\n",
        "        if self.distance ==0:\n",
        "            pathDistance = 0\n",
        "            for i in range(0, len(self.route)):\n",
        "                fromCity = self.route[i]\n",
        "                toCity = None\n",
        "                if i + 1 < len(self.route):\n",
        "                    toCity = self.route[i + 1]\n",
        "                else:\n",
        "                    toCity = self.route[0]\n",
        "                pathDistance += fromCity.distance(toCity)\n",
        "            self.distance = pathDistance\n",
        "        return self.distance\n",
        "    \n",
        "    def routeFitness(self):\n",
        "        if self.fitness == 0:\n",
        "            self.fitness = 1 / float(self.routeDistance())\n",
        "        return self.fitness\n",
        "\n",
        "\n",
        "\n",
        "\n",
        "\n",
        "\n",
        "\n",
        "\n",
        "\n",
        "\n"
      ],
      "metadata": {
        "colab": {
          "base_uri": "https://localhost:8080/"
        },
        "id": "zlV9ucVNlYFM",
        "outputId": "b21d4254-1873-4ee1-b75c-ecee851772e3"
      },
      "execution_count": null,
      "outputs": [
        {
          "output_type": "execute_result",
          "data": {
            "text/plain": [
              "0.233453162446846"
            ]
          },
          "metadata": {},
          "execution_count": 83
        }
      ]
    },
    {
      "cell_type": "code",
      "source": [
        "\n",
        "plt.scatter(*zip(*instance))\n",
        "\n",
        "plt.show()"
      ],
      "metadata": {
        "colab": {
          "base_uri": "https://localhost:8080/",
          "height": 286
        },
        "id": "5p5gCYw6gbzQ",
        "outputId": "a24a2e9b-aeb1-4d19-b005-b6aa2d74abc3"
      },
      "execution_count": null,
      "outputs": [
        {
          "output_type": "display_data",
          "data": {
            "text/plain": [
              "<Figure size 432x288 with 1 Axes>"
            ],
            "image/png": "[encoded data removed]"
          },
          "metadata": {
            "needs_background": "light"
          }
        }
      ]
    },
    {
      "cell_type": "code",
      "source": [
        "x"
      ],
      "metadata": {
        "colab": {
          "base_uri": "https://localhost:8080/"
        },
        "id": "k8AN1HohkocE",
        "outputId": "40aa44e7-a982-49b7-8de2-f8feb17713a1"
      },
      "execution_count": null,
      "outputs": [
        {
          "output_type": "execute_result",
          "data": {
            "text/plain": [
              "array([0.18751996, 0.50945669, 0.00321079, 0.70366955, 0.99054547,\n",
              "       0.82206771, 0.53719478, 0.42652522, 0.81255149, 0.5755192 ])"
            ]
          },
          "metadata": {},
          "execution_count": 77
        }
      ]
    },
    {
      "cell_type": "code",
      "source": [
        "x[0:0+2]"
      ],
      "metadata": {
        "colab": {
          "base_uri": "https://localhost:8080/"
        },
        "id": "qMGgBjR7gqKP",
        "outputId": "f192cbd8-5624-4a92-cd15-f94d328dfdf4"
      },
      "execution_count": null,
      "outputs": [
        {
          "output_type": "execute_result",
          "data": {
            "text/plain": [
              "array([0.18751996, 0.50945669])"
            ]
          },
          "metadata": {},
          "execution_count": 79
        }
      ]
    },
    {
      "cell_type": "code",
      "source": [
        "# Create first \"population\" (list of routes)\n",
        "def initialPopulation(popSize, cityList):\n",
        "    population = []\n",
        "\n",
        "    for i in range(0, popSize):\n",
        "        population.append(createRoute(cityList))\n",
        "    return population"
      ],
      "metadata": {
        "colab": {
          "base_uri": "https://localhost:8080/"
        },
        "id": "yy46Rr7fXpLY",
        "outputId": "8a01e87b-7c95-4a8c-aa52-6c98eac9eafc"
      },
      "execution_count": null,
      "outputs": [
        {
          "output_type": "execute_result",
          "data": {
            "text/plain": [
              "0.9948276008607537"
            ]
          },
          "metadata": {},
          "execution_count": 50
        }
      ]
    }
  ]
}