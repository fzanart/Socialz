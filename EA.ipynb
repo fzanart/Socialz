{
  "nbformat": 4,
  "nbformat_minor": 0,
  "metadata": {
    "colab": {
      "name": "EA.ipynb",
      "provenance": [],
      "authorship_tag": "ABX9TyNE9aNtcc40rDpnEEnq57PF",
      "include_colab_link": true
    },
    "kernelspec": {
      "name": "python3",
      "display_name": "Python 3"
    },
    "language_info": {
      "name": "python"
    }
  },
  "cells": [
    {
      "cell_type": "markdown",
      "metadata": {
        "id": "view-in-github",
        "colab_type": "text"
      },
      "source": [
        "<a href=\"https://colab.research.google.com/github/fzanart/Socialz/blob/wip/EA.ipynb\" target=\"_parent\"><img src=\"https://colab.research.google.com/assets/colab-badge.svg\" alt=\"Open In Colab\"/></a>"
      ]
    },
    {
      "cell_type": "code",
      "source": [
        "import numpy as np\n",
        "import random\n",
        "import operator\n",
        "import pandas as pd\n",
        "import matplotlib.pyplot as plt\n"
      ],
      "metadata": {
        "id": "HETMFQ4AP2kx"
      },
      "execution_count": 215,
      "outputs": []
    },
    {
      "cell_type": "code",
      "source": [
        "# Algorithm 1 Generate a random TSP instance.\n",
        "def randomInstance(size):\n",
        "\n",
        "  instance = []\n",
        "  \n",
        "  for i in range(size):\n",
        "    instance.append((random.uniform(0, 1),random.uniform(0, 1)))\n",
        "\n",
        "  return instance"
      ],
      "metadata": {
        "id": "dinWR0-oWv77"
      },
      "execution_count": 216,
      "outputs": []
    },
    {
      "cell_type": "code",
      "source": [
        "# Algorithm 3 Compute Fitness\n",
        "def ComputeFitness(population):\n",
        "\n",
        "  fitnessResults = {}\n",
        "\n",
        "  def routeDistance(route):\n",
        "\n",
        "    pathDistance = 0\n",
        "\n",
        "    for i in range(len(route)):\n",
        "      fromCity = route[i]\n",
        "      toCity = None\n",
        "      if i + 1 < len(route):\n",
        "        toCity = route[i + 1]\n",
        "      else:\n",
        "        toCity = route[0]\n",
        "\n",
        "      pathDistance += np.linalg.norm(np.array(fromCity) - np.array(toCity))\n",
        "\n",
        "    return pathDistance\n",
        "\n",
        "  for i in range(0,len(population)):\n",
        "    fitnessResults[i] = 1/routeDistance(population[i])\n",
        "\n",
        "  return sorted(fitnessResults.items(), key = operator.itemgetter(1), reverse = True)\n",
        "\n"
      ],
      "metadata": {
        "id": "SGkQ0qBaFc5Q"
      },
      "execution_count": 217,
      "outputs": []
    },
    {
      "cell_type": "code",
      "source": [
        "# Algorithm 2 EA for evolving problem easy and hard TSP instances\n",
        "def EA(popSize, instSize, generations, mutationRate):\n",
        "\n",
        "  poolSize = popSize/2\n",
        "  cityList = randomInstance(instSize)\n",
        "\n",
        "  population = [] #first generation\n",
        "  for i in range(popSize):\n",
        "    population.append(random.sample(cityList, len(cityList))) # randomly select the order in which we visit each city.\n",
        "\n",
        "  popRanked = ComputeFitness(population)\n",
        "  print(\"Initial distance: \" + str(popRanked[0][1]))\n",
        "  \n",
        "  for i in range(generations):\n",
        "    popRanked = ComputeFitness(population)\n",
        "    matingpool = createMatingPool(poolSize, population, popRanked)\n",
        "    offspring = breedPopulation(matingpool)\n",
        "    population = mutatePopulation(offspring, mutationRate)\n",
        "  \n",
        "  print(\"Final distance: \" + str(popRanked[0][1]))\n",
        "  bestRoute = population[popRanked[0][0]]\n",
        "\n",
        "  return bestRoute\n",
        "\n",
        "  # poolSize ← ?popSize/2? \n",
        "  # for i = 1 → popSize do \n",
        "  #   population[i] ← rescale(randomInstance(instSize)) \n",
        "  #   population[i] ← round(population[i], cells) \n",
        "  #   if rnd then \n",
        "  #   population[i] ← normalMutation(population[i]) \n",
        "  #   population[i] ← CutToBoundary(population[i])\n",
        "\n",
        "  # for generation = 1 → generations do \n",
        "  #   for k = 1 → popSize do \n",
        "  #   fitness[k] ← computeFitness(population[k], repetitions)\n",
        "\n",
        "  # matingPool ← createMatingPool(poolSize, population, fitness) \n",
        "  # nextPopulation[1] ← population[bestOf(fitness)] ? 1-elitism\n",
        "\n",
        "  #   for k = 2 → popSize do \n",
        "  #   parent1 ← randomElement(matingPool) \n",
        "  #   parent2 ← randomElement(matingPool) \n",
        "  #   offspring ← uniformMutation(uniformCrossover(parent1, parent2)) # uniformMutation\n",
        "  #   if !rnd then \n",
        "  #     offspring ← normalMutation(offspring)\n",
        "  #   offspring ← rescale(offspring) \n",
        "  #   offspring ← round(offspring, cells) \n",
        "  #   if rnd then \n",
        "  #   offspring ← normalMutation(offspring) \n",
        "  #   offspring ← CutToBoundary(offspring)\n",
        "\n",
        "  # population ← nextPopulation \n",
        "  # if over time limit time_limit then \n",
        "  # return population"
      ],
      "metadata": {
        "id": "uklvgYO3G5mB"
      },
      "execution_count": 218,
      "outputs": []
    },
    {
      "cell_type": "code",
      "source": [
        "# Algorithm 4 Mating pool creation\n",
        "\n",
        "def createMatingPool(poolSize, population, popRanked):\n",
        "  \n",
        "  matingPool = []\n",
        "  \n",
        "  matingPool.append(population[popRanked[0][0]])\n",
        "\n",
        "  for i in range(int(poolSize)):\n",
        "    rnd_a = random.randint(0, poolSize)\n",
        "    rnd_b = random.randint(0, poolSize)\n",
        "\n",
        "    if popRanked[rnd_a][1] >= popRanked[rnd_b][1]:\n",
        "      matingPool.append(population[popRanked[rnd_a][0]])\n",
        "    else:\n",
        "      matingPool.append(population[popRanked[rnd_b][0]])\n",
        "\n",
        "  return matingPool"
      ],
      "metadata": {
        "id": "5KsagN_Lipkq"
      },
      "execution_count": 219,
      "outputs": []
    },
    {
      "cell_type": "code",
      "source": [
        "def ordered_crossover(parent1, parent2): # all locations exactly one time.\n",
        "  child = []\n",
        "  childP1 = []\n",
        "  childP2 = []\n",
        "  \n",
        "  geneA = int(random.random() * len(parent1))\n",
        "  geneB = int(random.random() * len(parent1))\n",
        "  \n",
        "  startGene = min(geneA, geneB)\n",
        "  endGene = max(geneA, geneB)\n",
        "\n",
        "  for i in range(startGene, endGene):\n",
        "      childP1.append(parent1[i])\n",
        "      \n",
        "  childP2 = [item for item in parent2 if item not in childP1]\n",
        "\n",
        "  child = childP1 + childP2\n",
        "  return child"
      ],
      "metadata": {
        "id": "JZpk51GnvPIs"
      },
      "execution_count": 220,
      "outputs": []
    },
    {
      "cell_type": "code",
      "source": [
        "def breedPopulation(matingpool, eliteSize=1):\n",
        "    children = []\n",
        "    length = len(matingpool) - eliteSize\n",
        "    pool = random.sample(matingpool, len(matingpool))\n",
        "\n",
        "    for i in range(0,eliteSize):\n",
        "        children.append(matingpool[i])\n",
        "    \n",
        "    for i in range(0, length):\n",
        "        child = ordered_crossover(pool[i], pool[len(matingpool)-i-1])\n",
        "        children.append(child)\n",
        "\n",
        "    return children"
      ],
      "metadata": {
        "id": "oGtzvG-Sv8iw"
      },
      "execution_count": 221,
      "outputs": []
    },
    {
      "cell_type": "code",
      "source": [
        "def mutate(individual, mutationRate):\n",
        "    for swapped in range(len(individual)):\n",
        "        if(random.random() < mutationRate):\n",
        "            swapWith = int(random.random() * len(individual))\n",
        "            \n",
        "            city1 = individual[swapped]\n",
        "            city2 = individual[swapWith]\n",
        "            \n",
        "            individual[swapped] = city2\n",
        "            individual[swapWith] = city1\n",
        "    return individual"
      ],
      "metadata": {
        "id": "9Mi-K0lMwtcs"
      },
      "execution_count": 222,
      "outputs": []
    },
    {
      "cell_type": "code",
      "source": [
        "def mutatePopulation(population, mutationRate):\n",
        "    mutatedPop = []\n",
        "    \n",
        "    for ind in range(0, len(population)):\n",
        "        mutatedInd = mutate(population[ind], mutationRate)\n",
        "        mutatedPop.append(mutatedInd)\n",
        "    return mutatedPop"
      ],
      "metadata": {
        "id": "gUMcEr1swtJK"
      },
      "execution_count": 223,
      "outputs": []
    },
    {
      "cell_type": "code",
      "source": [
        "EA(popSize=100, instSize=20, generations=500, mutationRate=0.01)"
      ],
      "metadata": {
        "colab": {
          "base_uri": "https://localhost:8080/"
        },
        "id": "mr3Y8Pv668dj",
        "outputId": "ca483f3e-39fb-42c6-e9b6-279177a06f2b"
      },
      "execution_count": 224,
      "outputs": [
        {
          "output_type": "stream",
          "name": "stdout",
          "text": [
            "Initial distance: 0.12333298231389365\n",
            "Final distance: 0.15959746729008778\n"
          ]
        },
        {
          "output_type": "execute_result",
          "data": {
            "text/plain": [
              "[(0.3748701803929696, 0.621427970064747),\n",
              " (0.6688171196712024, 0.8796579391781575),\n",
              " (0.2835389773545006, 0.9958853360776779),\n",
              " (0.31260959749178063, 0.8879404723808584),\n",
              " (0.06335272802290282, 0.5303435704781543),\n",
              " (0.23894097229683287, 0.6638908238707422),\n",
              " (0.4116805273563444, 0.488000048469996),\n",
              " (0.5629430209083225, 0.4905804601633612),\n",
              " (0.03669134660502005, 0.5065153576223606),\n",
              " (0.15553754689771948, 0.2880547446370151),\n",
              " (0.3133529260198167, 0.10423215112506978),\n",
              " (0.36207651464741664, 0.4505546429051137),\n",
              " (0.5301719674587588, 0.4430334983609302),\n",
              " (0.2527914005608525, 0.45034044395533424),\n",
              " (0.11608172800457095, 0.026709711064678787),\n",
              " (0.4398453745069154, 0.13738223904766944),\n",
              " (0.8079522663798993, 0.017888820524786464),\n",
              " (0.9840655079273182, 0.22577009997551523),\n",
              " (0.904783824852883, 0.6555912098517033),\n",
              " (0.44356081228817856, 0.5146930746786087)]"
            ]
          },
          "metadata": {},
          "execution_count": 224
        }
      ]
    },
    {
      "cell_type": "code",
      "source": [
        "\n",
        "plt.scatter(*zip(*EA(popSize=100, instSize=20, generations=500, mutationRate=0.01)))\n",
        "\n",
        "plt.show()"
      ],
      "metadata": {
        "colab": {
          "base_uri": "https://localhost:8080/",
          "height": 319
        },
        "id": "5p5gCYw6gbzQ",
        "outputId": "43adf3bc-66eb-4106-a584-1b364be384c2"
      },
      "execution_count": 225,
      "outputs": [
        {
          "output_type": "stream",
          "name": "stdout",
          "text": [
            "Initial distance: 0.13156182539848582\n",
            "Final distance: 0.19927315727235634\n"
          ]
        },
        {
          "output_type": "display_data",
          "data": {
            "text/plain": [
              "<Figure size 432x288 with 1 Axes>"
            ],
            "image/png": "[encoded data removed]"
          },
          "metadata": {
            "needs_background": "light"
          }
        }
      ]
    }
  ]
}