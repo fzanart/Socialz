{
  "nbformat": 4,
  "nbformat_minor": 0,
  "metadata": {
    "colab": {
      "name": "EA.ipynb",
      "provenance": [],
      "authorship_tag": "ABX9TyNfsgjbLb+BrG6VLnnpa/7T",
      "include_colab_link": true
    },
    "kernelspec": {
      "name": "python3",
      "display_name": "Python 3"
    },
    "language_info": {
      "name": "python"
    }
  },
  "cells": [
    {
      "cell_type": "markdown",
      "metadata": {
        "id": "view-in-github",
        "colab_type": "text"
      },
      "source": [
        "<a href=\"https://colab.research.google.com/github/fzanart/Socialz/blob/wip/EA.ipynb\" target=\"_parent\"><img src=\"https://colab.research.google.com/assets/colab-badge.svg\" alt=\"Open In Colab\"/></a>"
      ]
    },
    {
      "cell_type": "code",
      "execution_count": null,
      "metadata": {
        "id": "ui1zFt6gsacC"
      },
      "outputs": [],
      "source": [
        "# Algorithm 1 Generate a random TSP instance.\n",
        "def randomInstance(size):\n",
        "  for i = 1 → size do \n",
        "    instance[i, 1] ← U(0, 1) #? Uniform random number between 0 and 1 \n",
        "    instance[i, 2] ← U(0, 1) #? Uniform random number between 0 and 1\n",
        "  return instance\n"
      ]
    },
    {
      "cell_type": "code",
      "source": [
        "# Algorithm 2 EA for evolving problem easy and hard TSP instances\n",
        "def EA(popSize, instSize, generations, time_limit, cells, repetitions, type, rnd, mutationParameters):\n",
        "  poolSize ← ?popSize/2? \n",
        "  for i = 1 → popSize do \n",
        "    population[i] ← rescale(randomInstance(instSize)) \n",
        "    population[i] ← round(population[i], cells) \n",
        "    if rnd then \n",
        "    population[i] ← normalMutation(population[i]) \n",
        "    population[i] ← CutToBoundary(population[i])\n",
        "\n",
        "  for generation = 1 → generations do \n",
        "    for k = 1 → popSize do \n",
        "    fitness[k] ← computeFitness(population[k], repetitions)\n",
        "\n",
        "  matingPool ← createMatingPool(poolSize, population, fitness) \n",
        "  nextPopulation[1] ← population[bestOf(fitness)] ? 1-elitism\n",
        "\n",
        "    for k = 2 → popSize do \n",
        "    parent1 ← randomElement(matingPool) \n",
        "    parent2 ← randomElement(matingPool) \n",
        "    offspring ← uniformMutation(uniformCrossover(parent1, parent2)) # uniformMutation\n",
        "    if !rnd then \n",
        "      offspring ← normalMutation(offspring)\n",
        "    offspring ← rescale(offspring) \n",
        "    offspring ← round(offspring, cells) \n",
        "    if rnd then \n",
        "    offspring ← normalMutation(offspring) \n",
        "    offspring ← CutToBoundary(offspring)\n",
        "\n",
        "  population ← nextPopulation \n",
        "  if over time limit time_limit then \n",
        "  return population\n"
      ],
      "metadata": {
        "id": "t6nUVl-ms7vB"
      },
      "execution_count": null,
      "outputs": []
    },
    {
      "cell_type": "code",
      "source": [
        "# Algorithm 3 Compute Fitness\n",
        "def ComputeFitness(instance, repetitions):\n",
        "  optimalTourLength ← concorde(instance)     #CONCORDE\n",
        "  for j = 1 → repetitions do \n",
        "    twoOptTourLengths[j] ← twoOpt(instance) # Two Opt Tour length\n",
        "\n",
        "  return mean(twoOptTourLengths)/optimalTourLength\n",
        "\n"
      ],
      "metadata": {
        "id": "b70UMHbfw8rn"
      },
      "execution_count": null,
      "outputs": []
    },
    {
      "cell_type": "code",
      "source": [
        "# Algorithm 4 Mating pool creation\n",
        "def createMatingPool(poolSize, population, fitness):\n",
        "  for i = 1 → poolSize do \n",
        "  matingPool[i] ← betterOf(randomElement(population), randomElement(population))\n",
        "\n",
        "  return matingPool\n"
      ],
      "metadata": {
        "id": "8RLENiIbxasv"
      },
      "execution_count": null,
      "outputs": []
    },
    {
      "cell_type": "code",
      "source": [
        "# Algorithm 5 Rescale instance\n",
        "\n",
        "def rescale(instance):\n",
        "  mins ← column_mins(instance)\n",
        "  maxs ← column_maxs(instance)\n",
        "  scaledPop ← ((instance − mins)**T/(maxs − mins))**T  \n",
        "  \n",
        "  return scaledPop"
      ],
      "metadata": {
        "id": "jTCIAGFg8u9b"
      },
      "execution_count": null,
      "outputs": []
    },
    {
      "cell_type": "code",
      "source": [
        "# Algorithm 6 Round instance\n",
        "\n",
        "def round(instance, cells) \n",
        "  gridRnd ← createGrid(resolution = cells) \n",
        "  instRnd ← floor(instance ∗ cells)/cells \n",
        "  for i = 1 → instSize do\n",
        "    instRnd[i, ] < −SetToCellCenter(instRnd, gridRnd)\n",
        "  return instRnd"
      ],
      "metadata": {
        "id": "31N2QVvi9LxJ"
      },
      "execution_count": null,
      "outputs": []
    },
    {
      "cell_type": "code",
      "source": [
        "import numpy as np\n",
        "import random\n",
        "import operator\n",
        "import pandas as pd\n",
        "import matplotlib.pyplot as plt\n"
      ],
      "metadata": {
        "id": "HETMFQ4AP2kx"
      },
      "execution_count": null,
      "outputs": []
    },
    {
      "cell_type": "code",
      "source": [
        "# Algorithm 1 Generate a random TSP instance.\n",
        "def randomInstance(size):\n",
        "\n",
        "  instance = []\n",
        "  \n",
        "  for i in range(size):\n",
        "    instance.append((random.uniform(0, 1),random.uniform(0, 1)))\n",
        "\n",
        "  return instance"
      ],
      "metadata": {
        "id": "dinWR0-oWv77"
      },
      "execution_count": null,
      "outputs": []
    },
    {
      "cell_type": "code",
      "source": [
        "# Algorithm 3 Compute Fitness\n",
        "def ComputeFitness(population):\n",
        "\n",
        "  fitnessResults = {}\n",
        "\n",
        "  def routeDistance(route):\n",
        "\n",
        "    pathDistance = 0\n",
        "\n",
        "    for i in range(len(route)):\n",
        "      fromCity = route[i]\n",
        "      toCity = None\n",
        "      if i + 1 < len(route):\n",
        "        toCity = route[i + 1]\n",
        "      else:\n",
        "        toCity = route[0]\n",
        "\n",
        "      pathDistance += np.linalg.norm(np.array(fromCity) - np.array(toCity))\n",
        "\n",
        "    return pathDistance\n",
        "\n",
        "  for i in range(0,len(population)):\n",
        "    fitnessResults[i] = 1/routeDistance(population[i])\n",
        "\n",
        "  return sorted(fitnessResults.items(), key = operator.itemgetter(1), reverse = True)\n",
        "\n"
      ],
      "metadata": {
        "id": "SGkQ0qBaFc5Q"
      },
      "execution_count": null,
      "outputs": []
    },
    {
      "cell_type": "code",
      "source": [
        "# Algorithm 2 EA for evolving problem easy and hard TSP instances\n",
        "def EA(popSize, instSize, generations, time_limit, cells, repetitions, type, rnd, mutationParameters):\n",
        "\n",
        "  cityList = randomInstance(instSize)\n",
        "\n",
        "  population = [] #first generation\n",
        "  for i in range(popSize):\n",
        "    population.append(random.sample(cityList, len(cityList))) # randomly select the order in which we visit each city.\n",
        "\n",
        "  popRanked = ComputeFitness(population)\n",
        "\n",
        "\n",
        "\n",
        "\n",
        "\n",
        "\n",
        "  poolSize ← ?popSize/2? \n",
        "  for i = 1 → popSize do \n",
        "    population[i] ← rescale(randomInstance(instSize)) \n",
        "    population[i] ← round(population[i], cells) \n",
        "    if rnd then \n",
        "    population[i] ← normalMutation(population[i]) \n",
        "    population[i] ← CutToBoundary(population[i])\n",
        "\n",
        "  for generation = 1 → generations do \n",
        "    for k = 1 → popSize do \n",
        "    fitness[k] ← computeFitness(population[k], repetitions)\n",
        "\n",
        "  matingPool ← createMatingPool(poolSize, population, fitness) \n",
        "  nextPopulation[1] ← population[bestOf(fitness)] ? 1-elitism\n",
        "\n",
        "    for k = 2 → popSize do \n",
        "    parent1 ← randomElement(matingPool) \n",
        "    parent2 ← randomElement(matingPool) \n",
        "    offspring ← uniformMutation(uniformCrossover(parent1, parent2)) # uniformMutation\n",
        "    if !rnd then \n",
        "      offspring ← normalMutation(offspring)\n",
        "    offspring ← rescale(offspring) \n",
        "    offspring ← round(offspring, cells) \n",
        "    if rnd then \n",
        "    offspring ← normalMutation(offspring) \n",
        "    offspring ← CutToBoundary(offspring)\n",
        "\n",
        "  population ← nextPopulation \n",
        "  if over time limit time_limit then \n",
        "  return population"
      ],
      "metadata": {
        "id": "uklvgYO3G5mB"
      },
      "execution_count": null,
      "outputs": []
    },
    {
      "cell_type": "code",
      "source": [
        "# Algorithm 4 Mating pool creation\n",
        "\n",
        "def createMatingPool(poolSize, population, popRanked):\n",
        "  \n",
        "  matingPool = []\n",
        "  \n",
        "  matingpool.append(population[popRanked[0]])\n",
        "\n",
        "  for i in range(poolSize):\n",
        "    matingPool.append(betterOf(randomElement(population), randomElement(population))\n",
        "\n",
        "  return matingPool"
      ],
      "metadata": {
        "id": "5KsagN_Lipkq"
      },
      "execution_count": null,
      "outputs": []
    },
    {
      "cell_type": "code",
      "source": [
        "popRanked"
      ],
      "metadata": {
        "colab": {
          "base_uri": "https://localhost:8080/"
        },
        "id": "DokHh6KAjp-Z",
        "outputId": "d8ffe883-96d0-4503-8016-622e34e02c59"
      },
      "execution_count": null,
      "outputs": [
        {
          "output_type": "execute_result",
          "data": {
            "text/plain": [
              "[(0, 0.0798984481700883),\n",
              " (3, 0.07734234262872756),\n",
              " (4, 0.07600497992889658),\n",
              " (1, 0.06917824537431792),\n",
              " (2, 0.06682841178994736)]"
            ]
          },
          "metadata": {},
          "execution_count": 148
        }
      ]
    },
    {
      "cell_type": "code",
      "source": [
        "popRanked[0][0]"
      ],
      "metadata": {
        "colab": {
          "base_uri": "https://localhost:8080/"
        },
        "id": "ftttOFMilIz9",
        "outputId": "d2c9cc2a-2e7c-4cd6-a691-e9cb961ef770"
      },
      "execution_count": null,
      "outputs": [
        {
          "output_type": "execute_result",
          "data": {
            "text/plain": [
              "0"
            ]
          },
          "metadata": {},
          "execution_count": 151
        }
      ]
    },
    {
      "cell_type": "code",
      "source": [
        "for i in range(0, len(selectionResults)):\n",
        "    index = selectionResults[i]\n",
        "    print(index)"
      ],
      "metadata": {
        "colab": {
          "base_uri": "https://localhost:8080/"
        },
        "id": "bLpUPUbgjtpO",
        "outputId": "2c3b968b-0329-4acc-eedf-2d5f253e8f8a"
      },
      "execution_count": null,
      "outputs": [
        {
          "output_type": "stream",
          "name": "stdout",
          "text": [
            "0\n",
            "4\n",
            "2\n",
            "3\n",
            "3\n"
          ]
        }
      ]
    },
    {
      "cell_type": "code",
      "source": [
        "popRanked = ComputeFitness(population)\n",
        "popRanked"
      ],
      "metadata": {
        "colab": {
          "base_uri": "https://localhost:8080/"
        },
        "id": "fBxdhDasZIQM",
        "outputId": "f827f7cf-da72-484c-dcd6-d994cf3cc70c"
      },
      "execution_count": null,
      "outputs": [
        {
          "output_type": "execute_result",
          "data": {
            "text/plain": [
              "[(0, 0.0798984481700883),\n",
              " (3, 0.07734234262872756),\n",
              " (4, 0.07600497992889658),\n",
              " (1, 0.06917824537431792),\n",
              " (2, 0.06682841178994736)]"
            ]
          },
          "metadata": {},
          "execution_count": 108
        }
      ]
    },
    {
      "cell_type": "code",
      "source": [
        "def selection(popRanked, eliteSize):\n",
        "    selectionResults = []\n",
        "    df = pd.DataFrame(np.array(popRanked), columns=[\"Index\",\"Fitness\"])\n",
        "    df['cum_sum'] = df.Fitness.cumsum()\n",
        "    df['cum_perc'] = 100*df.cum_sum/df.Fitness.sum()\n",
        "    \n",
        "    for i in range(0, eliteSize):\n",
        "        selectionResults.append(popRanked[i][0])\n",
        "    for i in range(0, len(popRanked) - eliteSize):\n",
        "        pick = 100*random.random()\n",
        "        for i in range(0, len(popRanked)):\n",
        "            if pick <= df.iat[i,3]:\n",
        "                selectionResults.append(popRanked[i][0])\n",
        "                break\n",
        "    return selectionResults"
      ],
      "metadata": {
        "id": "zJFNRgWAZWov"
      },
      "execution_count": null,
      "outputs": []
    },
    {
      "cell_type": "code",
      "source": [
        "selectionResults = selection(popRanked, eliteSize=1)"
      ],
      "metadata": {
        "id": "t7xsZf3BZaiJ"
      },
      "execution_count": null,
      "outputs": []
    },
    {
      "cell_type": "code",
      "source": [
        "df = pd.DataFrame(np.array(popRanked), columns=[\"Index\",\"Fitness\"])\n",
        "df"
      ],
      "metadata": {
        "colab": {
          "base_uri": "https://localhost:8080/",
          "height": 221
        },
        "id": "c4yHsEJsaMMk",
        "outputId": "b02a52c2-008f-4690-f3cb-358b6452d28f"
      },
      "execution_count": null,
      "outputs": [
        {
          "output_type": "execute_result",
          "data": {
            "text/plain": [
              "   Index   Fitness\n",
              "0    0.0  0.079898\n",
              "1    3.0  0.077342\n",
              "2    4.0  0.076005\n",
              "3    1.0  0.069178\n",
              "4    2.0  0.066828"
            ],
            "text/html": [
              "\n",
              "  <div id=\"df-e75c493c-50dd-46d7-a07c-efb825d7efe8\">\n",
              "    <div class=\"colab-df-container\">\n",
              "      <div>\n",
              "<style scoped>\n",
              "    .dataframe tbody tr th:only-of-type {\n",
              "        vertical-align: middle;\n",
              "    }\n",
              "\n",
              "    .dataframe tbody tr th {\n",
              "        vertical-align: top;\n",
              "    }\n",
              "\n",
              "    .dataframe thead th {\n",
              "        text-align: right;\n",
              "    }\n",
              "</style>\n",
              "<table border=\"1\" class=\"dataframe\">\n",
              "  <thead>\n",
              "    <tr style=\"text-align: right;\">\n",
              "      <th></th>\n",
              "      <th>Index</th>\n",
              "      <th>Fitness</th>\n",
              "    </tr>\n",
              "  </thead>\n",
              "  <tbody>\n",
              "    <tr>\n",
              "      <th>0</th>\n",
              "      <td>0.0</td>\n",
              "      <td>0.079898</td>\n",
              "    </tr>\n",
              "    <tr>\n",
              "      <th>1</th>\n",
              "      <td>3.0</td>\n",
              "      <td>0.077342</td>\n",
              "    </tr>\n",
              "    <tr>\n",
              "      <th>2</th>\n",
              "      <td>4.0</td>\n",
              "      <td>0.076005</td>\n",
              "    </tr>\n",
              "    <tr>\n",
              "      <th>3</th>\n",
              "      <td>1.0</td>\n",
              "      <td>0.069178</td>\n",
              "    </tr>\n",
              "    <tr>\n",
              "      <th>4</th>\n",
              "      <td>2.0</td>\n",
              "      <td>0.066828</td>\n",
              "    </tr>\n",
              "  </tbody>\n",
              "</table>\n",
              "</div>\n",
              "      <button class=\"colab-df-convert\" onclick=\"convertToInteractive('df-e75c493c-50dd-46d7-a07c-efb825d7efe8')\"\n",
              "              title=\"Convert this dataframe to an interactive table.\"\n",
              "              style=\"display:none;\">\n",
              "        \n",
              "  <svg xmlns=\"http://www.w3.org/2000/svg\" height=\"24px\"viewBox=\"0 0 24 24\"\n",
              "       width=\"24px\">\n",
              "    <path d=\"M0 0h24v24H0V0z\" fill=\"none\"/>\n",
              "    <path d=\"M18.56 5.44l.94 2.06.94-2.06 2.06-.94-2.06-.94-.94-2.06-.94 2.06-2.06.94zm-11 1L8.5 8.5l.94-2.06 2.06-.94-2.06-.94L8.5 2.5l-.94 2.06-2.06.94zm10 10l.94 2.06.94-2.06 2.06-.94-2.06-.94-.94-2.06-.94 2.06-2.06.94z\"/><path d=\"M17.41 7.96l-1.37-1.37c-.4-.4-.92-.59-1.43-.59-.52 0-1.04.2-1.43.59L10.3 9.45l-7.72 7.72c-.78.78-.78 2.05 0 2.83L4 21.41c.39.39.9.59 1.41.59.51 0 1.02-.2 1.41-.59l7.78-7.78 2.81-2.81c.8-.78.8-2.07 0-2.86zM5.41 20L4 18.59l7.72-7.72 1.47 1.35L5.41 20z\"/>\n",
              "  </svg>\n",
              "      </button>\n",
              "      \n",
              "  <style>\n",
              "    .colab-df-container {\n",
              "      display:flex;\n",
              "      flex-wrap:wrap;\n",
              "      gap: 12px;\n",
              "    }\n",
              "\n",
              "    .colab-df-convert {\n",
              "      background-color: #E8F0FE;\n",
              "      border: none;\n",
              "      border-radius: 50%;\n",
              "      cursor: pointer;\n",
              "      display: none;\n",
              "      fill: #1967D2;\n",
              "      height: 32px;\n",
              "      padding: 0 0 0 0;\n",
              "      width: 32px;\n",
              "    }\n",
              "\n",
              "    .colab-df-convert:hover {\n",
              "      background-color: #E2EBFA;\n",
              "      box-shadow: 0px 1px 2px rgba(60, 64, 67, 0.3), 0px 1px 3px 1px rgba(60, 64, 67, 0.15);\n",
              "      fill: #174EA6;\n",
              "    }\n",
              "\n",
              "    [theme=dark] .colab-df-convert {\n",
              "      background-color: #3B4455;\n",
              "      fill: #D2E3FC;\n",
              "    }\n",
              "\n",
              "    [theme=dark] .colab-df-convert:hover {\n",
              "      background-color: #434B5C;\n",
              "      box-shadow: 0px 1px 3px 1px rgba(0, 0, 0, 0.15);\n",
              "      filter: drop-shadow(0px 1px 2px rgba(0, 0, 0, 0.3));\n",
              "      fill: #FFFFFF;\n",
              "    }\n",
              "  </style>\n",
              "\n",
              "      <script>\n",
              "        const buttonEl =\n",
              "          document.querySelector('#df-e75c493c-50dd-46d7-a07c-efb825d7efe8 button.colab-df-convert');\n",
              "        buttonEl.style.display =\n",
              "          google.colab.kernel.accessAllowed ? 'block' : 'none';\n",
              "\n",
              "        async function convertToInteractive(key) {\n",
              "          const element = document.querySelector('#df-e75c493c-50dd-46d7-a07c-efb825d7efe8');\n",
              "          const dataTable =\n",
              "            await google.colab.kernel.invokeFunction('convertToInteractive',\n",
              "                                                     [key], {});\n",
              "          if (!dataTable) return;\n",
              "\n",
              "          const docLinkHtml = 'Like what you see? Visit the ' +\n",
              "            '<a target=\"_blank\" href=https://colab.research.google.com/notebooks/data_table.ipynb>data table notebook</a>'\n",
              "            + ' to learn more about interactive tables.';\n",
              "          element.innerHTML = '';\n",
              "          dataTable['output_type'] = 'display_data';\n",
              "          await google.colab.output.renderOutput(dataTable, element);\n",
              "          const docLink = document.createElement('div');\n",
              "          docLink.innerHTML = docLinkHtml;\n",
              "          element.appendChild(docLink);\n",
              "        }\n",
              "      </script>\n",
              "    </div>\n",
              "  </div>\n",
              "  "
            ]
          },
          "metadata": {},
          "execution_count": 119
        }
      ]
    },
    {
      "cell_type": "code",
      "source": [
        "df['cum_sum'] = df.Fitness.cumsum()\n",
        "df['cum_perc'] = 100*df.cum_sum/df.Fitness.sum()\n",
        "df"
      ],
      "metadata": {
        "colab": {
          "base_uri": "https://localhost:8080/",
          "height": 221
        },
        "id": "OOdjByXIaSRI",
        "outputId": "d15e1ddf-7748-4b03-d720-8842fac68540"
      },
      "execution_count": null,
      "outputs": [
        {
          "output_type": "execute_result",
          "data": {
            "text/plain": [
              "   Index   Fitness   cum_sum    cum_perc\n",
              "0    0.0  0.079898  0.079898   21.637894\n",
              "1    3.0  0.077342  0.157241   42.583550\n",
              "2    4.0  0.076005  0.233246   63.167024\n",
              "3    1.0  0.069178  0.302424   81.901700\n",
              "4    2.0  0.066828  0.369252  100.000000"
            ],
            "text/html": [
              "\n",
              "  <div id=\"df-ff176ec2-921d-48a1-9a97-9edf6974e077\">\n",
              "    <div class=\"colab-df-container\">\n",
              "      <div>\n",
              "<style scoped>\n",
              "    .dataframe tbody tr th:only-of-type {\n",
              "        vertical-align: middle;\n",
              "    }\n",
              "\n",
              "    .dataframe tbody tr th {\n",
              "        vertical-align: top;\n",
              "    }\n",
              "\n",
              "    .dataframe thead th {\n",
              "        text-align: right;\n",
              "    }\n",
              "</style>\n",
              "<table border=\"1\" class=\"dataframe\">\n",
              "  <thead>\n",
              "    <tr style=\"text-align: right;\">\n",
              "      <th></th>\n",
              "      <th>Index</th>\n",
              "      <th>Fitness</th>\n",
              "      <th>cum_sum</th>\n",
              "      <th>cum_perc</th>\n",
              "    </tr>\n",
              "  </thead>\n",
              "  <tbody>\n",
              "    <tr>\n",
              "      <th>0</th>\n",
              "      <td>0.0</td>\n",
              "      <td>0.079898</td>\n",
              "      <td>0.079898</td>\n",
              "      <td>21.637894</td>\n",
              "    </tr>\n",
              "    <tr>\n",
              "      <th>1</th>\n",
              "      <td>3.0</td>\n",
              "      <td>0.077342</td>\n",
              "      <td>0.157241</td>\n",
              "      <td>42.583550</td>\n",
              "    </tr>\n",
              "    <tr>\n",
              "      <th>2</th>\n",
              "      <td>4.0</td>\n",
              "      <td>0.076005</td>\n",
              "      <td>0.233246</td>\n",
              "      <td>63.167024</td>\n",
              "    </tr>\n",
              "    <tr>\n",
              "      <th>3</th>\n",
              "      <td>1.0</td>\n",
              "      <td>0.069178</td>\n",
              "      <td>0.302424</td>\n",
              "      <td>81.901700</td>\n",
              "    </tr>\n",
              "    <tr>\n",
              "      <th>4</th>\n",
              "      <td>2.0</td>\n",
              "      <td>0.066828</td>\n",
              "      <td>0.369252</td>\n",
              "      <td>100.000000</td>\n",
              "    </tr>\n",
              "  </tbody>\n",
              "</table>\n",
              "</div>\n",
              "      <button class=\"colab-df-convert\" onclick=\"convertToInteractive('df-ff176ec2-921d-48a1-9a97-9edf6974e077')\"\n",
              "              title=\"Convert this dataframe to an interactive table.\"\n",
              "              style=\"display:none;\">\n",
              "        \n",
              "  <svg xmlns=\"http://www.w3.org/2000/svg\" height=\"24px\"viewBox=\"0 0 24 24\"\n",
              "       width=\"24px\">\n",
              "    <path d=\"M0 0h24v24H0V0z\" fill=\"none\"/>\n",
              "    <path d=\"M18.56 5.44l.94 2.06.94-2.06 2.06-.94-2.06-.94-.94-2.06-.94 2.06-2.06.94zm-11 1L8.5 8.5l.94-2.06 2.06-.94-2.06-.94L8.5 2.5l-.94 2.06-2.06.94zm10 10l.94 2.06.94-2.06 2.06-.94-2.06-.94-.94-2.06-.94 2.06-2.06.94z\"/><path d=\"M17.41 7.96l-1.37-1.37c-.4-.4-.92-.59-1.43-.59-.52 0-1.04.2-1.43.59L10.3 9.45l-7.72 7.72c-.78.78-.78 2.05 0 2.83L4 21.41c.39.39.9.59 1.41.59.51 0 1.02-.2 1.41-.59l7.78-7.78 2.81-2.81c.8-.78.8-2.07 0-2.86zM5.41 20L4 18.59l7.72-7.72 1.47 1.35L5.41 20z\"/>\n",
              "  </svg>\n",
              "      </button>\n",
              "      \n",
              "  <style>\n",
              "    .colab-df-container {\n",
              "      display:flex;\n",
              "      flex-wrap:wrap;\n",
              "      gap: 12px;\n",
              "    }\n",
              "\n",
              "    .colab-df-convert {\n",
              "      background-color: #E8F0FE;\n",
              "      border: none;\n",
              "      border-radius: 50%;\n",
              "      cursor: pointer;\n",
              "      display: none;\n",
              "      fill: #1967D2;\n",
              "      height: 32px;\n",
              "      padding: 0 0 0 0;\n",
              "      width: 32px;\n",
              "    }\n",
              "\n",
              "    .colab-df-convert:hover {\n",
              "      background-color: #E2EBFA;\n",
              "      box-shadow: 0px 1px 2px rgba(60, 64, 67, 0.3), 0px 1px 3px 1px rgba(60, 64, 67, 0.15);\n",
              "      fill: #174EA6;\n",
              "    }\n",
              "\n",
              "    [theme=dark] .colab-df-convert {\n",
              "      background-color: #3B4455;\n",
              "      fill: #D2E3FC;\n",
              "    }\n",
              "\n",
              "    [theme=dark] .colab-df-convert:hover {\n",
              "      background-color: #434B5C;\n",
              "      box-shadow: 0px 1px 3px 1px rgba(0, 0, 0, 0.15);\n",
              "      filter: drop-shadow(0px 1px 2px rgba(0, 0, 0, 0.3));\n",
              "      fill: #FFFFFF;\n",
              "    }\n",
              "  </style>\n",
              "\n",
              "      <script>\n",
              "        const buttonEl =\n",
              "          document.querySelector('#df-ff176ec2-921d-48a1-9a97-9edf6974e077 button.colab-df-convert');\n",
              "        buttonEl.style.display =\n",
              "          google.colab.kernel.accessAllowed ? 'block' : 'none';\n",
              "\n",
              "        async function convertToInteractive(key) {\n",
              "          const element = document.querySelector('#df-ff176ec2-921d-48a1-9a97-9edf6974e077');\n",
              "          const dataTable =\n",
              "            await google.colab.kernel.invokeFunction('convertToInteractive',\n",
              "                                                     [key], {});\n",
              "          if (!dataTable) return;\n",
              "\n",
              "          const docLinkHtml = 'Like what you see? Visit the ' +\n",
              "            '<a target=\"_blank\" href=https://colab.research.google.com/notebooks/data_table.ipynb>data table notebook</a>'\n",
              "            + ' to learn more about interactive tables.';\n",
              "          element.innerHTML = '';\n",
              "          dataTable['output_type'] = 'display_data';\n",
              "          await google.colab.output.renderOutput(dataTable, element);\n",
              "          const docLink = document.createElement('div');\n",
              "          docLink.innerHTML = docLinkHtml;\n",
              "          element.appendChild(docLink);\n",
              "        }\n",
              "      </script>\n",
              "    </div>\n",
              "  </div>\n",
              "  "
            ]
          },
          "metadata": {},
          "execution_count": 120
        }
      ]
    },
    {
      "cell_type": "code",
      "source": [
        "selectionResults = []\n",
        "for i in range(0, 1):\n",
        "    selectionResults.append(popRanked[i][0])\n",
        "selectionResults"
      ],
      "metadata": {
        "colab": {
          "base_uri": "https://localhost:8080/"
        },
        "id": "gkzDwM2GZuCm",
        "outputId": "6a1badda-461d-466c-9945-e261e78c6739"
      },
      "execution_count": null,
      "outputs": [
        {
          "output_type": "execute_result",
          "data": {
            "text/plain": [
              "[0]"
            ]
          },
          "metadata": {},
          "execution_count": 143
        }
      ]
    },
    {
      "cell_type": "code",
      "source": [
        "for i in range(0, len(popRanked) - 1):\n",
        "    pick = 100*random.random()\n",
        "    print('pick: ',pick)\n",
        "    for i in range(0, len(popRanked)):\n",
        "        print('cum_perc: ',df.iat[i,3])\n",
        "        if pick <= df.iat[i,3]:\n",
        "          selectionResults.append(popRanked[i][0])\n",
        "          break"
      ],
      "metadata": {
        "colab": {
          "base_uri": "https://localhost:8080/"
        },
        "id": "pgef4T4AasH8",
        "outputId": "8cc9cc27-d1fd-4d8c-885e-01751f149b7d"
      },
      "execution_count": null,
      "outputs": [
        {
          "output_type": "stream",
          "name": "stdout",
          "text": [
            "pick:  50.184787568656354\n",
            "cum_perc:  21.63789379157773\n",
            "cum_perc:  42.58354960493735\n",
            "cum_perc:  63.16702426556473\n",
            "pick:  97.87712853040506\n",
            "cum_perc:  21.63789379157773\n",
            "cum_perc:  42.58354960493735\n",
            "cum_perc:  63.16702426556473\n",
            "cum_perc:  81.90170009945133\n",
            "cum_perc:  100.0\n",
            "pick:  39.5041138262712\n",
            "cum_perc:  21.63789379157773\n",
            "cum_perc:  42.58354960493735\n",
            "pick:  27.97197889318038\n",
            "cum_perc:  21.63789379157773\n",
            "cum_perc:  42.58354960493735\n"
          ]
        }
      ]
    },
    {
      "cell_type": "code",
      "source": [
        "selectionResults"
      ],
      "metadata": {
        "colab": {
          "base_uri": "https://localhost:8080/"
        },
        "id": "zPWC2n_vbkTo",
        "outputId": "23db7f96-41ed-4672-f482-4ae5e1db0047"
      },
      "execution_count": null,
      "outputs": [
        {
          "output_type": "execute_result",
          "data": {
            "text/plain": [
              "[0, 4, 2, 3, 3]"
            ]
          },
          "metadata": {},
          "execution_count": 145
        }
      ]
    },
    {
      "cell_type": "code",
      "source": [
        "# Route generator\n",
        "def createRoute(cityList):\n",
        "\n",
        "    route = random.sample(cityList, len(cityList)) \n",
        "\n",
        "    return route\n",
        "\n",
        "\n",
        "\n",
        "# fiteness\n",
        "def rankRoutes():\n",
        "\n",
        "    \n",
        "\n",
        "\n",
        "\n",
        "    return "
      ],
      "metadata": {
        "id": "FAp_j1bRXlDs"
      },
      "execution_count": null,
      "outputs": []
    },
    {
      "cell_type": "code",
      "source": [
        "# Algorithm 4 Mating pool creation\n",
        "def createMatingPool(poolSize, population, fitness):\n",
        "  \n",
        "  matingpool = []\n",
        "  for i in range(poolSize):\n",
        "    \n",
        "    matingPool = betterOf(randomElement(population), randomElement(population))\n",
        "\n",
        "  return matingPool\n"
      ],
      "metadata": {
        "id": "D3AjK0Dirf6N"
      },
      "execution_count": null,
      "outputs": []
    },
    {
      "cell_type": "code",
      "source": [
        ""
      ],
      "metadata": {
        "id": "-v8ceHVZxRce"
      },
      "execution_count": null,
      "outputs": []
    },
    {
      "cell_type": "code",
      "source": [
        "instance = randomInstance(25)\n",
        "instance"
      ],
      "metadata": {
        "colab": {
          "base_uri": "https://localhost:8080/"
        },
        "id": "um150Bd4YLrk",
        "outputId": "93541c0f-de74-47a1-9221-023b89d5a32b"
      },
      "execution_count": null,
      "outputs": [
        {
          "output_type": "execute_result",
          "data": {
            "text/plain": [
              "[(0.04053399495157295, 0.45608787990956523),\n",
              " (0.8222488370626424, 0.14242928223173568),\n",
              " (0.9422296787282552, 0.4930359886201955),\n",
              " (0.9836633695552962, 0.233453162446846),\n",
              " (0.9864784630372138, 0.3983740641343496),\n",
              " (0.3573952034783413, 0.6849602240475081),\n",
              " (0.19975170276012133, 0.656450982594702),\n",
              " (0.9504269752109059, 0.6299913737223153),\n",
              " (0.8297060826647692, 0.7285939729396739),\n",
              " (0.019035688834836084, 0.3739752533918991),\n",
              " (0.4590974103105431, 0.1834726118588973),\n",
              " (0.5650231447389383, 0.37024650748281285),\n",
              " (0.37434261964887394, 0.16810384329711747),\n",
              " (0.6645928517883437, 0.26433872741022924),\n",
              " (0.02062939282323084, 0.6822297937320043),\n",
              " (0.7249640995032604, 0.5347068046364845),\n",
              " (0.9682348723870688, 0.3329048789084118),\n",
              " (0.3048397777373598, 0.6896157272359497),\n",
              " (0.09250928674025272, 0.4074628672818633),\n",
              " (0.9015351139291252, 0.7282148104412608),\n",
              " (0.46351542267403534, 0.35653788303648104),\n",
              " (0.24204453079674182, 0.7188905445986152),\n",
              " (0.6830312949563427, 0.8900937672059002),\n",
              " (0.1047199724054848, 0.248557482599307),\n",
              " (0.8728955880158504, 0.5265306348445198)]"
            ]
          },
          "metadata": {},
          "execution_count": 55
        }
      ]
    },
    {
      "cell_type": "code",
      "source": [
        "route = createRoute(instance)\n",
        "route"
      ],
      "metadata": {
        "colab": {
          "base_uri": "https://localhost:8080/"
        },
        "id": "wimm9EkXdMtd",
        "outputId": "8eaa6f13-7d5f-46ff-e6c3-fa88f0722265"
      },
      "execution_count": null,
      "outputs": [
        {
          "output_type": "execute_result",
          "data": {
            "text/plain": [
              "[(0.9836633695552962, 0.233453162446846),\n",
              " (0.24204453079674182, 0.7188905445986152),\n",
              " (0.37434261964887394, 0.16810384329711747),\n",
              " (0.8297060826647692, 0.7285939729396739),\n",
              " (0.7249640995032604, 0.5347068046364845),\n",
              " (0.3048397777373598, 0.6896157272359497),\n",
              " (0.4590974103105431, 0.1834726118588973),\n",
              " (0.02062939282323084, 0.6822297937320043),\n",
              " (0.6645928517883437, 0.26433872741022924),\n",
              " (0.3573952034783413, 0.6849602240475081),\n",
              " (0.04053399495157295, 0.45608787990956523),\n",
              " (0.9504269752109059, 0.6299913737223153),\n",
              " (0.9864784630372138, 0.3983740641343496),\n",
              " (0.46351542267403534, 0.35653788303648104),\n",
              " (0.09250928674025272, 0.4074628672818633),\n",
              " (0.8222488370626424, 0.14242928223173568),\n",
              " (0.9422296787282552, 0.4930359886201955),\n",
              " (0.9682348723870688, 0.3329048789084118),\n",
              " (0.5650231447389383, 0.37024650748281285),\n",
              " (0.9015351139291252, 0.7282148104412608),\n",
              " (0.1047199724054848, 0.248557482599307),\n",
              " (0.6830312949563427, 0.8900937672059002),\n",
              " (0.019035688834836084, 0.3739752533918991),\n",
              " (0.19975170276012133, 0.656450982594702),\n",
              " (0.8728955880158504, 0.5265306348445198)]"
            ]
          },
          "metadata": {},
          "execution_count": 80
        }
      ]
    },
    {
      "cell_type": "code",
      "source": [
        "def initialPopulation(popSize, cityList):\n",
        "    population = []\n",
        "\n",
        "    for i in range(0, popSize):\n",
        "        population.append(createRoute(cityList))\n",
        "    return population"
      ],
      "metadata": {
        "id": "0bBbi5t3ySpV"
      },
      "execution_count": null,
      "outputs": []
    },
    {
      "cell_type": "code",
      "source": [
        "population = initialPopulation(5,instance)\n",
        "population"
      ],
      "metadata": {
        "colab": {
          "base_uri": "https://localhost:8080/",
          "height": 314
        },
        "id": "lnPn7K8ZyWyY",
        "outputId": "a563a4af-8f30-46a5-ecd6-b7c4cb41b218"
      },
      "execution_count": null,
      "outputs": [
        {
          "output_type": "error",
          "ename": "TypeError",
          "evalue": "ignored",
          "traceback": [
            "\u001b[0;31m---------------------------------------------------------------------------\u001b[0m",
            "\u001b[0;31mTypeError\u001b[0m                                 Traceback (most recent call last)",
            "\u001b[0;32m<ipython-input-100-6930f7b4d997>\u001b[0m in \u001b[0;36m<module>\u001b[0;34m()\u001b[0m\n\u001b[1;32m      1\u001b[0m \u001b[0mpopulation\u001b[0m \u001b[0;34m=\u001b[0m \u001b[0minitialPopulation\u001b[0m\u001b[0;34m(\u001b[0m\u001b[0;36m5\u001b[0m\u001b[0;34m,\u001b[0m\u001b[0minstance\u001b[0m\u001b[0;34m)\u001b[0m\u001b[0;34m\u001b[0m\u001b[0;34m\u001b[0m\u001b[0m\n\u001b[0;32m----> 2\u001b[0;31m \u001b[0mranking\u001b[0m \u001b[0;34m=\u001b[0m \u001b[0mrankRoutes\u001b[0m\u001b[0;34m(\u001b[0m\u001b[0mpopulation\u001b[0m\u001b[0;34m)\u001b[0m\u001b[0;34m\u001b[0m\u001b[0;34m\u001b[0m\u001b[0m\n\u001b[0m",
            "\u001b[0;32m<ipython-input-98-56a7fefae59f>\u001b[0m in \u001b[0;36mrankRoutes\u001b[0;34m(population)\u001b[0m\n\u001b[1;32m     27\u001b[0m \u001b[0;34m\u001b[0m\u001b[0m\n\u001b[1;32m     28\u001b[0m     \u001b[0;32mfor\u001b[0m \u001b[0mi\u001b[0m \u001b[0;32min\u001b[0m \u001b[0mrange\u001b[0m\u001b[0;34m(\u001b[0m\u001b[0;36m0\u001b[0m\u001b[0;34m,\u001b[0m\u001b[0mlen\u001b[0m\u001b[0;34m(\u001b[0m\u001b[0mpopulation\u001b[0m\u001b[0;34m)\u001b[0m\u001b[0;34m)\u001b[0m\u001b[0;34m:\u001b[0m\u001b[0;34m\u001b[0m\u001b[0;34m\u001b[0m\u001b[0m\n\u001b[0;32m---> 29\u001b[0;31m         \u001b[0mfitnessResults\u001b[0m\u001b[0;34m[\u001b[0m\u001b[0mi\u001b[0m\u001b[0;34m]\u001b[0m \u001b[0;34m=\u001b[0m \u001b[0;36m1\u001b[0m\u001b[0;34m/\u001b[0m\u001b[0mrouteDistance\u001b[0m\u001b[0;34m\u001b[0m\u001b[0;34m\u001b[0m\u001b[0m\n\u001b[0m\u001b[1;32m     30\u001b[0m \u001b[0;34m\u001b[0m\u001b[0m\n\u001b[1;32m     31\u001b[0m     \u001b[0;32mreturn\u001b[0m \u001b[0msorted\u001b[0m\u001b[0;34m(\u001b[0m\u001b[0mfitnessResults\u001b[0m\u001b[0;34m.\u001b[0m\u001b[0mitems\u001b[0m\u001b[0;34m(\u001b[0m\u001b[0;34m)\u001b[0m\u001b[0;34m,\u001b[0m \u001b[0mkey\u001b[0m \u001b[0;34m=\u001b[0m \u001b[0moperator\u001b[0m\u001b[0;34m.\u001b[0m\u001b[0mitemgetter\u001b[0m\u001b[0;34m(\u001b[0m\u001b[0;36m1\u001b[0m\u001b[0;34m)\u001b[0m\u001b[0;34m,\u001b[0m \u001b[0mreverse\u001b[0m \u001b[0;34m=\u001b[0m \u001b[0;32mTrue\u001b[0m\u001b[0;34m)\u001b[0m\u001b[0;34m\u001b[0m\u001b[0;34m\u001b[0m\u001b[0m\n",
            "\u001b[0;31mTypeError\u001b[0m: unsupported operand type(s) for /: 'int' and 'function'"
          ]
        }
      ]
    },
    {
      "cell_type": "code",
      "source": [
        ""
      ],
      "metadata": {
        "colab": {
          "base_uri": "https://localhost:8080/"
        },
        "id": "kzAMTK5nsmSe",
        "outputId": "bf9b215d-a5cd-4845-d8aa-a87498f10b51"
      },
      "execution_count": null,
      "outputs": [
        {
          "output_type": "execute_result",
          "data": {
            "text/plain": [
              "[[(0.9864784630372138, 0.3983740641343496),\n",
              "  (0.9015351139291252, 0.7282148104412608),\n",
              "  (0.8222488370626424, 0.14242928223173568),\n",
              "  (0.019035688834836084, 0.3739752533918991),\n",
              "  (0.04053399495157295, 0.45608787990956523),\n",
              "  (0.37434261964887394, 0.16810384329711747),\n",
              "  (0.5650231447389383, 0.37024650748281285),\n",
              "  (0.6645928517883437, 0.26433872741022924),\n",
              "  (0.9682348723870688, 0.3329048789084118),\n",
              "  (0.02062939282323084, 0.6822297937320043),\n",
              "  (0.9836633695552962, 0.233453162446846),\n",
              "  (0.1047199724054848, 0.248557482599307),\n",
              "  (0.09250928674025272, 0.4074628672818633),\n",
              "  (0.8297060826647692, 0.7285939729396739),\n",
              "  (0.3573952034783413, 0.6849602240475081),\n",
              "  (0.6830312949563427, 0.8900937672059002),\n",
              "  (0.3048397777373598, 0.6896157272359497),\n",
              "  (0.46351542267403534, 0.35653788303648104),\n",
              "  (0.4590974103105431, 0.1834726118588973),\n",
              "  (0.7249640995032604, 0.5347068046364845),\n",
              "  (0.9504269752109059, 0.6299913737223153),\n",
              "  (0.19975170276012133, 0.656450982594702),\n",
              "  (0.9422296787282552, 0.4930359886201955),\n",
              "  (0.8728955880158504, 0.5265306348445198),\n",
              "  (0.24204453079674182, 0.7188905445986152)],\n",
              " [(0.8728955880158504, 0.5265306348445198),\n",
              "  (0.24204453079674182, 0.7188905445986152),\n",
              "  (0.9015351139291252, 0.7282148104412608),\n",
              "  (0.6830312949563427, 0.8900937672059002),\n",
              "  (0.8222488370626424, 0.14242928223173568),\n",
              "  (0.4590974103105431, 0.1834726118588973),\n",
              "  (0.9864784630372138, 0.3983740641343496),\n",
              "  (0.37434261964887394, 0.16810384329711747),\n",
              "  (0.9836633695552962, 0.233453162446846),\n",
              "  (0.3048397777373598, 0.6896157272359497),\n",
              "  (0.02062939282323084, 0.6822297937320043),\n",
              "  (0.7249640995032604, 0.5347068046364845),\n",
              "  (0.019035688834836084, 0.3739752533918991),\n",
              "  (0.9682348723870688, 0.3329048789084118),\n",
              "  (0.04053399495157295, 0.45608787990956523),\n",
              "  (0.46351542267403534, 0.35653788303648104),\n",
              "  (0.5650231447389383, 0.37024650748281285),\n",
              "  (0.1047199724054848, 0.248557482599307),\n",
              "  (0.9504269752109059, 0.6299913737223153),\n",
              "  (0.3573952034783413, 0.6849602240475081),\n",
              "  (0.09250928674025272, 0.4074628672818633),\n",
              "  (0.6645928517883437, 0.26433872741022924),\n",
              "  (0.9422296787282552, 0.4930359886201955),\n",
              "  (0.19975170276012133, 0.656450982594702),\n",
              "  (0.8297060826647692, 0.7285939729396739)],\n",
              " [(0.46351542267403534, 0.35653788303648104),\n",
              "  (0.02062939282323084, 0.6822297937320043),\n",
              "  (0.9504269752109059, 0.6299913737223153),\n",
              "  (0.6645928517883437, 0.26433872741022924),\n",
              "  (0.04053399495157295, 0.45608787990956523),\n",
              "  (0.8222488370626424, 0.14242928223173568),\n",
              "  (0.37434261964887394, 0.16810384329711747),\n",
              "  (0.09250928674025272, 0.4074628672818633),\n",
              "  (0.5650231447389383, 0.37024650748281285),\n",
              "  (0.7249640995032604, 0.5347068046364845),\n",
              "  (0.019035688834836084, 0.3739752533918991),\n",
              "  (0.6830312949563427, 0.8900937672059002),\n",
              "  (0.9422296787282552, 0.4930359886201955),\n",
              "  (0.1047199724054848, 0.248557482599307),\n",
              "  (0.9015351139291252, 0.7282148104412608),\n",
              "  (0.24204453079674182, 0.7188905445986152),\n",
              "  (0.4590974103105431, 0.1834726118588973),\n",
              "  (0.8728955880158504, 0.5265306348445198),\n",
              "  (0.8297060826647692, 0.7285939729396739),\n",
              "  (0.9836633695552962, 0.233453162446846),\n",
              "  (0.3573952034783413, 0.6849602240475081),\n",
              "  (0.9864784630372138, 0.3983740641343496),\n",
              "  (0.19975170276012133, 0.656450982594702),\n",
              "  (0.3048397777373598, 0.6896157272359497),\n",
              "  (0.9682348723870688, 0.3329048789084118)],\n",
              " [(0.02062939282323084, 0.6822297937320043),\n",
              "  (0.24204453079674182, 0.7188905445986152),\n",
              "  (0.5650231447389383, 0.37024650748281285),\n",
              "  (0.9836633695552962, 0.233453162446846),\n",
              "  (0.19975170276012133, 0.656450982594702),\n",
              "  (0.9682348723870688, 0.3329048789084118),\n",
              "  (0.8222488370626424, 0.14242928223173568),\n",
              "  (0.04053399495157295, 0.45608787990956523),\n",
              "  (0.46351542267403534, 0.35653788303648104),\n",
              "  (0.9015351139291252, 0.7282148104412608),\n",
              "  (0.6645928517883437, 0.26433872741022924),\n",
              "  (0.7249640995032604, 0.5347068046364845),\n",
              "  (0.9422296787282552, 0.4930359886201955),\n",
              "  (0.1047199724054848, 0.248557482599307),\n",
              "  (0.9504269752109059, 0.6299913737223153),\n",
              "  (0.6830312949563427, 0.8900937672059002),\n",
              "  (0.09250928674025272, 0.4074628672818633),\n",
              "  (0.9864784630372138, 0.3983740641343496),\n",
              "  (0.019035688834836084, 0.3739752533918991),\n",
              "  (0.37434261964887394, 0.16810384329711747),\n",
              "  (0.4590974103105431, 0.1834726118588973),\n",
              "  (0.8728955880158504, 0.5265306348445198),\n",
              "  (0.8297060826647692, 0.7285939729396739),\n",
              "  (0.3048397777373598, 0.6896157272359497),\n",
              "  (0.3573952034783413, 0.6849602240475081)],\n",
              " [(0.9682348723870688, 0.3329048789084118),\n",
              "  (0.24204453079674182, 0.7188905445986152),\n",
              "  (0.9422296787282552, 0.4930359886201955),\n",
              "  (0.09250928674025272, 0.4074628672818633),\n",
              "  (0.3573952034783413, 0.6849602240475081),\n",
              "  (0.5650231447389383, 0.37024650748281285),\n",
              "  (0.7249640995032604, 0.5347068046364845),\n",
              "  (0.6645928517883437, 0.26433872741022924),\n",
              "  (0.3048397777373598, 0.6896157272359497),\n",
              "  (0.9864784630372138, 0.3983740641343496),\n",
              "  (0.9836633695552962, 0.233453162446846),\n",
              "  (0.1047199724054848, 0.248557482599307),\n",
              "  (0.8728955880158504, 0.5265306348445198),\n",
              "  (0.19975170276012133, 0.656450982594702),\n",
              "  (0.6830312949563427, 0.8900937672059002),\n",
              "  (0.02062939282323084, 0.6822297937320043),\n",
              "  (0.04053399495157295, 0.45608787990956523),\n",
              "  (0.019035688834836084, 0.3739752533918991),\n",
              "  (0.8297060826647692, 0.7285939729396739),\n",
              "  (0.37434261964887394, 0.16810384329711747),\n",
              "  (0.9504269752109059, 0.6299913737223153),\n",
              "  (0.9015351139291252, 0.7282148104412608),\n",
              "  (0.8222488370626424, 0.14242928223173568),\n",
              "  (0.4590974103105431, 0.1834726118588973),\n",
              "  (0.46351542267403534, 0.35653788303648104)]]"
            ]
          },
          "metadata": {},
          "execution_count": 101
        }
      ]
    },
    {
      "cell_type": "code",
      "source": [
        "ranking = rankRoutes(population)"
      ],
      "metadata": {
        "id": "G_vCc4W0zNTr"
      },
      "execution_count": null,
      "outputs": []
    },
    {
      "cell_type": "code",
      "source": [
        "ranking"
      ],
      "metadata": {
        "colab": {
          "base_uri": "https://localhost:8080/"
        },
        "id": "PWomxirwzPRz",
        "outputId": "23968444-8ca2-4323-8769-4b063db7338e"
      },
      "execution_count": null,
      "outputs": [
        {
          "output_type": "execute_result",
          "data": {
            "text/plain": [
              "[(0, 0.0798984481700883),\n",
              " (3, 0.07734234262872756),\n",
              " (4, 0.07600497992889658),\n",
              " (1, 0.06917824537431792),\n",
              " (2, 0.06682841178994736)]"
            ]
          },
          "metadata": {},
          "execution_count": 104
        }
      ]
    },
    {
      "cell_type": "code",
      "source": [
        "class Fitness:\n",
        "    def __init__(self, route):\n",
        "        self.route = route\n",
        "        self.distance = 0\n",
        "        self.fitness= 0.0\n",
        "    \n",
        "    def routeDistance(self):\n",
        "        if self.distance ==0:\n",
        "            pathDistance = 0\n",
        "            for i in range(0, len(self.route)):\n",
        "                fromCity = self.route[i]\n",
        "                toCity = None\n",
        "                if i + 1 < len(self.route):\n",
        "                    toCity = self.route[i + 1]\n",
        "                else:\n",
        "                    toCity = self.route[0]\n",
        "                pathDistance += fromCity.distance(toCity)\n",
        "            self.distance = pathDistance\n",
        "        return self.distance\n",
        "    \n",
        "    def routeFitness(self):\n",
        "        if self.fitness == 0:\n",
        "            self.fitness = 1 / float(self.routeDistance())\n",
        "        return self.fitness\n",
        "\n",
        "\n",
        "\n",
        "\n",
        "\n",
        "\n",
        "\n",
        "\n",
        "\n",
        "\n"
      ],
      "metadata": {
        "colab": {
          "base_uri": "https://localhost:8080/"
        },
        "id": "zlV9ucVNlYFM",
        "outputId": "b21d4254-1873-4ee1-b75c-ecee851772e3"
      },
      "execution_count": null,
      "outputs": [
        {
          "output_type": "execute_result",
          "data": {
            "text/plain": [
              "0.233453162446846"
            ]
          },
          "metadata": {},
          "execution_count": 83
        }
      ]
    },
    {
      "cell_type": "code",
      "source": [
        "\n",
        "plt.scatter(*zip(*instance))\n",
        "\n",
        "plt.show()"
      ],
      "metadata": {
        "colab": {
          "base_uri": "https://localhost:8080/",
          "height": 286
        },
        "id": "5p5gCYw6gbzQ",
        "outputId": "a24a2e9b-aeb1-4d19-b005-b6aa2d74abc3"
      },
      "execution_count": null,
      "outputs": [
        {
          "output_type": "display_data",
          "data": {
            "text/plain": [
              "<Figure size 432x288 with 1 Axes>"
            ],
            "image/png": "[encoded data removed]"
          },
          "metadata": {
            "needs_background": "light"
          }
        }
      ]
    },
    {
      "cell_type": "code",
      "source": [
        "x"
      ],
      "metadata": {
        "colab": {
          "base_uri": "https://localhost:8080/"
        },
        "id": "k8AN1HohkocE",
        "outputId": "40aa44e7-a982-49b7-8de2-f8feb17713a1"
      },
      "execution_count": null,
      "outputs": [
        {
          "output_type": "execute_result",
          "data": {
            "text/plain": [
              "array([0.18751996, 0.50945669, 0.00321079, 0.70366955, 0.99054547,\n",
              "       0.82206771, 0.53719478, 0.42652522, 0.81255149, 0.5755192 ])"
            ]
          },
          "metadata": {},
          "execution_count": 77
        }
      ]
    },
    {
      "cell_type": "code",
      "source": [
        "x[0:0+2]"
      ],
      "metadata": {
        "colab": {
          "base_uri": "https://localhost:8080/"
        },
        "id": "qMGgBjR7gqKP",
        "outputId": "f192cbd8-5624-4a92-cd15-f94d328dfdf4"
      },
      "execution_count": null,
      "outputs": [
        {
          "output_type": "execute_result",
          "data": {
            "text/plain": [
              "array([0.18751996, 0.50945669])"
            ]
          },
          "metadata": {},
          "execution_count": 79
        }
      ]
    },
    {
      "cell_type": "code",
      "source": [
        "# Create first \"population\" (list of routes)\n",
        "def initialPopulation(popSize, cityList):\n",
        "    population = []\n",
        "\n",
        "    for i in range(0, popSize):\n",
        "        population.append(createRoute(cityList))\n",
        "    return population"
      ],
      "metadata": {
        "colab": {
          "base_uri": "https://localhost:8080/"
        },
        "id": "yy46Rr7fXpLY",
        "outputId": "8a01e87b-7c95-4a8c-aa52-6c98eac9eafc"
      },
      "execution_count": null,
      "outputs": [
        {
          "output_type": "execute_result",
          "data": {
            "text/plain": [
              "0.9948276008607537"
            ]
          },
          "metadata": {},
          "execution_count": 50
        }
      ]
    }
  ]
}