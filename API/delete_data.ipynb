{
 "cells": [
  {
   "cell_type": "code",
   "execution_count": 53,
   "id": "8f8a0179",
   "metadata": {},
   "outputs": [],
   "source": [
    "import gitlab\n",
    "import re\n",
    "import json\n",
    "import pandas as pd\n",
    "import time\n",
    "token = ''\n",
    "host = ''\n",
    "gl = gitlab.Gitlab(url=host, private_token=token)"
   ]
  },
  {
   "cell_type": "code",
   "execution_count": 162,
   "id": "43502913",
   "metadata": {},
   "outputs": [],
   "source": [
    "# Remove all users and repo except Admin staff\n",
    "\n",
    "users_ids = [user.id for user in gl.users.list(get_all=True) if user.id not in [1]]\n",
    "\n",
    "for ids in users_ids:\n",
    "    time.sleep(0.5)\n",
    "    try:\n",
    "        gl.users.delete(id=ids, hard_delete=True)\n",
    "    except:\n",
    "        continue"
   ]
  },
  {
   "cell_type": "code",
   "execution_count": 163,
   "id": "6796ff78",
   "metadata": {},
   "outputs": [],
   "source": [
    "project_ids = [project.id for project in gl.projects.list(get_all=True) if project.id != 2]\n",
    "\n",
    "for ids in project_ids:\n",
    "    try:\n",
    "        gl.projects.delete(id=ids)\n",
    "    except:\n",
    "        continue"
   ]
  },
  {
   "cell_type": "code",
   "execution_count": 164,
   "id": "0c433203",
   "metadata": {},
   "outputs": [
    {
     "data": {
      "text/plain": [
       "[<User id:1 username:root>]"
      ]
     },
     "execution_count": 164,
     "metadata": {},
     "output_type": "execute_result"
    }
   ],
   "source": [
    "gl.users.list(get_all=True)"
   ]
  },
  {
   "cell_type": "code",
   "execution_count": 165,
   "id": "5f533a15",
   "metadata": {},
   "outputs": [
    {
     "data": {
      "text/plain": [
       "[]"
      ]
     },
     "execution_count": 165,
     "metadata": {},
     "output_type": "execute_result"
    }
   ],
   "source": [
    "gl.projects.list(get_all=True)"
   ]
  }
 ],
 "metadata": {
  "kernelspec": {
   "display_name": "Python 3.8.2 64-bit",
   "language": "python",
   "name": "python3"
  },
  "language_info": {
   "codemirror_mode": {
    "name": "ipython",
    "version": 3
   },
   "file_extension": ".py",
   "mimetype": "text/x-python",
   "name": "python",
   "nbconvert_exporter": "python",
   "pygments_lexer": "ipython3",
   "version": "3.8.2"
  },
  "vscode": {
   "interpreter": {
    "hash": "31f2aee4e71d21fbe5cf8b01ff0e069b9275f58929596ceb00d14d90e3e16cd6"
   }
  }
 },
 "nbformat": 4,
 "nbformat_minor": 5
}
