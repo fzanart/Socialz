{
 "cells": [
  {
   "cell_type": "code",
   "execution_count": 2,
   "metadata": {},
   "outputs": [],
   "source": [
    "import pandas as pd\n",
    "import matplotlib.pyplot as plt\n",
    "import seaborn as sns\n",
    "import numpy as np\n",
    "from scipy.stats import mannwhitneyu\n",
    "from scipy.stats import f_oneway"
   ]
  },
  {
   "cell_type": "code",
   "execution_count": 72,
   "metadata": {},
   "outputs": [],
   "source": [
    "def range_data(df, init_time, end_time):\n",
    "    df['Time'] = pd.to_datetime(df['Time'], utc=True)\n",
    "    return df[(df['Time'] >= pd.to_datetime(init_time)) & (df['Time'] <= pd.to_datetime(end_time))]\n"
   ]
  },
  {
   "cell_type": "code",
   "execution_count": 85,
   "metadata": {},
   "outputs": [],
   "source": [
    "#Diversified time\n",
    "init_time, end_time = '2022-10-28T02:19:10Z','2022-10-28T05:11:59Z'\n",
    "d_error_ratio = pd.read_csv('/Users/francisco/Library/CloudStorage/OneDrive-Personal/Uni of Adelaide/Socialz/Socialz/Data/Rsults/Diversified/Error Ratios-data-2022-10-28 05 32 40.csv', skiprows=1)\n",
    "d_memory_util = pd.read_csv('/Users/francisco/Library/CloudStorage/OneDrive-Personal/Uni of Adelaide/Socialz/Socialz/Data/Rsults/Diversified/Memory Utilization-data-2022-10-28 05 33 49.csv', skiprows=1)\n",
    "d_rps = pd.read_csv('/Users/francisco/Library/CloudStorage/OneDrive-Personal/Uni of Adelaide/Socialz/Socialz/Data/Rsults/Diversified/RPS - Service Requests per Second-data-2022-10-28 05 32 58.csv', skiprows=1)\n",
    "d_latency = pd.read_csv('/Users/francisco/Library/CloudStorage/OneDrive-Personal/Uni of Adelaide/Socialz/Socialz/Data/Rsults/Diversified/Workhorse Latency-data-as-seriestocolumns-2022-10-28 05 34 46.csv',skiprows=1)\n",
    "d_saturation = pd.read_csv('/Users/francisco/Library/CloudStorage/OneDrive-Personal/Uni of Adelaide/Socialz/Socialz/Data/Rsults/Diversified/Saturation-data-as-seriestocolumns-2022-10-28 05 31 43.csv', skiprows=1)\n",
    "\n",
    "d_error_ratio = range_data(d_error_ratio, init_time, end_time)\n",
    "d_memory_util = range_data(d_memory_util, init_time, end_time)\n",
    "d_rps = range_data(d_rps, init_time, end_time)\n",
    "d_latency = range_data(d_latency, init_time, end_time)\n",
    "d_saturation = range_data(d_saturation, init_time, end_time)"
   ]
  },
  {
   "cell_type": "code",
   "execution_count": 86,
   "metadata": {},
   "outputs": [],
   "source": [
    "# Original time\n",
    "init_time, end_time = '2022-09-27T11:13:00Z','2022-09-27T13:31:00Z'\n",
    "n_error_ratio = pd.read_csv('/Users/francisco/Library/CloudStorage/OneDrive-Personal/Uni of Adelaide/Socialz/Socialz/Data/Rsults/Normal/Error Ratios-data-as-seriestocolumns-2022-09-27 15 18 49.csv',skiprows=1)\n",
    "n_memory_util = pd.read_csv('/Users/francisco/Library/CloudStorage/OneDrive-Personal/Uni of Adelaide/Socialz/Socialz/Data/Rsults/Normal/Memory Utilization-data-2022-09-27 15 18 13.csv',skiprows=1)\n",
    "n_rps = pd.read_csv('/Users/francisco/Library/CloudStorage/OneDrive-Personal/Uni of Adelaide/Socialz/Socialz/Data/Rsults/Normal/RPS - Service Requests per Second-data-2022-09-27 15 19 23.csv',skiprows=1)\n",
    "n_latency = pd.read_csv('/Users/francisco/Library/CloudStorage/OneDrive-Personal/Uni of Adelaide/Socialz/Socialz/Data/Rsults/Normal/Workhorse Latency-data-as-seriestocolumns-2022-09-27 15 21 52.csv',skiprows=1)\n",
    "n_saturation = pd.read_csv('/Users/francisco/Library/CloudStorage/OneDrive-Personal/Uni of Adelaide/Socialz/Socialz/Data/Rsults/Normal/Saturation-data-as-seriestocolumns-2022-09-27 15 21 00.csv', skiprows=1)\n",
    "\n",
    "n_error_ratio = range_data(n_error_ratio, init_time, end_time)\n",
    "n_memory_util = range_data(n_memory_util, init_time, end_time)\n",
    "n_rps = range_data(n_rps, init_time, end_time)\n",
    "n_latency = range_data(n_latency, init_time, end_time)\n",
    "n_saturation = range_data(n_saturation, init_time, end_time)"
   ]
  },
  {
   "cell_type": "code",
   "execution_count": 87,
   "metadata": {},
   "outputs": [],
   "source": [
    "# Expanded dummy\n",
    "init_time, end_time = '2022-10-27T05:17:51Z','2022-10-27T08:09:56Z'\n",
    "e_error_ratio = pd.read_csv('/Users/francisco/Library/CloudStorage/OneDrive-Personal/Uni of Adelaide/Socialz/Socialz/Data/Rsults/Normal_dummy/Error Ratios-data-2022-10-27 09 04 46.csv', skiprows=1)\n",
    "e_memory_util = pd.read_csv('/Users/francisco/Library/CloudStorage/OneDrive-Personal/Uni of Adelaide/Socialz/Socialz/Data/Rsults/Normal_dummy/Memory Utilization-data-2022-10-27 09 05 21.csv', skiprows=1)\n",
    "e_rps = pd.read_csv('/Users/francisco/Library/CloudStorage/OneDrive-Personal/Uni of Adelaide/Socialz/Socialz/Data/Rsults/Normal_dummy/RPS - Service Requests per Second-data-2022-10-27 09 05 03.csv', skiprows=1)\n",
    "e_latency = pd.read_csv('/Users/francisco/Library/CloudStorage/OneDrive-Personal/Uni of Adelaide/Socialz/Socialz/Data/Rsults/Normal_dummy/Workhorse Latency-data-as-seriestocolumns-2022-10-27 09 04 21.csv', skiprows=1)\n",
    "e_saturation = pd.read_csv('/Users/francisco/Library/CloudStorage/OneDrive-Personal/Uni of Adelaide/Socialz/Socialz/Data/Rsults/Normal_dummy/Saturation-data-as-seriestocolumns-2022-10-27 09 04 00.csv', skiprows=1)\n",
    "\n",
    "e_error_ratio = range_data(e_error_ratio, init_time, end_time)\n",
    "e_memory_util = range_data(e_memory_util, init_time, end_time)\n",
    "e_rps = range_data(e_rps, init_time, end_time)\n",
    "e_latency = range_data(e_latency, init_time, end_time)\n",
    "e_saturation = range_data(e_saturation, init_time, end_time)\n"
   ]
  },
  {
   "cell_type": "code",
   "execution_count": 88,
   "metadata": {},
   "outputs": [],
   "source": [
    "# Expanded Random\n",
    "\n",
    "init_time, end_time = '2022-10-27T22:53:43Z','2022-10-28T01:42:16Z'\n",
    "r_error_ratio = pd.read_csv('/Users/francisco/Library/CloudStorage/OneDrive-Personal/Uni of Adelaide/Socialz/Socialz/Data/Rsults/Normal_random/Error Ratios-data-2022-10-28 01 47 50.csv', skiprows=1)\n",
    "r_memory_util = pd.read_csv('/Users/francisco/Library/CloudStorage/OneDrive-Personal/Uni of Adelaide/Socialz/Socialz/Data/Rsults/Normal_random/Memory Utilization-data-2022-10-28 01 48 59.csv', skiprows=1)\n",
    "r_rps = pd.read_csv('/Users/francisco/Library/CloudStorage/OneDrive-Personal/Uni of Adelaide/Socialz/Socialz/Data/Rsults/Normal_random/RPS - Service Requests per Second-data-2022-10-28 01 48 10.csv', skiprows=1)\n",
    "r_latency = pd.read_csv('/Users/francisco/Library/CloudStorage/OneDrive-Personal/Uni of Adelaide/Socialz/Socialz/Data/Rsults/Normal_random/Workhorse Latency-data-as-seriestocolumns-2022-10-28 01 46 58.csv', skiprows=1)\n",
    "r_saturation = pd.read_csv('/Users/francisco/Library/CloudStorage/OneDrive-Personal/Uni of Adelaide/Socialz/Socialz/Data/Rsults/Normal_random/Saturation-data-as-seriestocolumns-2022-10-28 01 47 32.csv', skiprows=1)\n",
    "\n",
    "r_error_ratio = range_data(r_error_ratio, init_time, end_time)\n",
    "r_memory_util = range_data(r_memory_util, init_time, end_time)\n",
    "r_rps = range_data(r_rps, init_time, end_time)\n",
    "r_latency = range_data(r_latency, init_time, end_time)\n",
    "r_saturation = range_data(r_saturation, init_time, end_time)\n"
   ]
  },
  {
   "cell_type": "code",
   "execution_count": 79,
   "metadata": {},
   "outputs": [
    {
     "data": {
      "text/html": [
       "<div>\n",
       "<style scoped>\n",
       "    .dataframe tbody tr th:only-of-type {\n",
       "        vertical-align: middle;\n",
       "    }\n",
       "\n",
       "    .dataframe tbody tr th {\n",
       "        vertical-align: top;\n",
       "    }\n",
       "\n",
       "    .dataframe thead th {\n",
       "        text-align: right;\n",
       "    }\n",
       "</style>\n",
       "<table border=\"1\" class=\"dataframe\">\n",
       "  <thead>\n",
       "    <tr style=\"text-align: right;\">\n",
       "      <th></th>\n",
       "      <th>Divirsified</th>\n",
       "      <th>Expanded Dummy</th>\n",
       "      <th>Expanded Random</th>\n",
       "    </tr>\n",
       "  </thead>\n",
       "  <tbody>\n",
       "    <tr>\n",
       "      <th>count</th>\n",
       "      <td>172.000000</td>\n",
       "      <td>29.0</td>\n",
       "      <td>169.000000</td>\n",
       "    </tr>\n",
       "    <tr>\n",
       "      <th>mean</th>\n",
       "      <td>0.000029</td>\n",
       "      <td>0.0</td>\n",
       "      <td>0.000002</td>\n",
       "    </tr>\n",
       "    <tr>\n",
       "      <th>std</th>\n",
       "      <td>0.000384</td>\n",
       "      <td>0.0</td>\n",
       "      <td>0.000021</td>\n",
       "    </tr>\n",
       "    <tr>\n",
       "      <th>min</th>\n",
       "      <td>0.000000</td>\n",
       "      <td>0.0</td>\n",
       "      <td>0.000000</td>\n",
       "    </tr>\n",
       "    <tr>\n",
       "      <th>25%</th>\n",
       "      <td>0.000000</td>\n",
       "      <td>0.0</td>\n",
       "      <td>0.000000</td>\n",
       "    </tr>\n",
       "    <tr>\n",
       "      <th>50%</th>\n",
       "      <td>0.000000</td>\n",
       "      <td>0.0</td>\n",
       "      <td>0.000000</td>\n",
       "    </tr>\n",
       "    <tr>\n",
       "      <th>75%</th>\n",
       "      <td>0.000000</td>\n",
       "      <td>0.0</td>\n",
       "      <td>0.000000</td>\n",
       "    </tr>\n",
       "    <tr>\n",
       "      <th>max</th>\n",
       "      <td>0.005030</td>\n",
       "      <td>0.0</td>\n",
       "      <td>0.000279</td>\n",
       "    </tr>\n",
       "  </tbody>\n",
       "</table>\n",
       "</div>"
      ],
      "text/plain": [
       "       Divirsified  Expanded Dummy  Expanded Random\n",
       "count   172.000000            29.0       169.000000\n",
       "mean      0.000029             0.0         0.000002\n",
       "std       0.000384             0.0         0.000021\n",
       "min       0.000000             0.0         0.000000\n",
       "25%       0.000000             0.0         0.000000\n",
       "50%       0.000000             0.0         0.000000\n",
       "75%       0.000000             0.0         0.000000\n",
       "max       0.005030             0.0         0.000279"
      ]
     },
     "execution_count": 79,
     "metadata": {},
     "output_type": "execute_result"
    }
   ],
   "source": [
    "error_ratio = pd.concat([d_error_ratio['postgres service'].describe(), e_error_ratio['postgres service'].describe(), r_error_ratio['postgres service'].describe()], axis=1)\n",
    "error_ratio.columns= ['Divirsified', 'Expanded Dummy', 'Expanded Random']\n",
    "error_ratio"
   ]
  },
  {
   "cell_type": "code",
   "execution_count": 80,
   "metadata": {},
   "outputs": [
    {
     "data": {
      "text/plain": [
       "<AxesSubplot:xlabel='postgres service', ylabel='Dataset'>"
      ]
     },
     "execution_count": 80,
     "metadata": {},
     "output_type": "execute_result"
    },
    {
     "data": {
      "image/png": "[encoded data removed]",
      "text/plain": [
       "<Figure size 432x288 with 1 Axes>"
      ]
     },
     "metadata": {
      "needs_background": "light"
     },
     "output_type": "display_data"
    }
   ],
   "source": [
    "# Error ratio:\n",
    "# Drop column gitlab-workhorse service, add column 'Dataset' to diferenciate experiments.\n",
    "\n",
    "#d_error_ratio.drop('gitlab-workhorse service',axis=1 ,inplace=True)\n",
    "d_error_ratio['Dataset'] = 'Diversified'\n",
    "\n",
    "# n_error_ratio.drop('gitlab-workhorse service',axis=1 ,inplace=True)\n",
    "# n_error_ratio['Dataset'] = 'Original'\n",
    "\n",
    "e_error_ratio['Dataset'] = 'Expanded, Dummy'\n",
    "r_error_ratio['Dataset'] = 'Expanded, Random'\n",
    "\n",
    "data = pd.concat([n_error_ratio, d_error_ratio, e_error_ratio, r_error_ratio])\n",
    "sns.violinplot(x='postgres service', y='Dataset', data=data, cut=0)"
   ]
  },
  {
   "cell_type": "code",
   "execution_count": 93,
   "metadata": {},
   "outputs": [
    {
     "name": "stdout",
     "output_type": "stream",
     "text": [
      "Mann–Whitney U Test: stat = 2508.5000, p-value = 0.6918\n",
      "Null hypothesis: the distribution of error ratio is the same in the original and diversified datasets.\n",
      "Result: We do not reject the null hypothesis\n"
     ]
    }
   ],
   "source": [
    "stat, p_value = mannwhitneyu(d_error_ratio['postgres service'], e_error_ratio['postgres service'])\n",
    "print(f'Mann–Whitney U Test: stat = {stat:.4f}, p-value = {p_value:.4f}')\n",
    "print('Null hypothesis: the distribution of error ratio is the same in the original and diversified datasets.')\n",
    "if p_value > 0.05:\n",
    "    #'Same distribution (fail to reject H0)'\n",
    "    print('Result: We do not reject the null hypothesis')\n",
    "else:\n",
    "    #'Different distribution, (reject H0)'\n",
    "    print('Result: We reject the null hypothesis')"
   ]
  },
  {
   "cell_type": "code",
   "execution_count": 94,
   "metadata": {},
   "outputs": [
    {
     "name": "stdout",
     "output_type": "stream",
     "text": [
      "Mann–Whitney U Test: stat = 14533.0000, p-value = 0.9967\n",
      "Null hypothesis: the distribution of error ratio is the same in the original and diversified datasets.\n",
      "Result: We do not reject the null hypothesis\n"
     ]
    }
   ],
   "source": [
    "stat, p_value = mannwhitneyu(d_error_ratio['postgres service'], r_error_ratio['postgres service'])\n",
    "print(f'Mann–Whitney U Test: stat = {stat:.4f}, p-value = {p_value:.4f}')\n",
    "print('Null hypothesis: the distribution of error ratio is the same in the original and diversified datasets.')\n",
    "if p_value > 0.05:\n",
    "    #'Same distribution (fail to reject H0)'\n",
    "    print('Result: We do not reject the null hypothesis')\n",
    "else:\n",
    "    #'Different distribution, (reject H0)'\n",
    "    print('Result: We reject the null hypothesis')"
   ]
  },
  {
   "cell_type": "code",
   "execution_count": 89,
   "metadata": {},
   "outputs": [
    {
     "data": {
      "text/html": [
       "<div>\n",
       "<style scoped>\n",
       "    .dataframe tbody tr th:only-of-type {\n",
       "        vertical-align: middle;\n",
       "    }\n",
       "\n",
       "    .dataframe tbody tr th {\n",
       "        vertical-align: top;\n",
       "    }\n",
       "\n",
       "    .dataframe thead th {\n",
       "        text-align: right;\n",
       "    }\n",
       "</style>\n",
       "<table border=\"1\" class=\"dataframe\">\n",
       "  <thead>\n",
       "    <tr style=\"text-align: right;\">\n",
       "      <th></th>\n",
       "      <th>Divirsified</th>\n",
       "      <th>Expanded, Dummy</th>\n",
       "      <th>Expanded, Random</th>\n",
       "    </tr>\n",
       "  </thead>\n",
       "  <tbody>\n",
       "    <tr>\n",
       "      <th>count</th>\n",
       "      <td>172.000000</td>\n",
       "      <td>86.000000</td>\n",
       "      <td>169.000000</td>\n",
       "    </tr>\n",
       "    <tr>\n",
       "      <th>mean</th>\n",
       "      <td>0.737640</td>\n",
       "      <td>0.735709</td>\n",
       "      <td>0.705308</td>\n",
       "    </tr>\n",
       "    <tr>\n",
       "      <th>std</th>\n",
       "      <td>0.006227</td>\n",
       "      <td>0.006896</td>\n",
       "      <td>0.007202</td>\n",
       "    </tr>\n",
       "    <tr>\n",
       "      <th>min</th>\n",
       "      <td>0.716000</td>\n",
       "      <td>0.721000</td>\n",
       "      <td>0.679000</td>\n",
       "    </tr>\n",
       "    <tr>\n",
       "      <th>25%</th>\n",
       "      <td>0.733000</td>\n",
       "      <td>0.731000</td>\n",
       "      <td>0.700000</td>\n",
       "    </tr>\n",
       "    <tr>\n",
       "      <th>50%</th>\n",
       "      <td>0.737000</td>\n",
       "      <td>0.734000</td>\n",
       "      <td>0.705000</td>\n",
       "    </tr>\n",
       "    <tr>\n",
       "      <th>75%</th>\n",
       "      <td>0.742000</td>\n",
       "      <td>0.740000</td>\n",
       "      <td>0.710000</td>\n",
       "    </tr>\n",
       "    <tr>\n",
       "      <th>max</th>\n",
       "      <td>0.765000</td>\n",
       "      <td>0.753000</td>\n",
       "      <td>0.726000</td>\n",
       "    </tr>\n",
       "  </tbody>\n",
       "</table>\n",
       "</div>"
      ],
      "text/plain": [
       "       Divirsified  Expanded, Dummy  Expanded, Random\n",
       "count   172.000000        86.000000        169.000000\n",
       "mean      0.737640         0.735709          0.705308\n",
       "std       0.006227         0.006896          0.007202\n",
       "min       0.716000         0.721000          0.679000\n",
       "25%       0.733000         0.731000          0.700000\n",
       "50%       0.737000         0.734000          0.705000\n",
       "75%       0.742000         0.740000          0.710000\n",
       "max       0.765000         0.753000          0.726000"
      ]
     },
     "execution_count": 89,
     "metadata": {},
     "output_type": "execute_result"
    }
   ],
   "source": [
    "# Memory utilisation:\n",
    "# Rename columns, add column 'Dataset' to diferenciate experiments.\n",
    "\n",
    "# n_memory_util.columns = ['Time', 'Memory utilisation']\n",
    "# n_memory_util['Dataset'] = 'Original'\n",
    "\n",
    "d_memory_util.columns = ['Time', 'Memory utilisation']\n",
    "d_memory_util['Dataset'] = 'Diversified'\n",
    "\n",
    "e_memory_util.columns = ['Time', 'Memory utilisation']\n",
    "e_memory_util['Dataset'] = 'Expanded, Dummy'\n",
    "\n",
    "r_memory_util.columns = ['Time', 'Memory utilisation']\n",
    "r_memory_util['Dataset'] = 'Expanded, Random'\n",
    "\n",
    "\n",
    "mem_util = pd.concat([d_memory_util['Memory utilisation'].describe(),e_memory_util['Memory utilisation'].describe(),r_memory_util['Memory utilisation'].describe()],axis=1)\n",
    "mem_util.columns= ['Divirsified', 'Expanded, Dummy', 'Expanded, Random']\n",
    "mem_util"
   ]
  },
  {
   "cell_type": "code",
   "execution_count": 90,
   "metadata": {},
   "outputs": [
    {
     "data": {
      "text/plain": [
       "<AxesSubplot:xlabel='Memory utilisation', ylabel='Dataset'>"
      ]
     },
     "execution_count": 90,
     "metadata": {},
     "output_type": "execute_result"
    },
    {
     "data": {
      "image/png": "[encoded data removed]",
      "text/plain": [
       "<Figure size 432x288 with 1 Axes>"
      ]
     },
     "metadata": {
      "needs_background": "light"
     },
     "output_type": "display_data"
    }
   ],
   "source": [
    "data = pd.concat([d_memory_util, e_memory_util, r_memory_util])\n",
    "sns.violinplot(x='Memory utilisation', y='Dataset', data=data, cut=0)"
   ]
  },
  {
   "cell_type": "code",
   "execution_count": 91,
   "metadata": {},
   "outputs": [
    {
     "name": "stdout",
     "output_type": "stream",
     "text": [
      "Mann–Whitney U Test: stat = 8792.0000, p-value = 0.0134\n",
      "Null hypothesis: the distribution of memory utilization ratios is the same in the original and diversified datasets.\n",
      "Result: We reject the null hypothesis\n"
     ]
    }
   ],
   "source": [
    "stat, p_value = mannwhitneyu(d_memory_util['Memory utilisation'], e_memory_util['Memory utilisation'])\n",
    "print(f'Mann–Whitney U Test: stat = {stat:.4f}, p-value = {p_value:.4f}')\n",
    "print('Null hypothesis: the distribution of memory utilization ratios is the same in the original and diversified datasets.')\n",
    "if p_value > 0.05:\n",
    "    #'Same distribution (fail to reject H0)'\n",
    "    print('Result: We do not reject the null hypothesis')\n",
    "else:\n",
    "    #'Different distribution, (reject H0)'\n",
    "    print('Result: We reject the null hypothesis')"
   ]
  },
  {
   "cell_type": "code",
   "execution_count": 92,
   "metadata": {},
   "outputs": [
    {
     "name": "stdout",
     "output_type": "stream",
     "text": [
      "Mann–Whitney U Test: stat = 29054.5000, p-value = 0.0000\n",
      "Null hypothesis: the distribution of memory utilization ratios is the same in the original and diversified datasets.\n",
      "Result: We reject the null hypothesis\n"
     ]
    }
   ],
   "source": [
    "stat, p_value = mannwhitneyu(d_memory_util['Memory utilisation'], r_memory_util['Memory utilisation'])\n",
    "print(f'Mann–Whitney U Test: stat = {stat:.4f}, p-value = {p_value:.4f}')\n",
    "print('Null hypothesis: the distribution of memory utilization ratios is the same in the original and diversified datasets.')\n",
    "if p_value > 0.05:\n",
    "    #'Same distribution (fail to reject H0)'\n",
    "    print('Result: We do not reject the null hypothesis')\n",
    "else:\n",
    "    #'Different distribution, (reject H0)'\n",
    "    print('Result: We reject the null hypothesis')"
   ]
  },
  {
   "cell_type": "code",
   "execution_count": 95,
   "metadata": {},
   "outputs": [
    {
     "data": {
      "text/html": [
       "<div>\n",
       "<style scoped>\n",
       "    .dataframe tbody tr th:only-of-type {\n",
       "        vertical-align: middle;\n",
       "    }\n",
       "\n",
       "    .dataframe tbody tr th {\n",
       "        vertical-align: top;\n",
       "    }\n",
       "\n",
       "    .dataframe thead th {\n",
       "        text-align: right;\n",
       "    }\n",
       "</style>\n",
       "<table border=\"1\" class=\"dataframe\">\n",
       "  <thead>\n",
       "    <tr style=\"text-align: right;\">\n",
       "      <th></th>\n",
       "      <th>Divirsified</th>\n",
       "      <th>Expanded, Dummy</th>\n",
       "      <th>Expanded, Random</th>\n",
       "    </tr>\n",
       "  </thead>\n",
       "  <tbody>\n",
       "    <tr>\n",
       "      <th>count</th>\n",
       "      <td>172.000000</td>\n",
       "      <td>29.000000</td>\n",
       "      <td>169.000000</td>\n",
       "    </tr>\n",
       "    <tr>\n",
       "      <th>mean</th>\n",
       "      <td>1.750977</td>\n",
       "      <td>1.918797</td>\n",
       "      <td>1.735137</td>\n",
       "    </tr>\n",
       "    <tr>\n",
       "      <th>std</th>\n",
       "      <td>1.262201</td>\n",
       "      <td>1.261072</td>\n",
       "      <td>1.074629</td>\n",
       "    </tr>\n",
       "    <tr>\n",
       "      <th>min</th>\n",
       "      <td>0.167000</td>\n",
       "      <td>0.011100</td>\n",
       "      <td>0.022200</td>\n",
       "    </tr>\n",
       "    <tr>\n",
       "      <th>25%</th>\n",
       "      <td>1.120000</td>\n",
       "      <td>1.380000</td>\n",
       "      <td>1.130000</td>\n",
       "    </tr>\n",
       "    <tr>\n",
       "      <th>50%</th>\n",
       "      <td>1.350000</td>\n",
       "      <td>1.620000</td>\n",
       "      <td>1.410000</td>\n",
       "    </tr>\n",
       "    <tr>\n",
       "      <th>75%</th>\n",
       "      <td>1.670000</td>\n",
       "      <td>1.950000</td>\n",
       "      <td>1.730000</td>\n",
       "    </tr>\n",
       "    <tr>\n",
       "      <th>max</th>\n",
       "      <td>7.530000</td>\n",
       "      <td>6.460000</td>\n",
       "      <td>6.510000</td>\n",
       "    </tr>\n",
       "  </tbody>\n",
       "</table>\n",
       "</div>"
      ],
      "text/plain": [
       "       Divirsified  Expanded, Dummy  Expanded, Random\n",
       "count   172.000000        29.000000        169.000000\n",
       "mean      1.750977         1.918797          1.735137\n",
       "std       1.262201         1.261072          1.074629\n",
       "min       0.167000         0.011100          0.022200\n",
       "25%       1.120000         1.380000          1.130000\n",
       "50%       1.350000         1.620000          1.410000\n",
       "75%       1.670000         1.950000          1.730000\n",
       "max       7.530000         6.460000          6.510000"
      ]
     },
     "execution_count": 95,
     "metadata": {},
     "output_type": "execute_result"
    }
   ],
   "source": [
    "# Requests per second (RPS)\n",
    "# Rename columns\n",
    "\n",
    "#n_rps.columns = ['Time', 'RPS']\n",
    "d_rps.columns = ['Time', 'RPS']\n",
    "e_rps.columns = ['Time', 'RPS']\n",
    "r_rps.columns = ['Time', 'RPS']\n",
    "rps = pd.concat([d_rps['RPS'].describe(), e_rps['RPS'].describe(), r_rps['RPS'].describe()],axis=1)\n",
    "rps.columns= ['Divirsified', 'Expanded, Dummy', 'Expanded, Random']\n",
    "rps"
   ]
  },
  {
   "cell_type": "code",
   "execution_count": 96,
   "metadata": {},
   "outputs": [
    {
     "data": {
      "text/plain": [
       "<AxesSubplot:xlabel='RPS', ylabel='Dataset'>"
      ]
     },
     "execution_count": 96,
     "metadata": {},
     "output_type": "execute_result"
    },
    {
     "data": {
      "image/png": "[encoded data removed]",
      "text/plain": [
       "<Figure size 432x288 with 1 Axes>"
      ]
     },
     "metadata": {
      "needs_background": "light"
     },
     "output_type": "display_data"
    }
   ],
   "source": [
    "# add column 'Dataset' to diferenciate experiments.\n",
    "#n_rps['Dataset'] = 'Original'\n",
    "d_rps['Dataset'] = 'Diversified'\n",
    "e_rps['Dataset'] = 'Expanded, Dummy'\n",
    "r_rps['Dataset'] = 'Expanded, Random'\n",
    "data = pd.concat([n_rps, d_rps, e_rps, r_rps])\n",
    "sns.violinplot(x='RPS', y='Dataset', data=data, cut=0)"
   ]
  },
  {
   "cell_type": "code",
   "execution_count": 97,
   "metadata": {},
   "outputs": [
    {
     "name": "stdout",
     "output_type": "stream",
     "text": [
      "Mann–Whitney U Test: stat = 1782.5000, p-value = 0.0141\n",
      "Null hypothesis: the distribution of requests per second is the same in the original and diversified datasets.\n",
      "Result: We reject the null hypothesis\n"
     ]
    }
   ],
   "source": [
    "stat, p_value = mannwhitneyu(d_rps['RPS'], e_rps['RPS'])\n",
    "print(f'Mann–Whitney U Test: stat = {stat:.4f}, p-value = {p_value:.4f}')\n",
    "print('Null hypothesis: the distribution of requests per second is the same in the original and diversified datasets.')\n",
    "if p_value > 0.05:\n",
    "    #'Same distribution (fail to reject H0)'\n",
    "    print('Result: We do not reject the null hypothesis')\n",
    "else:\n",
    "    #'Different distribution, (reject H0)'\n",
    "    print('Result: We reject the null hypothesis')"
   ]
  },
  {
   "cell_type": "code",
   "execution_count": 98,
   "metadata": {},
   "outputs": [
    {
     "name": "stdout",
     "output_type": "stream",
     "text": [
      "Mann–Whitney U Test: stat = 13643.0000, p-value = 0.3278\n",
      "Null hypothesis: the distribution of requests per second is the same in the original and diversified datasets.\n",
      "Result: We do not reject the null hypothesis\n"
     ]
    }
   ],
   "source": [
    "stat, p_value = mannwhitneyu(d_rps['RPS'], r_rps['RPS'])\n",
    "print(f'Mann–Whitney U Test: stat = {stat:.4f}, p-value = {p_value:.4f}')\n",
    "print('Null hypothesis: the distribution of requests per second is the same in the original and diversified datasets.')\n",
    "if p_value > 0.05:\n",
    "    #'Same distribution (fail to reject H0)'\n",
    "    print('Result: We do not reject the null hypothesis')\n",
    "else:\n",
    "    #'Different distribution, (reject H0)'\n",
    "    print('Result: We reject the null hypothesis')"
   ]
  },
  {
   "cell_type": "code",
   "execution_count": 99,
   "metadata": {},
   "outputs": [
    {
     "name": "stderr",
     "output_type": "stream",
     "text": [
      "/var/folders/3k/tk51r55962751zt89q_rcgfw0000gn/T/ipykernel_4955/2574226169.py:8: SettingWithCopyWarning: \n",
      "A value is trying to be set on a copy of a slice from a DataFrame.\n",
      "Try using .loc[row_indexer,col_indexer] = value instead\n",
      "\n",
      "See the caveats in the documentation: https://pandas.pydata.org/pandas-docs/stable/user_guide/indexing.html#returning-a-view-versus-a-copy\n",
      "  d_cpu_saturation['Dataset'] = 'Diversified'\n",
      "/var/folders/3k/tk51r55962751zt89q_rcgfw0000gn/T/ipykernel_4955/2574226169.py:11: SettingWithCopyWarning: \n",
      "A value is trying to be set on a copy of a slice from a DataFrame.\n",
      "Try using .loc[row_indexer,col_indexer] = value instead\n",
      "\n",
      "See the caveats in the documentation: https://pandas.pydata.org/pandas-docs/stable/user_guide/indexing.html#returning-a-view-versus-a-copy\n",
      "  e_cpu_saturation['Dataset'] = 'Expanded, Dummy'\n",
      "/var/folders/3k/tk51r55962751zt89q_rcgfw0000gn/T/ipykernel_4955/2574226169.py:14: SettingWithCopyWarning: \n",
      "A value is trying to be set on a copy of a slice from a DataFrame.\n",
      "Try using .loc[row_indexer,col_indexer] = value instead\n",
      "\n",
      "See the caveats in the documentation: https://pandas.pydata.org/pandas-docs/stable/user_guide/indexing.html#returning-a-view-versus-a-copy\n",
      "  r_cpu_saturation['Dataset'] = 'Expanded, Random'\n"
     ]
    },
    {
     "data": {
      "text/plain": [
       "<AxesSubplot:xlabel='cpu saturation', ylabel='Dataset'>"
      ]
     },
     "execution_count": 99,
     "metadata": {},
     "output_type": "execute_result"
    },
    {
     "data": {
      "image/png": "[encoded data removed]",
      "text/plain": [
       "<Figure size 432x288 with 1 Axes>"
      ]
     },
     "metadata": {
      "needs_background": "light"
     },
     "output_type": "display_data"
    }
   ],
   "source": [
    "# CPU Saturation\n",
    "# Rename columns, add column 'Dataset' to diferenciate experiments.\n",
    "\n",
    "# n_cpu_saturation = n_saturation[['Time', 'cpu saturation']]\n",
    "# n_cpu_saturation['Dataset'] = 'Original'\n",
    "\n",
    "d_cpu_saturation = d_saturation[['Time', 'cpu saturation']]\n",
    "d_cpu_saturation['Dataset'] = 'Diversified'\n",
    "\n",
    "e_cpu_saturation = e_saturation[['Time', 'cpu saturation']]\n",
    "e_cpu_saturation['Dataset'] = 'Expanded, Dummy'\n",
    "\n",
    "r_cpu_saturation = r_saturation[['Time', 'cpu saturation']]\n",
    "r_cpu_saturation['Dataset'] = 'Expanded, Random'\n",
    "\n",
    "data = pd.concat([ d_cpu_saturation, e_cpu_saturation, r_cpu_saturation])\n",
    "sns.violinplot(x='cpu saturation', y='Dataset', data=data, cut=0)"
   ]
  },
  {
   "cell_type": "code",
   "execution_count": 100,
   "metadata": {},
   "outputs": [
    {
     "name": "stdout",
     "output_type": "stream",
     "text": [
      "Mann–Whitney U Test: stat = 14214.0000, p-value = 0.5311\n",
      "Null hypothesis: the distribution of cpu saturation ratio is the same in the original and diversified datasets.\n",
      "Result: We do not reject the null hypothesis\n"
     ]
    }
   ],
   "source": [
    "stat, p_value = mannwhitneyu(d_cpu_saturation['cpu saturation'], e_cpu_saturation['cpu saturation'])\n",
    "print(f'Mann–Whitney U Test: stat = {stat:.4f}, p-value = {p_value:.4f}')\n",
    "print('Null hypothesis: the distribution of cpu saturation ratio is the same in the original and diversified datasets.')\n",
    "if p_value > 0.05:\n",
    "    #'Same distribution (fail to reject H0)'\n",
    "    print('Result: We do not reject the null hypothesis')\n",
    "else:\n",
    "    #'Different distribution, (reject H0)'\n",
    "    print('Result: We reject the null hypothesis')"
   ]
  },
  {
   "cell_type": "code",
   "execution_count": 101,
   "metadata": {},
   "outputs": [
    {
     "name": "stdout",
     "output_type": "stream",
     "text": [
      "Mann–Whitney U Test: stat = 11800.0000, p-value = 0.0027\n",
      "Null hypothesis: the distribution of cpu saturation ratio is the same in the original and diversified datasets.\n",
      "Result: We reject the null hypothesis\n"
     ]
    }
   ],
   "source": [
    "stat, p_value = mannwhitneyu(d_cpu_saturation['cpu saturation'], r_cpu_saturation['cpu saturation'])\n",
    "print(f'Mann–Whitney U Test: stat = {stat:.4f}, p-value = {p_value:.4f}')\n",
    "print('Null hypothesis: the distribution of cpu saturation ratio is the same in the original and diversified datasets.')\n",
    "if p_value > 0.05:\n",
    "    #'Same distribution (fail to reject H0)'\n",
    "    print('Result: We do not reject the null hypothesis')\n",
    "else:\n",
    "    #'Different distribution, (reject H0)'\n",
    "    print('Result: We reject the null hypothesis')"
   ]
  },
  {
   "cell_type": "code",
   "execution_count": 102,
   "metadata": {},
   "outputs": [
    {
     "data": {
      "text/html": [
       "<div>\n",
       "<style scoped>\n",
       "    .dataframe tbody tr th:only-of-type {\n",
       "        vertical-align: middle;\n",
       "    }\n",
       "\n",
       "    .dataframe tbody tr th {\n",
       "        vertical-align: top;\n",
       "    }\n",
       "\n",
       "    .dataframe thead th {\n",
       "        text-align: right;\n",
       "    }\n",
       "</style>\n",
       "<table border=\"1\" class=\"dataframe\">\n",
       "  <thead>\n",
       "    <tr style=\"text-align: right;\">\n",
       "      <th></th>\n",
       "      <th>Diversified</th>\n",
       "      <th>Expanded, Dummy</th>\n",
       "      <th>Expanded, Random</th>\n",
       "    </tr>\n",
       "  </thead>\n",
       "  <tbody>\n",
       "    <tr>\n",
       "      <th>count</th>\n",
       "      <td>172.000000</td>\n",
       "      <td>172.000000</td>\n",
       "      <td>169.000000</td>\n",
       "    </tr>\n",
       "    <tr>\n",
       "      <th>mean</th>\n",
       "      <td>0.187430</td>\n",
       "      <td>0.180895</td>\n",
       "      <td>0.188061</td>\n",
       "    </tr>\n",
       "    <tr>\n",
       "      <th>std</th>\n",
       "      <td>0.042306</td>\n",
       "      <td>0.020321</td>\n",
       "      <td>0.025269</td>\n",
       "    </tr>\n",
       "    <tr>\n",
       "      <th>min</th>\n",
       "      <td>0.120000</td>\n",
       "      <td>0.148000</td>\n",
       "      <td>0.051300</td>\n",
       "    </tr>\n",
       "    <tr>\n",
       "      <th>25%</th>\n",
       "      <td>0.160750</td>\n",
       "      <td>0.167000</td>\n",
       "      <td>0.173000</td>\n",
       "    </tr>\n",
       "    <tr>\n",
       "      <th>50%</th>\n",
       "      <td>0.174000</td>\n",
       "      <td>0.178000</td>\n",
       "      <td>0.185000</td>\n",
       "    </tr>\n",
       "    <tr>\n",
       "      <th>75%</th>\n",
       "      <td>0.207250</td>\n",
       "      <td>0.191000</td>\n",
       "      <td>0.199000</td>\n",
       "    </tr>\n",
       "    <tr>\n",
       "      <th>max</th>\n",
       "      <td>0.345000</td>\n",
       "      <td>0.261000</td>\n",
       "      <td>0.296000</td>\n",
       "    </tr>\n",
       "  </tbody>\n",
       "</table>\n",
       "</div>"
      ],
      "text/plain": [
       "       Diversified  Expanded, Dummy  Expanded, Random\n",
       "count   172.000000       172.000000        169.000000\n",
       "mean      0.187430         0.180895          0.188061\n",
       "std       0.042306         0.020321          0.025269\n",
       "min       0.120000         0.148000          0.051300\n",
       "25%       0.160750         0.167000          0.173000\n",
       "50%       0.174000         0.178000          0.185000\n",
       "75%       0.207250         0.191000          0.199000\n",
       "max       0.345000         0.261000          0.296000"
      ]
     },
     "execution_count": 102,
     "metadata": {},
     "output_type": "execute_result"
    }
   ],
   "source": [
    "cpu_saturation = pd.concat([ d_cpu_saturation['cpu saturation'].describe(), e_cpu_saturation['cpu saturation'].describe(), r_cpu_saturation['cpu saturation'].describe()],axis=1)\n",
    "cpu_saturation.columns = ['Diversified', 'Expanded, Dummy', 'Expanded, Random']\n",
    "cpu_saturation"
   ]
  },
  {
   "cell_type": "code",
   "execution_count": null,
   "metadata": {},
   "outputs": [],
   "source": [
    "# Latency:\n",
    "\n",
    "n_latency.drop([68], inplace=True)"
   ]
  },
  {
   "cell_type": "code",
   "execution_count": 35,
   "metadata": {},
   "outputs": [
    {
     "data": {
      "text/html": [
       "<div>\n",
       "<style scoped>\n",
       "    .dataframe tbody tr th:only-of-type {\n",
       "        vertical-align: middle;\n",
       "    }\n",
       "\n",
       "    .dataframe tbody tr th {\n",
       "        vertical-align: top;\n",
       "    }\n",
       "\n",
       "    .dataframe thead th {\n",
       "        text-align: right;\n",
       "    }\n",
       "</style>\n",
       "<table border=\"1\" class=\"dataframe\">\n",
       "  <thead>\n",
       "    <tr style=\"text-align: right;\">\n",
       "      <th></th>\n",
       "      <th>0.005</th>\n",
       "      <th>0.025</th>\n",
       "      <th>0.1</th>\n",
       "      <th>0.5</th>\n",
       "      <th>1</th>\n",
       "      <th>10</th>\n",
       "      <th>30</th>\n",
       "      <th>60</th>\n",
       "      <th>300</th>\n",
       "      <th>+Inf</th>\n",
       "    </tr>\n",
       "  </thead>\n",
       "  <tbody>\n",
       "    <tr>\n",
       "      <th>count</th>\n",
       "      <td>83.0</td>\n",
       "      <td>83.000000</td>\n",
       "      <td>83.000000</td>\n",
       "      <td>83.000000</td>\n",
       "      <td>83.000000</td>\n",
       "      <td>83.000000</td>\n",
       "      <td>83.000000</td>\n",
       "      <td>83.000000</td>\n",
       "      <td>83.000000</td>\n",
       "      <td>83.000000</td>\n",
       "    </tr>\n",
       "    <tr>\n",
       "      <th>mean</th>\n",
       "      <td>0.0</td>\n",
       "      <td>1.209370</td>\n",
       "      <td>2.742169</td>\n",
       "      <td>3.145663</td>\n",
       "      <td>3.163373</td>\n",
       "      <td>3.163699</td>\n",
       "      <td>3.163699</td>\n",
       "      <td>3.163699</td>\n",
       "      <td>3.163699</td>\n",
       "      <td>3.163699</td>\n",
       "    </tr>\n",
       "    <tr>\n",
       "      <th>std</th>\n",
       "      <td>0.0</td>\n",
       "      <td>0.997486</td>\n",
       "      <td>1.209467</td>\n",
       "      <td>1.193870</td>\n",
       "      <td>1.187590</td>\n",
       "      <td>1.186771</td>\n",
       "      <td>1.186771</td>\n",
       "      <td>1.186771</td>\n",
       "      <td>1.186771</td>\n",
       "      <td>1.186771</td>\n",
       "    </tr>\n",
       "    <tr>\n",
       "      <th>min</th>\n",
       "      <td>0.0</td>\n",
       "      <td>0.000000</td>\n",
       "      <td>0.000000</td>\n",
       "      <td>0.000000</td>\n",
       "      <td>0.000000</td>\n",
       "      <td>0.000000</td>\n",
       "      <td>0.000000</td>\n",
       "      <td>0.000000</td>\n",
       "      <td>0.000000</td>\n",
       "      <td>0.000000</td>\n",
       "    </tr>\n",
       "    <tr>\n",
       "      <th>25%</th>\n",
       "      <td>0.0</td>\n",
       "      <td>0.689000</td>\n",
       "      <td>2.205000</td>\n",
       "      <td>2.605000</td>\n",
       "      <td>2.640000</td>\n",
       "      <td>2.640000</td>\n",
       "      <td>2.640000</td>\n",
       "      <td>2.640000</td>\n",
       "      <td>2.640000</td>\n",
       "      <td>2.640000</td>\n",
       "    </tr>\n",
       "    <tr>\n",
       "      <th>50%</th>\n",
       "      <td>0.0</td>\n",
       "      <td>0.933000</td>\n",
       "      <td>2.440000</td>\n",
       "      <td>2.810000</td>\n",
       "      <td>2.840000</td>\n",
       "      <td>2.840000</td>\n",
       "      <td>2.840000</td>\n",
       "      <td>2.840000</td>\n",
       "      <td>2.840000</td>\n",
       "      <td>2.840000</td>\n",
       "    </tr>\n",
       "    <tr>\n",
       "      <th>75%</th>\n",
       "      <td>0.0</td>\n",
       "      <td>1.255000</td>\n",
       "      <td>2.870000</td>\n",
       "      <td>3.285000</td>\n",
       "      <td>3.285000</td>\n",
       "      <td>3.285000</td>\n",
       "      <td>3.285000</td>\n",
       "      <td>3.285000</td>\n",
       "      <td>3.285000</td>\n",
       "      <td>3.285000</td>\n",
       "    </tr>\n",
       "    <tr>\n",
       "      <th>max</th>\n",
       "      <td>0.0</td>\n",
       "      <td>5.240000</td>\n",
       "      <td>7.230000</td>\n",
       "      <td>7.610000</td>\n",
       "      <td>7.610000</td>\n",
       "      <td>7.610000</td>\n",
       "      <td>7.610000</td>\n",
       "      <td>7.610000</td>\n",
       "      <td>7.610000</td>\n",
       "      <td>7.610000</td>\n",
       "    </tr>\n",
       "  </tbody>\n",
       "</table>\n",
       "</div>"
      ],
      "text/plain": [
       "       0.005      0.025        0.1        0.5          1         10  \\\n",
       "count   83.0  83.000000  83.000000  83.000000  83.000000  83.000000   \n",
       "mean     0.0   1.209370   2.742169   3.145663   3.163373   3.163699   \n",
       "std      0.0   0.997486   1.209467   1.193870   1.187590   1.186771   \n",
       "min      0.0   0.000000   0.000000   0.000000   0.000000   0.000000   \n",
       "25%      0.0   0.689000   2.205000   2.605000   2.640000   2.640000   \n",
       "50%      0.0   0.933000   2.440000   2.810000   2.840000   2.840000   \n",
       "75%      0.0   1.255000   2.870000   3.285000   3.285000   3.285000   \n",
       "max      0.0   5.240000   7.230000   7.610000   7.610000   7.610000   \n",
       "\n",
       "              30         60        300       +Inf  \n",
       "count  83.000000  83.000000  83.000000  83.000000  \n",
       "mean    3.163699   3.163699   3.163699   3.163699  \n",
       "std     1.186771   1.186771   1.186771   1.186771  \n",
       "min     0.000000   0.000000   0.000000   0.000000  \n",
       "25%     2.640000   2.640000   2.640000   2.640000  \n",
       "50%     2.840000   2.840000   2.840000   2.840000  \n",
       "75%     3.285000   3.285000   3.285000   3.285000  \n",
       "max     7.610000   7.610000   7.610000   7.610000  "
      ]
     },
     "execution_count": 35,
     "metadata": {},
     "output_type": "execute_result"
    }
   ],
   "source": [
    "n_latency = n_latency[['Time','0.005','0.025','0.1','0.5','1','10','30','60','300','+Inf']]\n",
    "n_latency.describe()"
   ]
  },
  {
   "cell_type": "code",
   "execution_count": 36,
   "metadata": {},
   "outputs": [
    {
     "data": {
      "text/html": [
       "<div>\n",
       "<style scoped>\n",
       "    .dataframe tbody tr th:only-of-type {\n",
       "        vertical-align: middle;\n",
       "    }\n",
       "\n",
       "    .dataframe tbody tr th {\n",
       "        vertical-align: top;\n",
       "    }\n",
       "\n",
       "    .dataframe thead th {\n",
       "        text-align: right;\n",
       "    }\n",
       "</style>\n",
       "<table border=\"1\" class=\"dataframe\">\n",
       "  <thead>\n",
       "    <tr style=\"text-align: right;\">\n",
       "      <th></th>\n",
       "      <th>0.005</th>\n",
       "      <th>0.025</th>\n",
       "      <th>0.1</th>\n",
       "      <th>0.5</th>\n",
       "      <th>1</th>\n",
       "      <th>10</th>\n",
       "      <th>30</th>\n",
       "      <th>60</th>\n",
       "      <th>300</th>\n",
       "      <th>+Inf</th>\n",
       "    </tr>\n",
       "  </thead>\n",
       "  <tbody>\n",
       "    <tr>\n",
       "      <th>count</th>\n",
       "      <td>109.0</td>\n",
       "      <td>109.000000</td>\n",
       "      <td>109.000000</td>\n",
       "      <td>109.000000</td>\n",
       "      <td>109.000000</td>\n",
       "      <td>109.000000</td>\n",
       "      <td>109.000000</td>\n",
       "      <td>109.000000</td>\n",
       "      <td>109.000000</td>\n",
       "      <td>109.000000</td>\n",
       "    </tr>\n",
       "    <tr>\n",
       "      <th>mean</th>\n",
       "      <td>0.0</td>\n",
       "      <td>0.883902</td>\n",
       "      <td>2.409908</td>\n",
       "      <td>2.816972</td>\n",
       "      <td>2.836697</td>\n",
       "      <td>2.836697</td>\n",
       "      <td>2.836697</td>\n",
       "      <td>2.836697</td>\n",
       "      <td>2.836697</td>\n",
       "      <td>2.836697</td>\n",
       "    </tr>\n",
       "    <tr>\n",
       "      <th>std</th>\n",
       "      <td>0.0</td>\n",
       "      <td>0.960912</td>\n",
       "      <td>1.200956</td>\n",
       "      <td>1.166720</td>\n",
       "      <td>1.160524</td>\n",
       "      <td>1.160524</td>\n",
       "      <td>1.160524</td>\n",
       "      <td>1.160524</td>\n",
       "      <td>1.160524</td>\n",
       "      <td>1.160524</td>\n",
       "    </tr>\n",
       "    <tr>\n",
       "      <th>min</th>\n",
       "      <td>0.0</td>\n",
       "      <td>0.083300</td>\n",
       "      <td>1.080000</td>\n",
       "      <td>1.580000</td>\n",
       "      <td>1.580000</td>\n",
       "      <td>1.580000</td>\n",
       "      <td>1.580000</td>\n",
       "      <td>1.580000</td>\n",
       "      <td>1.580000</td>\n",
       "      <td>1.580000</td>\n",
       "    </tr>\n",
       "    <tr>\n",
       "      <th>25%</th>\n",
       "      <td>0.0</td>\n",
       "      <td>0.267000</td>\n",
       "      <td>1.470000</td>\n",
       "      <td>1.900000</td>\n",
       "      <td>1.930000</td>\n",
       "      <td>1.930000</td>\n",
       "      <td>1.930000</td>\n",
       "      <td>1.930000</td>\n",
       "      <td>1.930000</td>\n",
       "      <td>1.930000</td>\n",
       "    </tr>\n",
       "    <tr>\n",
       "      <th>50%</th>\n",
       "      <td>0.0</td>\n",
       "      <td>0.683000</td>\n",
       "      <td>2.280000</td>\n",
       "      <td>2.680000</td>\n",
       "      <td>2.720000</td>\n",
       "      <td>2.720000</td>\n",
       "      <td>2.720000</td>\n",
       "      <td>2.720000</td>\n",
       "      <td>2.720000</td>\n",
       "      <td>2.720000</td>\n",
       "    </tr>\n",
       "    <tr>\n",
       "      <th>75%</th>\n",
       "      <td>0.0</td>\n",
       "      <td>0.933000</td>\n",
       "      <td>2.630000</td>\n",
       "      <td>3.000000</td>\n",
       "      <td>3.000000</td>\n",
       "      <td>3.000000</td>\n",
       "      <td>3.000000</td>\n",
       "      <td>3.000000</td>\n",
       "      <td>3.000000</td>\n",
       "      <td>3.000000</td>\n",
       "    </tr>\n",
       "    <tr>\n",
       "      <th>max</th>\n",
       "      <td>0.0</td>\n",
       "      <td>4.630000</td>\n",
       "      <td>6.600000</td>\n",
       "      <td>7.000000</td>\n",
       "      <td>7.000000</td>\n",
       "      <td>7.000000</td>\n",
       "      <td>7.000000</td>\n",
       "      <td>7.000000</td>\n",
       "      <td>7.000000</td>\n",
       "      <td>7.000000</td>\n",
       "    </tr>\n",
       "  </tbody>\n",
       "</table>\n",
       "</div>"
      ],
      "text/plain": [
       "       0.005       0.025         0.1         0.5           1          10  \\\n",
       "count  109.0  109.000000  109.000000  109.000000  109.000000  109.000000   \n",
       "mean     0.0    0.883902    2.409908    2.816972    2.836697    2.836697   \n",
       "std      0.0    0.960912    1.200956    1.166720    1.160524    1.160524   \n",
       "min      0.0    0.083300    1.080000    1.580000    1.580000    1.580000   \n",
       "25%      0.0    0.267000    1.470000    1.900000    1.930000    1.930000   \n",
       "50%      0.0    0.683000    2.280000    2.680000    2.720000    2.720000   \n",
       "75%      0.0    0.933000    2.630000    3.000000    3.000000    3.000000   \n",
       "max      0.0    4.630000    6.600000    7.000000    7.000000    7.000000   \n",
       "\n",
       "               30          60         300        +Inf  \n",
       "count  109.000000  109.000000  109.000000  109.000000  \n",
       "mean     2.836697    2.836697    2.836697    2.836697  \n",
       "std      1.160524    1.160524    1.160524    1.160524  \n",
       "min      1.580000    1.580000    1.580000    1.580000  \n",
       "25%      1.930000    1.930000    1.930000    1.930000  \n",
       "50%      2.720000    2.720000    2.720000    2.720000  \n",
       "75%      3.000000    3.000000    3.000000    3.000000  \n",
       "max      7.000000    7.000000    7.000000    7.000000  "
      ]
     },
     "execution_count": 36,
     "metadata": {},
     "output_type": "execute_result"
    }
   ],
   "source": [
    "d_latency = d_latency[['Time','0.005','0.025','0.1','0.5','1','10','30','60','300','+Inf']]\n",
    "d_latency.describe()"
   ]
  },
  {
   "cell_type": "code",
   "execution_count": 37,
   "metadata": {},
   "outputs": [
    {
     "data": {
      "text/html": [
       "<div>\n",
       "<style scoped>\n",
       "    .dataframe tbody tr th:only-of-type {\n",
       "        vertical-align: middle;\n",
       "    }\n",
       "\n",
       "    .dataframe tbody tr th {\n",
       "        vertical-align: top;\n",
       "    }\n",
       "\n",
       "    .dataframe thead th {\n",
       "        text-align: right;\n",
       "    }\n",
       "</style>\n",
       "<table border=\"1\" class=\"dataframe\">\n",
       "  <thead>\n",
       "    <tr style=\"text-align: right;\">\n",
       "      <th></th>\n",
       "      <th>0.005</th>\n",
       "      <th>0.025</th>\n",
       "      <th>0.1</th>\n",
       "      <th>0.5</th>\n",
       "      <th>1</th>\n",
       "      <th>10</th>\n",
       "      <th>30</th>\n",
       "      <th>60</th>\n",
       "      <th>300</th>\n",
       "      <th>+Inf</th>\n",
       "    </tr>\n",
       "  </thead>\n",
       "  <tbody>\n",
       "    <tr>\n",
       "      <th>count</th>\n",
       "      <td>109.0</td>\n",
       "      <td>109.000000</td>\n",
       "      <td>109.000000</td>\n",
       "      <td>109.000000</td>\n",
       "      <td>109.000000</td>\n",
       "      <td>109.000000</td>\n",
       "      <td>109.000000</td>\n",
       "      <td>109.000000</td>\n",
       "      <td>109.000000</td>\n",
       "      <td>109.000000</td>\n",
       "    </tr>\n",
       "    <tr>\n",
       "      <th>mean</th>\n",
       "      <td>0.0</td>\n",
       "      <td>0.883902</td>\n",
       "      <td>2.409908</td>\n",
       "      <td>2.816972</td>\n",
       "      <td>2.836697</td>\n",
       "      <td>2.836697</td>\n",
       "      <td>2.836697</td>\n",
       "      <td>2.836697</td>\n",
       "      <td>2.836697</td>\n",
       "      <td>2.836697</td>\n",
       "    </tr>\n",
       "    <tr>\n",
       "      <th>std</th>\n",
       "      <td>0.0</td>\n",
       "      <td>0.960912</td>\n",
       "      <td>1.200956</td>\n",
       "      <td>1.166720</td>\n",
       "      <td>1.160524</td>\n",
       "      <td>1.160524</td>\n",
       "      <td>1.160524</td>\n",
       "      <td>1.160524</td>\n",
       "      <td>1.160524</td>\n",
       "      <td>1.160524</td>\n",
       "    </tr>\n",
       "    <tr>\n",
       "      <th>min</th>\n",
       "      <td>0.0</td>\n",
       "      <td>0.083300</td>\n",
       "      <td>1.080000</td>\n",
       "      <td>1.580000</td>\n",
       "      <td>1.580000</td>\n",
       "      <td>1.580000</td>\n",
       "      <td>1.580000</td>\n",
       "      <td>1.580000</td>\n",
       "      <td>1.580000</td>\n",
       "      <td>1.580000</td>\n",
       "    </tr>\n",
       "    <tr>\n",
       "      <th>25%</th>\n",
       "      <td>0.0</td>\n",
       "      <td>0.267000</td>\n",
       "      <td>1.470000</td>\n",
       "      <td>1.900000</td>\n",
       "      <td>1.930000</td>\n",
       "      <td>1.930000</td>\n",
       "      <td>1.930000</td>\n",
       "      <td>1.930000</td>\n",
       "      <td>1.930000</td>\n",
       "      <td>1.930000</td>\n",
       "    </tr>\n",
       "    <tr>\n",
       "      <th>50%</th>\n",
       "      <td>0.0</td>\n",
       "      <td>0.683000</td>\n",
       "      <td>2.280000</td>\n",
       "      <td>2.680000</td>\n",
       "      <td>2.720000</td>\n",
       "      <td>2.720000</td>\n",
       "      <td>2.720000</td>\n",
       "      <td>2.720000</td>\n",
       "      <td>2.720000</td>\n",
       "      <td>2.720000</td>\n",
       "    </tr>\n",
       "    <tr>\n",
       "      <th>75%</th>\n",
       "      <td>0.0</td>\n",
       "      <td>0.933000</td>\n",
       "      <td>2.630000</td>\n",
       "      <td>3.000000</td>\n",
       "      <td>3.000000</td>\n",
       "      <td>3.000000</td>\n",
       "      <td>3.000000</td>\n",
       "      <td>3.000000</td>\n",
       "      <td>3.000000</td>\n",
       "      <td>3.000000</td>\n",
       "    </tr>\n",
       "    <tr>\n",
       "      <th>max</th>\n",
       "      <td>0.0</td>\n",
       "      <td>4.630000</td>\n",
       "      <td>6.600000</td>\n",
       "      <td>7.000000</td>\n",
       "      <td>7.000000</td>\n",
       "      <td>7.000000</td>\n",
       "      <td>7.000000</td>\n",
       "      <td>7.000000</td>\n",
       "      <td>7.000000</td>\n",
       "      <td>7.000000</td>\n",
       "    </tr>\n",
       "  </tbody>\n",
       "</table>\n",
       "</div>"
      ],
      "text/plain": [
       "       0.005       0.025         0.1         0.5           1          10  \\\n",
       "count  109.0  109.000000  109.000000  109.000000  109.000000  109.000000   \n",
       "mean     0.0    0.883902    2.409908    2.816972    2.836697    2.836697   \n",
       "std      0.0    0.960912    1.200956    1.166720    1.160524    1.160524   \n",
       "min      0.0    0.083300    1.080000    1.580000    1.580000    1.580000   \n",
       "25%      0.0    0.267000    1.470000    1.900000    1.930000    1.930000   \n",
       "50%      0.0    0.683000    2.280000    2.680000    2.720000    2.720000   \n",
       "75%      0.0    0.933000    2.630000    3.000000    3.000000    3.000000   \n",
       "max      0.0    4.630000    6.600000    7.000000    7.000000    7.000000   \n",
       "\n",
       "               30          60         300        +Inf  \n",
       "count  109.000000  109.000000  109.000000  109.000000  \n",
       "mean     2.836697    2.836697    2.836697    2.836697  \n",
       "std      1.160524    1.160524    1.160524    1.160524  \n",
       "min      1.580000    1.580000    1.580000    1.580000  \n",
       "25%      1.930000    1.930000    1.930000    1.930000  \n",
       "50%      2.720000    2.720000    2.720000    2.720000  \n",
       "75%      3.000000    3.000000    3.000000    3.000000  \n",
       "max      7.000000    7.000000    7.000000    7.000000  "
      ]
     },
     "execution_count": 37,
     "metadata": {},
     "output_type": "execute_result"
    }
   ],
   "source": [
    "e_latency = d_latency[['Time','0.005','0.025','0.1','0.5','1','10','30','60','300','+Inf']]\n",
    "e_latency.describe()"
   ]
  },
  {
   "cell_type": "code",
   "execution_count": 197,
   "metadata": {},
   "outputs": [
    {
     "data": {
      "text/plain": [
       "<AxesSubplot:xlabel='variable', ylabel='value'>"
      ]
     },
     "execution_count": 197,
     "metadata": {},
     "output_type": "execute_result"
    },
    {
     "data": {
      "image/png": "[encoded data removed]",
      "text/plain": [
       "<Figure size 432x288 with 1 Axes>"
      ]
     },
     "metadata": {
      "needs_background": "light"
     },
     "output_type": "display_data"
    }
   ],
   "source": [
    "#Stack the columns of the summary:\n",
    "n_latency = pd.melt(n_latency, id_vars=['Time'], value_vars=['0.005','0.025','0.1','0.5','1','10','30','60','300','+Inf'])\n",
    "sns.violinplot(x='variable', y='value', data=n_latency)"
   ]
  },
  {
   "cell_type": "code",
   "execution_count": 198,
   "metadata": {},
   "outputs": [
    {
     "data": {
      "text/plain": [
       "<AxesSubplot:xlabel='variable', ylabel='value'>"
      ]
     },
     "execution_count": 198,
     "metadata": {},
     "output_type": "execute_result"
    },
    {
     "data": {
      "image/png": "[encoded data removed]",
      "text/plain": [
       "<Figure size 432x288 with 1 Axes>"
      ]
     },
     "metadata": {
      "needs_background": "light"
     },
     "output_type": "display_data"
    }
   ],
   "source": [
    "d_latency = pd.melt(d_latency, id_vars=['Time'], value_vars=['0.005','0.025','0.1','0.5','1','10','30','60','300','+Inf'])\n",
    "sns.violinplot(x='variable', y='value', data=d_latency)"
   ]
  },
  {
   "cell_type": "code",
   "execution_count": 39,
   "metadata": {},
   "outputs": [
    {
     "data": {
      "text/html": [
       "<div>\n",
       "<style scoped>\n",
       "    .dataframe tbody tr th:only-of-type {\n",
       "        vertical-align: middle;\n",
       "    }\n",
       "\n",
       "    .dataframe tbody tr th {\n",
       "        vertical-align: top;\n",
       "    }\n",
       "\n",
       "    .dataframe thead th {\n",
       "        text-align: right;\n",
       "    }\n",
       "</style>\n",
       "<table border=\"1\" class=\"dataframe\">\n",
       "  <thead>\n",
       "    <tr style=\"text-align: right;\">\n",
       "      <th></th>\n",
       "      <th>Time</th>\n",
       "      <th>variable</th>\n",
       "      <th>value</th>\n",
       "    </tr>\n",
       "  </thead>\n",
       "  <tbody>\n",
       "    <tr>\n",
       "      <th>0</th>\n",
       "      <td>2022-09-27 06:38:45+00:00</td>\n",
       "      <td>0.005</td>\n",
       "      <td>0.00</td>\n",
       "    </tr>\n",
       "    <tr>\n",
       "      <th>1</th>\n",
       "      <td>2022-09-27 06:40:00+00:00</td>\n",
       "      <td>0.005</td>\n",
       "      <td>0.00</td>\n",
       "    </tr>\n",
       "    <tr>\n",
       "      <th>2</th>\n",
       "      <td>2022-09-27 06:41:15+00:00</td>\n",
       "      <td>0.005</td>\n",
       "      <td>0.00</td>\n",
       "    </tr>\n",
       "    <tr>\n",
       "      <th>3</th>\n",
       "      <td>2022-09-27 06:42:30+00:00</td>\n",
       "      <td>0.005</td>\n",
       "      <td>0.00</td>\n",
       "    </tr>\n",
       "    <tr>\n",
       "      <th>4</th>\n",
       "      <td>2022-09-27 06:43:45+00:00</td>\n",
       "      <td>0.005</td>\n",
       "      <td>0.00</td>\n",
       "    </tr>\n",
       "    <tr>\n",
       "      <th>...</th>\n",
       "      <td>...</td>\n",
       "      <td>...</td>\n",
       "      <td>...</td>\n",
       "    </tr>\n",
       "    <tr>\n",
       "      <th>1085</th>\n",
       "      <td>2022-09-27 08:48:45+00:00</td>\n",
       "      <td>+Inf</td>\n",
       "      <td>1.82</td>\n",
       "    </tr>\n",
       "    <tr>\n",
       "      <th>1086</th>\n",
       "      <td>2022-09-27 08:50:00+00:00</td>\n",
       "      <td>+Inf</td>\n",
       "      <td>1.93</td>\n",
       "    </tr>\n",
       "    <tr>\n",
       "      <th>1087</th>\n",
       "      <td>2022-09-27 08:51:15+00:00</td>\n",
       "      <td>+Inf</td>\n",
       "      <td>2.07</td>\n",
       "    </tr>\n",
       "    <tr>\n",
       "      <th>1088</th>\n",
       "      <td>2022-09-27 08:52:30+00:00</td>\n",
       "      <td>+Inf</td>\n",
       "      <td>2.12</td>\n",
       "    </tr>\n",
       "    <tr>\n",
       "      <th>1089</th>\n",
       "      <td>2022-09-27 08:53:45+00:00</td>\n",
       "      <td>+Inf</td>\n",
       "      <td>1.85</td>\n",
       "    </tr>\n",
       "  </tbody>\n",
       "</table>\n",
       "<p>1090 rows × 3 columns</p>\n",
       "</div>"
      ],
      "text/plain": [
       "                          Time variable  value\n",
       "0    2022-09-27 06:38:45+00:00    0.005   0.00\n",
       "1    2022-09-27 06:40:00+00:00    0.005   0.00\n",
       "2    2022-09-27 06:41:15+00:00    0.005   0.00\n",
       "3    2022-09-27 06:42:30+00:00    0.005   0.00\n",
       "4    2022-09-27 06:43:45+00:00    0.005   0.00\n",
       "...                        ...      ...    ...\n",
       "1085 2022-09-27 08:48:45+00:00     +Inf   1.82\n",
       "1086 2022-09-27 08:50:00+00:00     +Inf   1.93\n",
       "1087 2022-09-27 08:51:15+00:00     +Inf   2.07\n",
       "1088 2022-09-27 08:52:30+00:00     +Inf   2.12\n",
       "1089 2022-09-27 08:53:45+00:00     +Inf   1.85\n",
       "\n",
       "[1090 rows x 3 columns]"
      ]
     },
     "execution_count": 39,
     "metadata": {},
     "output_type": "execute_result"
    }
   ],
   "source": [
    "e_latency"
   ]
  },
  {
   "cell_type": "code",
   "execution_count": 38,
   "metadata": {},
   "outputs": [
    {
     "ename": "ValueError",
     "evalue": "Could not interpret input 'variable'",
     "output_type": "error",
     "traceback": [
      "\u001b[0;31m---------------------------------------------------------------------------\u001b[0m",
      "\u001b[0;31mValueError\u001b[0m                                Traceback (most recent call last)",
      "\u001b[1;32m/Users/francisco/Library/CloudStorage/OneDrive-Personal/Uni of Adelaide/Socialz/Socialz/Data/Results.ipynb Cell 24\u001b[0m in \u001b[0;36m<cell line: 2>\u001b[0;34m()\u001b[0m\n\u001b[1;32m      <a href='vscode-notebook-cell:/Users/francisco/Library/CloudStorage/OneDrive-Personal/Uni%20of%20Adelaide/Socialz/Socialz/Data/Results.ipynb#X45sZmlsZQ%3D%3D?line=0'>1</a>\u001b[0m e_latency \u001b[39m=\u001b[39m pd\u001b[39m.\u001b[39mmelt(e_latency, id_vars\u001b[39m=\u001b[39m[\u001b[39m'\u001b[39m\u001b[39mTime\u001b[39m\u001b[39m'\u001b[39m], value_vars\u001b[39m=\u001b[39m[\u001b[39m'\u001b[39m\u001b[39m0.005\u001b[39m\u001b[39m'\u001b[39m,\u001b[39m'\u001b[39m\u001b[39m0.025\u001b[39m\u001b[39m'\u001b[39m,\u001b[39m'\u001b[39m\u001b[39m0.1\u001b[39m\u001b[39m'\u001b[39m,\u001b[39m'\u001b[39m\u001b[39m0.5\u001b[39m\u001b[39m'\u001b[39m,\u001b[39m'\u001b[39m\u001b[39m1\u001b[39m\u001b[39m'\u001b[39m,\u001b[39m'\u001b[39m\u001b[39m10\u001b[39m\u001b[39m'\u001b[39m,\u001b[39m'\u001b[39m\u001b[39m30\u001b[39m\u001b[39m'\u001b[39m,\u001b[39m'\u001b[39m\u001b[39m60\u001b[39m\u001b[39m'\u001b[39m,\u001b[39m'\u001b[39m\u001b[39m300\u001b[39m\u001b[39m'\u001b[39m,\u001b[39m'\u001b[39m\u001b[39m+Inf\u001b[39m\u001b[39m'\u001b[39m])\n\u001b[0;32m----> <a href='vscode-notebook-cell:/Users/francisco/Library/CloudStorage/OneDrive-Personal/Uni%20of%20Adelaide/Socialz/Socialz/Data/Results.ipynb#X45sZmlsZQ%3D%3D?line=1'>2</a>\u001b[0m sns\u001b[39m.\u001b[39;49mviolinplot(x\u001b[39m=\u001b[39;49m\u001b[39m'\u001b[39;49m\u001b[39mvariable\u001b[39;49m\u001b[39m'\u001b[39;49m, y\u001b[39m=\u001b[39;49m\u001b[39m'\u001b[39;49m\u001b[39mvalue\u001b[39;49m\u001b[39m'\u001b[39;49m, data\u001b[39m=\u001b[39;49md_latency)\n",
      "File \u001b[0;32m~/opt/anaconda3/envs/socialz4/lib/python3.9/site-packages/seaborn/_decorators.py:46\u001b[0m, in \u001b[0;36m_deprecate_positional_args.<locals>.inner_f\u001b[0;34m(*args, **kwargs)\u001b[0m\n\u001b[1;32m     36\u001b[0m     warnings\u001b[39m.\u001b[39mwarn(\n\u001b[1;32m     37\u001b[0m         \u001b[39m\"\u001b[39m\u001b[39mPass the following variable\u001b[39m\u001b[39m{}\u001b[39;00m\u001b[39m as \u001b[39m\u001b[39m{}\u001b[39;00m\u001b[39mkeyword arg\u001b[39m\u001b[39m{}\u001b[39;00m\u001b[39m: \u001b[39m\u001b[39m{}\u001b[39;00m\u001b[39m. \u001b[39m\u001b[39m\"\u001b[39m\n\u001b[1;32m     38\u001b[0m         \u001b[39m\"\u001b[39m\u001b[39mFrom version 0.12, the only valid positional argument \u001b[39m\u001b[39m\"\u001b[39m\n\u001b[0;32m   (...)\u001b[0m\n\u001b[1;32m     43\u001b[0m         \u001b[39mFutureWarning\u001b[39;00m\n\u001b[1;32m     44\u001b[0m     )\n\u001b[1;32m     45\u001b[0m kwargs\u001b[39m.\u001b[39mupdate({k: arg \u001b[39mfor\u001b[39;00m k, arg \u001b[39min\u001b[39;00m \u001b[39mzip\u001b[39m(sig\u001b[39m.\u001b[39mparameters, args)})\n\u001b[0;32m---> 46\u001b[0m \u001b[39mreturn\u001b[39;00m f(\u001b[39m*\u001b[39;49m\u001b[39m*\u001b[39;49mkwargs)\n",
      "File \u001b[0;32m~/opt/anaconda3/envs/socialz4/lib/python3.9/site-packages/seaborn/categorical.py:2400\u001b[0m, in \u001b[0;36mviolinplot\u001b[0;34m(x, y, hue, data, order, hue_order, bw, cut, scale, scale_hue, gridsize, width, inner, split, dodge, orient, linewidth, color, palette, saturation, ax, **kwargs)\u001b[0m\n\u001b[1;32m   2388\u001b[0m \u001b[39m@_deprecate_positional_args\u001b[39m\n\u001b[1;32m   2389\u001b[0m \u001b[39mdef\u001b[39;00m \u001b[39mviolinplot\u001b[39m(\n\u001b[1;32m   2390\u001b[0m     \u001b[39m*\u001b[39m,\n\u001b[0;32m   (...)\u001b[0m\n\u001b[1;32m   2397\u001b[0m     ax\u001b[39m=\u001b[39m\u001b[39mNone\u001b[39;00m, \u001b[39m*\u001b[39m\u001b[39m*\u001b[39mkwargs,\n\u001b[1;32m   2398\u001b[0m ):\n\u001b[0;32m-> 2400\u001b[0m     plotter \u001b[39m=\u001b[39m _ViolinPlotter(x, y, hue, data, order, hue_order,\n\u001b[1;32m   2401\u001b[0m                              bw, cut, scale, scale_hue, gridsize,\n\u001b[1;32m   2402\u001b[0m                              width, inner, split, dodge, orient, linewidth,\n\u001b[1;32m   2403\u001b[0m                              color, palette, saturation)\n\u001b[1;32m   2405\u001b[0m     \u001b[39mif\u001b[39;00m ax \u001b[39mis\u001b[39;00m \u001b[39mNone\u001b[39;00m:\n\u001b[1;32m   2406\u001b[0m         ax \u001b[39m=\u001b[39m plt\u001b[39m.\u001b[39mgca()\n",
      "File \u001b[0;32m~/opt/anaconda3/envs/socialz4/lib/python3.9/site-packages/seaborn/categorical.py:522\u001b[0m, in \u001b[0;36m_ViolinPlotter.__init__\u001b[0;34m(self, x, y, hue, data, order, hue_order, bw, cut, scale, scale_hue, gridsize, width, inner, split, dodge, orient, linewidth, color, palette, saturation)\u001b[0m\n\u001b[1;32m    517\u001b[0m \u001b[39mdef\u001b[39;00m \u001b[39m__init__\u001b[39m(\u001b[39mself\u001b[39m, x, y, hue, data, order, hue_order,\n\u001b[1;32m    518\u001b[0m              bw, cut, scale, scale_hue, gridsize,\n\u001b[1;32m    519\u001b[0m              width, inner, split, dodge, orient, linewidth,\n\u001b[1;32m    520\u001b[0m              color, palette, saturation):\n\u001b[0;32m--> 522\u001b[0m     \u001b[39mself\u001b[39;49m\u001b[39m.\u001b[39;49mestablish_variables(x, y, hue, data, orient, order, hue_order)\n\u001b[1;32m    523\u001b[0m     \u001b[39mself\u001b[39m\u001b[39m.\u001b[39mestablish_colors(color, palette, saturation)\n\u001b[1;32m    524\u001b[0m     \u001b[39mself\u001b[39m\u001b[39m.\u001b[39mestimate_densities(bw, cut, scale, scale_hue, gridsize)\n",
      "File \u001b[0;32m~/opt/anaconda3/envs/socialz4/lib/python3.9/site-packages/seaborn/categorical.py:153\u001b[0m, in \u001b[0;36m_CategoricalPlotter.establish_variables\u001b[0;34m(self, x, y, hue, data, orient, order, hue_order, units)\u001b[0m\n\u001b[1;32m    151\u001b[0m     \u001b[39mif\u001b[39;00m \u001b[39misinstance\u001b[39m(var, \u001b[39mstr\u001b[39m):\n\u001b[1;32m    152\u001b[0m         err \u001b[39m=\u001b[39m \u001b[39m\"\u001b[39m\u001b[39mCould not interpret input \u001b[39m\u001b[39m'\u001b[39m\u001b[39m{}\u001b[39;00m\u001b[39m'\u001b[39m\u001b[39m\"\u001b[39m\u001b[39m.\u001b[39mformat(var)\n\u001b[0;32m--> 153\u001b[0m         \u001b[39mraise\u001b[39;00m \u001b[39mValueError\u001b[39;00m(err)\n\u001b[1;32m    155\u001b[0m \u001b[39m# Figure out the plotting orientation\u001b[39;00m\n\u001b[1;32m    156\u001b[0m orient \u001b[39m=\u001b[39m infer_orient(\n\u001b[1;32m    157\u001b[0m     x, y, orient, require_numeric\u001b[39m=\u001b[39m\u001b[39mself\u001b[39m\u001b[39m.\u001b[39mrequire_numeric\n\u001b[1;32m    158\u001b[0m )\n",
      "\u001b[0;31mValueError\u001b[0m: Could not interpret input 'variable'"
     ]
    }
   ],
   "source": [
    "e_latency = pd.melt(e_latency, id_vars=['Time'], value_vars=['0.005','0.025','0.1','0.5','1','10','30','60','300','+Inf'])\n",
    "sns.violinplot(x='variable', y='value', data=d_latency)"
   ]
  },
  {
   "cell_type": "code",
   "execution_count": 201,
   "metadata": {},
   "outputs": [
    {
     "name": "stdout",
     "output_type": "stream",
     "text": [
      "Mann–Whitney U Test: stat = 4469.0000, p-value = 1.0000\n",
      "Null hypothesis: the distribution of 0.005 latency is the same in the original and diversified datasets.\n",
      "Result: We do not reject the null hypothesis\n",
      "\n",
      "\n",
      "Mann–Whitney U Test: stat = 6166.5000, p-value = 0.0000\n",
      "Null hypothesis: the distribution of 0.025 latency is the same in the original and diversified datasets.\n",
      "Result: We reject the null hypothesis\n",
      "\n",
      "\n",
      "Mann–Whitney U Test: stat = 5666.5000, p-value = 0.0015\n",
      "Null hypothesis: the distribution of 0.1 latency is the same in the original and diversified datasets.\n",
      "Result: We reject the null hypothesis\n",
      "\n",
      "\n",
      "Mann–Whitney U Test: stat = 5720.0000, p-value = 0.0009\n",
      "Null hypothesis: the distribution of 0.5 latency is the same in the original and diversified datasets.\n",
      "Result: We reject the null hypothesis\n",
      "\n",
      "\n",
      "Mann–Whitney U Test: stat = 5747.5000, p-value = 0.0007\n",
      "Null hypothesis: the distribution of 1 latency is the same in the original and diversified datasets.\n",
      "Result: We reject the null hypothesis\n",
      "\n",
      "\n",
      "Mann–Whitney U Test: stat = 5747.5000, p-value = 0.0007\n",
      "Null hypothesis: the distribution of 10 latency is the same in the original and diversified datasets.\n",
      "Result: We reject the null hypothesis\n",
      "\n",
      "\n",
      "Mann–Whitney U Test: stat = 5747.5000, p-value = 0.0007\n",
      "Null hypothesis: the distribution of 30 latency is the same in the original and diversified datasets.\n",
      "Result: We reject the null hypothesis\n",
      "\n",
      "\n",
      "Mann–Whitney U Test: stat = 5747.5000, p-value = 0.0007\n",
      "Null hypothesis: the distribution of 60 latency is the same in the original and diversified datasets.\n",
      "Result: We reject the null hypothesis\n",
      "\n",
      "\n",
      "Mann–Whitney U Test: stat = 5747.5000, p-value = 0.0007\n",
      "Null hypothesis: the distribution of 300 latency is the same in the original and diversified datasets.\n",
      "Result: We reject the null hypothesis\n",
      "\n",
      "\n",
      "Mann–Whitney U Test: stat = 5747.5000, p-value = 0.0007\n",
      "Null hypothesis: the distribution of +Inf latency is the same in the original and diversified datasets.\n",
      "Result: We reject the null hypothesis\n",
      "\n",
      "\n"
     ]
    }
   ],
   "source": [
    "buckets = ['0.005','0.025','0.1','0.5','1','10','30','60','300','+Inf']\n",
    "\n",
    "for bucket in buckets:\n",
    "\n",
    "    stat, p_value = mannwhitneyu(n_latency[n_latency['variable']==bucket]['value'], d_latency[d_latency['variable']==bucket]['value'])\n",
    "    print(f'Mann–Whitney U Test: stat = {stat:.4f}, p-value = {p_value:.4f}')\n",
    "    print(f'Null hypothesis: the distribution of {bucket} latency is the same in the original and diversified datasets.')\n",
    "    if p_value > 0.05:\n",
    "        #'Same distribution (fail to reject H0)'\n",
    "        print('Result: We do not reject the null hypothesis')\n",
    "    else:\n",
    "        #'Different distribution, (reject H0)'\n",
    "        print('Result: We reject the null hypothesis')\n",
    "    print('\\n')\n",
    "\n"
   ]
  }
 ],
 "metadata": {
  "kernelspec": {
   "display_name": "Python 3.9.13 ('socialz4')",
   "language": "python",
   "name": "python3"
  },
  "language_info": {
   "codemirror_mode": {
    "name": "ipython",
    "version": 3
   },
   "file_extension": ".py",
   "mimetype": "text/x-python",
   "name": "python",
   "nbconvert_exporter": "python",
   "pygments_lexer": "ipython3",
   "version": "3.9.13"
  },
  "orig_nbformat": 4,
  "vscode": {
   "interpreter": {
    "hash": "f7a436a391a9278b640ba5371733bb417f7f23054c5f3ec3cee21343367707d8"
   }
  }
 },
 "nbformat": 4,
 "nbformat_minor": 2
}
