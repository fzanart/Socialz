{
  "nbformat": 4,
  "nbformat_minor": 0,
  "metadata": {
    "colab": {
      "name": "mu_lambda_ES.ipynb",
      "provenance": [],
      "authorship_tag": "ABX9TyNoPQIOHHsmLLYNcs/7PgNF",
      "include_colab_link": true
    },
    "kernelspec": {
      "name": "python3",
      "display_name": "Python 3"
    },
    "language_info": {
      "name": "python"
    }
  },
  "cells": [
    {
      "cell_type": "markdown",
      "metadata": {
        "id": "view-in-github",
        "colab_type": "text"
      },
      "source": [
        "<a href=\"https://colab.research.google.com/github/fzanart/Socialz/blob/wip/mu_lambda_ES.ipynb\" target=\"_parent\"><img src=\"https://colab.research.google.com/assets/colab-badge.svg\" alt=\"Open In Colab\"/></a>"
      ]
    },
    {
      "cell_type": "code",
      "source": [
        "!pip install scipy --upgrade"
      ],
      "metadata": {
        "colab": {
          "base_uri": "https://localhost:8080/"
        },
        "id": "-WJRsuLC9l5d",
        "outputId": "48568b6b-c4fb-4b1a-a74e-ccc6b7052ff6"
      },
      "execution_count": 1,
      "outputs": [
        {
          "output_type": "stream",
          "name": "stdout",
          "text": [
            "Requirement already satisfied: scipy in /usr/local/lib/python3.7/dist-packages (1.7.3)\n",
            "Requirement already satisfied: numpy<1.23.0,>=1.16.5 in /usr/local/lib/python3.7/dist-packages (from scipy) (1.21.6)\n"
          ]
        }
      ]
    },
    {
      "cell_type": "code",
      "source": [
        "import random\n",
        "import pandas as pd\n",
        "import numpy as np\n",
        "import pandas as pd\n",
        "import matplotlib.pyplot as plt\n",
        "from scipy.stats import qmc\n",
        "from tqdm import tqdm\n",
        "from google.colab import drive\n",
        "drive.mount('/content/drive/')\n",
        "import time"
      ],
      "metadata": {
        "id": "wfsS6NvF9puI",
        "colab": {
          "base_uri": "https://localhost:8080/"
        },
        "outputId": "564dbb28-17e1-48b7-dc8f-bf93fc76b1c3"
      },
      "execution_count": 2,
      "outputs": [
        {
          "output_type": "stream",
          "name": "stdout",
          "text": [
            "Mounted at /content/drive/\n"
          ]
        }
      ]
    },
    {
      "cell_type": "code",
      "source": [
        "df = pd.read_pickle('/content/drive/MyDrive/Socialz/dataset.pkl')\n",
        "df = df[['Degree Centrality', 'anomaly_ratio']]\n",
        "df"
      ],
      "metadata": {
        "colab": {
          "base_uri": "https://localhost:8080/",
          "height": 433
        },
        "id": "uvgT_cfB_Mz-",
        "outputId": "fce9dfce-a8f7-419c-bc73-ecdbf9f3835b"
      },
      "execution_count": 3,
      "outputs": [
        {
          "output_type": "execute_result",
          "data": {
            "text/plain": [
              "      Degree Centrality  anomaly_ratio\n",
              "0              0.044489       0.138978\n",
              "1              0.031855       0.062857\n",
              "2              0.017876       0.141230\n",
              "3              0.017876       0.105587\n",
              "4              0.017742       0.062500\n",
              "...                 ...            ...\n",
              "4113           0.000403       0.000000\n",
              "4114           0.000403       0.000000\n",
              "4115           0.000403       0.000000\n",
              "4116           0.000403       0.000000\n",
              "4117           0.000403       0.000000\n",
              "\n",
              "[4118 rows x 2 columns]"
            ],
            "text/html": [
              "\n",
              "  <div id=\"df-faabb15b-a95d-4f32-8346-8b73798122f4\">\n",
              "    <div class=\"colab-df-container\">\n",
              "      <div>\n",
              "<style scoped>\n",
              "    .dataframe tbody tr th:only-of-type {\n",
              "        vertical-align: middle;\n",
              "    }\n",
              "\n",
              "    .dataframe tbody tr th {\n",
              "        vertical-align: top;\n",
              "    }\n",
              "\n",
              "    .dataframe thead th {\n",
              "        text-align: right;\n",
              "    }\n",
              "</style>\n",
              "<table border=\"1\" class=\"dataframe\">\n",
              "  <thead>\n",
              "    <tr style=\"text-align: right;\">\n",
              "      <th></th>\n",
              "      <th>Degree Centrality</th>\n",
              "      <th>anomaly_ratio</th>\n",
              "    </tr>\n",
              "  </thead>\n",
              "  <tbody>\n",
              "    <tr>\n",
              "      <th>0</th>\n",
              "      <td>0.044489</td>\n",
              "      <td>0.138978</td>\n",
              "    </tr>\n",
              "    <tr>\n",
              "      <th>1</th>\n",
              "      <td>0.031855</td>\n",
              "      <td>0.062857</td>\n",
              "    </tr>\n",
              "    <tr>\n",
              "      <th>2</th>\n",
              "      <td>0.017876</td>\n",
              "      <td>0.141230</td>\n",
              "    </tr>\n",
              "    <tr>\n",
              "      <th>3</th>\n",
              "      <td>0.017876</td>\n",
              "      <td>0.105587</td>\n",
              "    </tr>\n",
              "    <tr>\n",
              "      <th>4</th>\n",
              "      <td>0.017742</td>\n",
              "      <td>0.062500</td>\n",
              "    </tr>\n",
              "    <tr>\n",
              "      <th>...</th>\n",
              "      <td>...</td>\n",
              "      <td>...</td>\n",
              "    </tr>\n",
              "    <tr>\n",
              "      <th>4113</th>\n",
              "      <td>0.000403</td>\n",
              "      <td>0.000000</td>\n",
              "    </tr>\n",
              "    <tr>\n",
              "      <th>4114</th>\n",
              "      <td>0.000403</td>\n",
              "      <td>0.000000</td>\n",
              "    </tr>\n",
              "    <tr>\n",
              "      <th>4115</th>\n",
              "      <td>0.000403</td>\n",
              "      <td>0.000000</td>\n",
              "    </tr>\n",
              "    <tr>\n",
              "      <th>4116</th>\n",
              "      <td>0.000403</td>\n",
              "      <td>0.000000</td>\n",
              "    </tr>\n",
              "    <tr>\n",
              "      <th>4117</th>\n",
              "      <td>0.000403</td>\n",
              "      <td>0.000000</td>\n",
              "    </tr>\n",
              "  </tbody>\n",
              "</table>\n",
              "<p>4118 rows × 2 columns</p>\n",
              "</div>\n",
              "      <button class=\"colab-df-convert\" onclick=\"convertToInteractive('df-faabb15b-a95d-4f32-8346-8b73798122f4')\"\n",
              "              title=\"Convert this dataframe to an interactive table.\"\n",
              "              style=\"display:none;\">\n",
              "        \n",
              "  <svg xmlns=\"http://www.w3.org/2000/svg\" height=\"24px\"viewBox=\"0 0 24 24\"\n",
              "       width=\"24px\">\n",
              "    <path d=\"M0 0h24v24H0V0z\" fill=\"none\"/>\n",
              "    <path d=\"M18.56 5.44l.94 2.06.94-2.06 2.06-.94-2.06-.94-.94-2.06-.94 2.06-2.06.94zm-11 1L8.5 8.5l.94-2.06 2.06-.94-2.06-.94L8.5 2.5l-.94 2.06-2.06.94zm10 10l.94 2.06.94-2.06 2.06-.94-2.06-.94-.94-2.06-.94 2.06-2.06.94z\"/><path d=\"M17.41 7.96l-1.37-1.37c-.4-.4-.92-.59-1.43-.59-.52 0-1.04.2-1.43.59L10.3 9.45l-7.72 7.72c-.78.78-.78 2.05 0 2.83L4 21.41c.39.39.9.59 1.41.59.51 0 1.02-.2 1.41-.59l7.78-7.78 2.81-2.81c.8-.78.8-2.07 0-2.86zM5.41 20L4 18.59l7.72-7.72 1.47 1.35L5.41 20z\"/>\n",
              "  </svg>\n",
              "      </button>\n",
              "      \n",
              "  <style>\n",
              "    .colab-df-container {\n",
              "      display:flex;\n",
              "      flex-wrap:wrap;\n",
              "      gap: 12px;\n",
              "    }\n",
              "\n",
              "    .colab-df-convert {\n",
              "      background-color: #E8F0FE;\n",
              "      border: none;\n",
              "      border-radius: 50%;\n",
              "      cursor: pointer;\n",
              "      display: none;\n",
              "      fill: #1967D2;\n",
              "      height: 32px;\n",
              "      padding: 0 0 0 0;\n",
              "      width: 32px;\n",
              "    }\n",
              "\n",
              "    .colab-df-convert:hover {\n",
              "      background-color: #E2EBFA;\n",
              "      box-shadow: 0px 1px 2px rgba(60, 64, 67, 0.3), 0px 1px 3px 1px rgba(60, 64, 67, 0.15);\n",
              "      fill: #174EA6;\n",
              "    }\n",
              "\n",
              "    [theme=dark] .colab-df-convert {\n",
              "      background-color: #3B4455;\n",
              "      fill: #D2E3FC;\n",
              "    }\n",
              "\n",
              "    [theme=dark] .colab-df-convert:hover {\n",
              "      background-color: #434B5C;\n",
              "      box-shadow: 0px 1px 3px 1px rgba(0, 0, 0, 0.15);\n",
              "      filter: drop-shadow(0px 1px 2px rgba(0, 0, 0, 0.3));\n",
              "      fill: #FFFFFF;\n",
              "    }\n",
              "  </style>\n",
              "\n",
              "      <script>\n",
              "        const buttonEl =\n",
              "          document.querySelector('#df-faabb15b-a95d-4f32-8346-8b73798122f4 button.colab-df-convert');\n",
              "        buttonEl.style.display =\n",
              "          google.colab.kernel.accessAllowed ? 'block' : 'none';\n",
              "\n",
              "        async function convertToInteractive(key) {\n",
              "          const element = document.querySelector('#df-faabb15b-a95d-4f32-8346-8b73798122f4');\n",
              "          const dataTable =\n",
              "            await google.colab.kernel.invokeFunction('convertToInteractive',\n",
              "                                                     [key], {});\n",
              "          if (!dataTable) return;\n",
              "\n",
              "          const docLinkHtml = 'Like what you see? Visit the ' +\n",
              "            '<a target=\"_blank\" href=https://colab.research.google.com/notebooks/data_table.ipynb>data table notebook</a>'\n",
              "            + ' to learn more about interactive tables.';\n",
              "          element.innerHTML = '';\n",
              "          dataTable['output_type'] = 'display_data';\n",
              "          await google.colab.output.renderOutput(dataTable, element);\n",
              "          const docLink = document.createElement('div');\n",
              "          docLink.innerHTML = docLinkHtml;\n",
              "          element.appendChild(docLink);\n",
              "        }\n",
              "      </script>\n",
              "    </div>\n",
              "  </div>\n",
              "  "
            ]
          },
          "metadata": {},
          "execution_count": 3
        }
      ]
    },
    {
      "cell_type": "markdown",
      "source": [
        "mu: The number of parents selected each iteration.\n",
        "\n",
        "lambda: Size of the population.\n",
        "\n",
        "lambda / mu: Number of children generated from each selected parent."
      ],
      "metadata": {
        "id": "aLjcrT2TCD3l"
      }
    },
    {
      "cell_type": "code",
      "source": [
        "def objective(candidate):\n",
        "  return qmc.discrepancy(candidate, method='L2-star',workers=-1)"
      ],
      "metadata": {
        "id": "dNUfH_JM97Bw"
      },
      "execution_count": 5,
      "outputs": []
    },
    {
      "cell_type": "code",
      "source": [
        "objective(df)"
      ],
      "metadata": {
        "id": "lUeIIbG5sSx8",
        "outputId": "d96a3333-69de-4119-eef0-e28bb076ec3b",
        "colab": {
          "base_uri": "https://localhost:8080/"
        }
      },
      "execution_count": 6,
      "outputs": [
        {
          "output_type": "execute_result",
          "data": {
            "text/plain": [
              "0.6922122692776922"
            ]
          },
          "metadata": {},
          "execution_count": 6
        }
      ]
    },
    {
      "cell_type": "code",
      "source": [
        "# check if a point is within the bounds of the search\n",
        "def in_bounds(point):\n",
        "\t# assuming all dimensions should lie in the same range, e.i. [0,1]\n",
        "\ttest = ((point > 0) == (point < 1)).all()\n",
        "\t# Returns True if they are within the bounds, false otherwise.\n",
        "\treturn test"
      ],
      "metadata": {
        "id": "GfuM-CxyLKRj"
      },
      "execution_count": 7,
      "outputs": []
    },
    {
      "cell_type": "code",
      "source": [
        "# evolution strategy (mu, lambda) algorithm\n",
        "def es_comma(initial_record, objective, n_iter, step_size, mu, lam):\n",
        "  best, best_eval = None, 1e+10\n",
        "\t# calculate the number of children per parent\n",
        "  n_children = int(lam / mu)\n",
        "\t\n",
        "  # initial population\n",
        "  population = list()\n",
        "  \n",
        "  for i in range(lam):\n",
        "    candidate = df.copy()\n",
        "    sample = candidate.sample(lam, random_state=1)\n",
        "    candidate.loc[sample.index] = np.random.rand(sample.shape[0],sample.shape[1])\n",
        "    population.append(candidate)\n",
        "\n",
        "  # perform the search\n",
        "  for epoch in range(n_iter):\n",
        "    # evaluate the fitness for the population\n",
        "    scores = [objective(candidate) for candidate in population]\n",
        "    # rank scores in ascending order\n",
        "    ranks = np.argsort(np.argsort(scores))\n",
        "    # select the indexes for the top mu ranked solutions, drop the worse results\t\n",
        "    selected = [i for i,_ in enumerate(ranks) if ranks[i] < mu]\n",
        "    # create offspring from parents\n",
        "    offspring = list()\n",
        "    for i in selected:\n",
        "      # check if this parent is the best solution ever seen\n",
        "      if scores[i] < best_eval:\n",
        "        best, best_eval = population[i], scores[i]\n",
        "        print('%d, Best eval: = %.5f' % (epoch, best_eval))\n",
        "\n",
        "        # create offspring for parent\n",
        "        for j in range(n_children):\n",
        "          print(\"\\t\", j, end =\" \")\n",
        "          aux = None\n",
        "          timeout = time.time() + 10 # seconds to find a solution within the bounds\n",
        "          while aux is None or not in_bounds(aux.to_numpy()):\n",
        "            aux = population[i].loc[sample.index]\n",
        "            aux = aux + np.random.rand(sample.shape[0],sample.shape[1]) * np.random.choice([-1,1]) * step_size\n",
        "            if time.time() > timeout:\n",
        "              aux = population[i].loc[sample.index]\n",
        "              print('timeout')\n",
        "              break\n",
        "          population[i].loc[sample.index] = aux\n",
        "          child = population[i]\n",
        "          offspring.append(child)\n",
        "\n",
        "    # replace population with children\n",
        "    population = offspring\n",
        "\n",
        "  return [best, best_eval]"
      ],
      "metadata": {
        "id": "yjOcojmYGiiz"
      },
      "execution_count": 25,
      "outputs": []
    },
    {
      "cell_type": "markdown",
      "source": [
        "In the es_plus version, offspring and the parents comprise the population at the end instead of just the offspring as the es_comma version. "
      ],
      "metadata": {
        "id": "rph4gb8JGjTG"
      }
    },
    {
      "cell_type": "code",
      "source": [
        "# evolution strategy (mu, lambda) algorithm\n",
        "def es_plus(initial_record, objective, n_iter, step_size, mu, lam):\n",
        "  best, best_eval = None, 1e+10\n",
        "\t# calculate the number of children per parent\n",
        "  n_children = int(lam / mu)\n",
        "\t\n",
        "  # initial population\n",
        "  population = list()\n",
        "  \n",
        "  for i in range(lam):\n",
        "    candidate = df.copy()\n",
        "    sample = candidate.sample(lam, random_state=1)\n",
        "    candidate.loc[sample.index] = np.random.rand(sample.shape[0],sample.shape[1])\n",
        "    population.append(candidate)\n",
        "\n",
        "  # perform the search\n",
        "  for epoch in range(n_iter):\n",
        "    # evaluate the fitness for the population\n",
        "    scores = [objective(candidate) for candidate in population]\n",
        "    # rank scores in ascending order\n",
        "    ranks = np.argsort(np.argsort(scores))\n",
        "    # select the indexes for the top mu ranked solutions, drop the worse results\t\n",
        "    selected = [i for i,_ in enumerate(ranks) if ranks[i] < mu]\n",
        "    # create offspring from parents\n",
        "    offspring = list()\n",
        "    for i in selected:\n",
        "      # check if this parent is the best solution ever seen\n",
        "      if scores[i] < best_eval:\n",
        "        best, best_eval = population[i], scores[i]\n",
        "        print('%d, Best eval: = %.5f' % (epoch, best_eval))\n",
        "        \n",
        "        # keep the parent\n",
        "        offspring.append(population[i])\n",
        "\n",
        "        # create offspring for parent\n",
        "        for j in range(n_children):\n",
        "          print(\"\\t\", j, end =\" \")\n",
        "          aux = None\n",
        "          timeout = time.time() + 10 # seconds to find a solution within the bounds\n",
        "          while aux is None or not in_bounds(aux.to_numpy()):\n",
        "            aux = population[i].loc[sample.index]\n",
        "            aux = aux + np.random.rand(sample.shape[0],sample.shape[1]) * np.random.choice([-1,1]) * step_size\n",
        "            if time.time() > timeout:\n",
        "              aux = population[i].loc[sample.index]\n",
        "              print('timeout')\n",
        "              break\n",
        "          population[i].loc[sample.index] = aux\n",
        "          child = population[i]\n",
        "          offspring.append(child)\n",
        "\n",
        "    # replace population with children\n",
        "    population = offspring\n",
        "\n",
        "  return [best, best_eval]"
      ],
      "metadata": {
        "id": "esTr9UUUdJhw"
      },
      "execution_count": 26,
      "outputs": []
    },
    {
      "cell_type": "code",
      "source": [
        "# define the total iterations\n",
        "n_iter = 5000\n",
        "# define the maximum step size\n",
        "step_size = 0.10\n",
        "# number of parents selected\n",
        "mu = 1235\n",
        "# the number of children generated by parents\n",
        "lam = 1236\n",
        "# perform the evolution strategy (mu, lambda) search\n",
        "best, score = es_plus(df, objective, n_iter, step_size, mu, lam)"
      ],
      "metadata": {
        "id": "pLrm4mWti_1i",
        "outputId": "bb691182-5cac-40b8-cf87-2792f2a5aa94",
        "colab": {
          "base_uri": "https://localhost:8080/"
        }
      },
      "execution_count": 27,
      "outputs": [
        {
          "output_type": "stream",
          "name": "stdout",
          "text": [
            "0, Best eval: = 0.48410\n",
            "\t 0 timeout\n",
            "0, Best eval: = 0.48348\n",
            "\t 0 timeout\n",
            "0, Best eval: = 0.48291\n",
            "\t 0 timeout\n",
            "0, Best eval: = 0.48251\n",
            "\t 0 timeout\n",
            "0, Best eval: = 0.48250\n",
            "\t 0 timeout\n",
            "0, Best eval: = 0.48229\n",
            "\t 0 timeout\n",
            "0, Best eval: = 0.48076\n",
            "\t 0 timeout\n",
            "0, Best eval: = 0.48006\n",
            "\t 0 timeout\n",
            "0, Best eval: = 0.47959\n",
            "\t 0 timeout\n"
          ]
        }
      ]
    },
    {
      "cell_type": "code",
      "source": [
        "score"
      ],
      "metadata": {
        "id": "1W3s2AeHAKEq",
        "outputId": "9e26fabd-a22d-4fc0-c78b-cf8d63eebdab",
        "colab": {
          "base_uri": "https://localhost:8080/"
        }
      },
      "execution_count": 28,
      "outputs": [
        {
          "output_type": "execute_result",
          "data": {
            "text/plain": [
              "0.47958762299909186"
            ]
          },
          "metadata": {},
          "execution_count": 28
        }
      ]
    },
    {
      "cell_type": "code",
      "source": [
        "df.plot.scatter(x='Degree Centrality', y='anomaly_ratio')"
      ],
      "metadata": {
        "id": "vXMAZRlZiP2I",
        "outputId": "bff41abc-6862-4998-b212-5f2f3344ae35",
        "colab": {
          "base_uri": "https://localhost:8080/",
          "height": 316
        }
      },
      "execution_count": 29,
      "outputs": [
        {
          "output_type": "execute_result",
          "data": {
            "text/plain": [
              "<matplotlib.axes._subplots.AxesSubplot at 0x7fcd97a08a10>"
            ]
          },
          "metadata": {},
          "execution_count": 29
        },
        {
          "output_type": "display_data",
          "data": {
            "text/plain": [
              "<Figure size 432x288 with 1 Axes>"
            ],
            "image/png": "[encoded data removed]"
          },
          "metadata": {
            "needs_background": "light"
          }
        }
      ]
    },
    {
      "cell_type": "code",
      "source": [
        "best.plot.scatter(x='Degree Centrality', y='anomaly_ratio')"
      ],
      "metadata": {
        "id": "E5twVWccirt6",
        "outputId": "3ad27b2c-6d76-458b-9815-29b3e3fac91e",
        "colab": {
          "base_uri": "https://localhost:8080/",
          "height": 316
        }
      },
      "execution_count": 30,
      "outputs": [
        {
          "output_type": "execute_result",
          "data": {
            "text/plain": [
              "<matplotlib.axes._subplots.AxesSubplot at 0x7fcd979777d0>"
            ]
          },
          "metadata": {},
          "execution_count": 30
        },
        {
          "output_type": "display_data",
          "data": {
            "text/plain": [
              "<Figure size 432x288 with 1 Axes>"
            ],
            "image/png": "[encoded data removed]"
          },
          "metadata": {
            "needs_background": "light"
          }
        }
      ]
    },
    {
      "cell_type": "code",
      "source": [
        "df.count().sum() - (df == best).astype(int).sum().sum()"
      ],
      "metadata": {
        "id": "WN5ONvZrHFUd",
        "outputId": "2832e402-b97b-400c-f368-ba0eb4f48565",
        "colab": {
          "base_uri": "https://localhost:8080/"
        }
      },
      "execution_count": 31,
      "outputs": [
        {
          "output_type": "execute_result",
          "data": {
            "text/plain": [
              "2472"
            ]
          },
          "metadata": {},
          "execution_count": 31
        }
      ]
    },
    {
      "cell_type": "code",
      "source": [
        "2472/(df.shape[0]*df.shape[1])"
      ],
      "metadata": {
        "id": "u_FYo3HhHUTF",
        "outputId": "165f0b22-c137-47e9-ecb0-c8507ce9e204",
        "colab": {
          "base_uri": "https://localhost:8080/"
        }
      },
      "execution_count": 32,
      "outputs": [
        {
          "output_type": "execute_result",
          "data": {
            "text/plain": [
              "0.30014570179698885"
            ]
          },
          "metadata": {},
          "execution_count": 32
        }
      ]
    },
    {
      "cell_type": "code",
      "source": [
        "best, score = es_comma(df, objective, n_iter, step_size, mu, lam)"
      ],
      "metadata": {
        "id": "Un2IykaOIhNE",
        "outputId": "767af765-4b8b-4053-acfa-5f71c47a70fc",
        "colab": {
          "base_uri": "https://localhost:8080/"
        }
      },
      "execution_count": 33,
      "outputs": [
        {
          "output_type": "stream",
          "name": "stdout",
          "text": [
            "0, Best eval: = 0.48596\n",
            "\t 0 timeout\n",
            "0, Best eval: = 0.48569\n",
            "\t 0 timeout\n",
            "0, Best eval: = 0.48545\n",
            "\t 0 timeout\n",
            "0, Best eval: = 0.48455\n",
            "\t 0 timeout\n",
            "0, Best eval: = 0.48286\n",
            "\t 0 timeout\n",
            "0, Best eval: = 0.48228\n",
            "\t 0 timeout\n",
            "0, Best eval: = 0.48105\n",
            "\t 0 timeout\n",
            "0, Best eval: = 0.48078\n",
            "\t 0 timeout\n",
            "0, Best eval: = 0.47983\n",
            "\t 0 timeout\n",
            "0, Best eval: = 0.47972\n",
            "\t 0 timeout\n"
          ]
        }
      ]
    },
    {
      "cell_type": "code",
      "source": [
        "score"
      ],
      "metadata": {
        "id": "7D3J00dMIsbH",
        "outputId": "07c26da1-ec9f-4dd8-f6d7-023f4e20952e",
        "colab": {
          "base_uri": "https://localhost:8080/"
        }
      },
      "execution_count": 34,
      "outputs": [
        {
          "output_type": "execute_result",
          "data": {
            "text/plain": [
              "0.4797185452781695"
            ]
          },
          "metadata": {},
          "execution_count": 34
        }
      ]
    },
    {
      "cell_type": "code",
      "source": [
        "best.plot.scatter(x='Degree Centrality', y='anomaly_ratio')"
      ],
      "metadata": {
        "id": "9CtYjYryIugk",
        "outputId": "e6eb1d02-b234-4326-8186-183d981b85e5",
        "colab": {
          "base_uri": "https://localhost:8080/",
          "height": 316
        }
      },
      "execution_count": 35,
      "outputs": [
        {
          "output_type": "execute_result",
          "data": {
            "text/plain": [
              "<matplotlib.axes._subplots.AxesSubplot at 0x7fcd978f5450>"
            ]
          },
          "metadata": {},
          "execution_count": 35
        },
        {
          "output_type": "display_data",
          "data": {
            "text/plain": [
              "<Figure size 432x288 with 1 Axes>"
            ],
            "image/png": "[encoded data removed]"
          },
          "metadata": {
            "needs_background": "light"
          }
        }
      ]
    }
  ]
}