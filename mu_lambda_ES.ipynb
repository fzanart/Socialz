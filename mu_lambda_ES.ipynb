{
  "nbformat": 4,
  "nbformat_minor": 0,
  "metadata": {
    "colab": {
      "name": "mu_lambda_ES.ipynb",
      "provenance": [],
      "authorship_tag": "ABX9TyNWaMVP5lPVHEHI3toFPzok",
      "include_colab_link": true
    },
    "kernelspec": {
      "name": "python3",
      "display_name": "Python 3"
    },
    "language_info": {
      "name": "python"
    }
  },
  "cells": [
    {
      "cell_type": "markdown",
      "metadata": {
        "id": "view-in-github",
        "colab_type": "text"
      },
      "source": [
        "<a href=\"https://colab.research.google.com/github/fzanart/Socialz/blob/wip/mu_lambda_ES.ipynb\" target=\"_parent\"><img src=\"https://colab.research.google.com/assets/colab-badge.svg\" alt=\"Open In Colab\"/></a>"
      ]
    },
    {
      "cell_type": "code",
      "source": [
        "!pip install scipy --upgrade"
      ],
      "metadata": {
        "colab": {
          "base_uri": "https://localhost:8080/"
        },
        "id": "-WJRsuLC9l5d",
        "outputId": "562fced5-abe1-4af4-abba-3b1d99426ba4"
      },
      "execution_count": 33,
      "outputs": [
        {
          "output_type": "stream",
          "name": "stdout",
          "text": [
            "Requirement already satisfied: scipy in /usr/local/lib/python3.7/dist-packages (1.7.3)\n",
            "Requirement already satisfied: numpy<1.23.0,>=1.16.5 in /usr/local/lib/python3.7/dist-packages (from scipy) (1.21.6)\n"
          ]
        }
      ]
    },
    {
      "cell_type": "code",
      "source": [
        "import random\n",
        "import pandas as pd\n",
        "import numpy as np\n",
        "import pandas as pd\n",
        "import matplotlib.pyplot as plt\n",
        "from scipy.stats import qmc\n",
        "from tqdm import tqdm\n",
        "from google.colab import drive\n",
        "drive.mount('/content/drive/')\n",
        "import time"
      ],
      "metadata": {
        "id": "wfsS6NvF9puI",
        "colab": {
          "base_uri": "https://localhost:8080/"
        },
        "outputId": "31ecf944-9873-4d72-d866-bcfb4bf1d422"
      },
      "execution_count": 77,
      "outputs": [
        {
          "output_type": "stream",
          "name": "stdout",
          "text": [
            "Drive already mounted at /content/drive/; to attempt to forcibly remount, call drive.mount(\"/content/drive/\", force_remount=True).\n"
          ]
        }
      ]
    },
    {
      "cell_type": "code",
      "source": [
        "df = pd.read_pickle('/content/drive/MyDrive/Socialz/dataset.pkl')\n",
        "df = df[['Degree Centrality', 'anomaly_ratio']]\n",
        "df"
      ],
      "metadata": {
        "colab": {
          "base_uri": "https://localhost:8080/",
          "height": 413
        },
        "id": "uvgT_cfB_Mz-",
        "outputId": "a58cc613-9545-44a4-96bc-3a76741721b0"
      },
      "execution_count": 57,
      "outputs": [
        {
          "output_type": "execute_result",
          "data": {
            "text/plain": [
              "      Degree Centrality  anomaly_ratio\n",
              "0              0.044489       0.138978\n",
              "1              0.031855       0.062857\n",
              "2              0.017876       0.141230\n",
              "3              0.017876       0.105587\n",
              "4              0.017742       0.062500\n",
              "...                 ...            ...\n",
              "4113           0.000403       0.000000\n",
              "4114           0.000403       0.000000\n",
              "4115           0.000403       0.000000\n",
              "4116           0.000403       0.000000\n",
              "4117           0.000403       0.000000\n",
              "\n",
              "[4118 rows x 2 columns]"
            ],
            "text/html": [
              "\n",
              "  <div id=\"df-4621e0f9-d8f0-4537-b55b-bffe502dcb5e\">\n",
              "    <div class=\"colab-df-container\">\n",
              "      <div>\n",
              "<style scoped>\n",
              "    .dataframe tbody tr th:only-of-type {\n",
              "        vertical-align: middle;\n",
              "    }\n",
              "\n",
              "    .dataframe tbody tr th {\n",
              "        vertical-align: top;\n",
              "    }\n",
              "\n",
              "    .dataframe thead th {\n",
              "        text-align: right;\n",
              "    }\n",
              "</style>\n",
              "<table border=\"1\" class=\"dataframe\">\n",
              "  <thead>\n",
              "    <tr style=\"text-align: right;\">\n",
              "      <th></th>\n",
              "      <th>Degree Centrality</th>\n",
              "      <th>anomaly_ratio</th>\n",
              "    </tr>\n",
              "  </thead>\n",
              "  <tbody>\n",
              "    <tr>\n",
              "      <th>0</th>\n",
              "      <td>0.044489</td>\n",
              "      <td>0.138978</td>\n",
              "    </tr>\n",
              "    <tr>\n",
              "      <th>1</th>\n",
              "      <td>0.031855</td>\n",
              "      <td>0.062857</td>\n",
              "    </tr>\n",
              "    <tr>\n",
              "      <th>2</th>\n",
              "      <td>0.017876</td>\n",
              "      <td>0.141230</td>\n",
              "    </tr>\n",
              "    <tr>\n",
              "      <th>3</th>\n",
              "      <td>0.017876</td>\n",
              "      <td>0.105587</td>\n",
              "    </tr>\n",
              "    <tr>\n",
              "      <th>4</th>\n",
              "      <td>0.017742</td>\n",
              "      <td>0.062500</td>\n",
              "    </tr>\n",
              "    <tr>\n",
              "      <th>...</th>\n",
              "      <td>...</td>\n",
              "      <td>...</td>\n",
              "    </tr>\n",
              "    <tr>\n",
              "      <th>4113</th>\n",
              "      <td>0.000403</td>\n",
              "      <td>0.000000</td>\n",
              "    </tr>\n",
              "    <tr>\n",
              "      <th>4114</th>\n",
              "      <td>0.000403</td>\n",
              "      <td>0.000000</td>\n",
              "    </tr>\n",
              "    <tr>\n",
              "      <th>4115</th>\n",
              "      <td>0.000403</td>\n",
              "      <td>0.000000</td>\n",
              "    </tr>\n",
              "    <tr>\n",
              "      <th>4116</th>\n",
              "      <td>0.000403</td>\n",
              "      <td>0.000000</td>\n",
              "    </tr>\n",
              "    <tr>\n",
              "      <th>4117</th>\n",
              "      <td>0.000403</td>\n",
              "      <td>0.000000</td>\n",
              "    </tr>\n",
              "  </tbody>\n",
              "</table>\n",
              "<p>4118 rows × 2 columns</p>\n",
              "</div>\n",
              "      <button class=\"colab-df-convert\" onclick=\"convertToInteractive('df-4621e0f9-d8f0-4537-b55b-bffe502dcb5e')\"\n",
              "              title=\"Convert this dataframe to an interactive table.\"\n",
              "              style=\"display:none;\">\n",
              "        \n",
              "  <svg xmlns=\"http://www.w3.org/2000/svg\" height=\"24px\"viewBox=\"0 0 24 24\"\n",
              "       width=\"24px\">\n",
              "    <path d=\"M0 0h24v24H0V0z\" fill=\"none\"/>\n",
              "    <path d=\"M18.56 5.44l.94 2.06.94-2.06 2.06-.94-2.06-.94-.94-2.06-.94 2.06-2.06.94zm-11 1L8.5 8.5l.94-2.06 2.06-.94-2.06-.94L8.5 2.5l-.94 2.06-2.06.94zm10 10l.94 2.06.94-2.06 2.06-.94-2.06-.94-.94-2.06-.94 2.06-2.06.94z\"/><path d=\"M17.41 7.96l-1.37-1.37c-.4-.4-.92-.59-1.43-.59-.52 0-1.04.2-1.43.59L10.3 9.45l-7.72 7.72c-.78.78-.78 2.05 0 2.83L4 21.41c.39.39.9.59 1.41.59.51 0 1.02-.2 1.41-.59l7.78-7.78 2.81-2.81c.8-.78.8-2.07 0-2.86zM5.41 20L4 18.59l7.72-7.72 1.47 1.35L5.41 20z\"/>\n",
              "  </svg>\n",
              "      </button>\n",
              "      \n",
              "  <style>\n",
              "    .colab-df-container {\n",
              "      display:flex;\n",
              "      flex-wrap:wrap;\n",
              "      gap: 12px;\n",
              "    }\n",
              "\n",
              "    .colab-df-convert {\n",
              "      background-color: #E8F0FE;\n",
              "      border: none;\n",
              "      border-radius: 50%;\n",
              "      cursor: pointer;\n",
              "      display: none;\n",
              "      fill: #1967D2;\n",
              "      height: 32px;\n",
              "      padding: 0 0 0 0;\n",
              "      width: 32px;\n",
              "    }\n",
              "\n",
              "    .colab-df-convert:hover {\n",
              "      background-color: #E2EBFA;\n",
              "      box-shadow: 0px 1px 2px rgba(60, 64, 67, 0.3), 0px 1px 3px 1px rgba(60, 64, 67, 0.15);\n",
              "      fill: #174EA6;\n",
              "    }\n",
              "\n",
              "    [theme=dark] .colab-df-convert {\n",
              "      background-color: #3B4455;\n",
              "      fill: #D2E3FC;\n",
              "    }\n",
              "\n",
              "    [theme=dark] .colab-df-convert:hover {\n",
              "      background-color: #434B5C;\n",
              "      box-shadow: 0px 1px 3px 1px rgba(0, 0, 0, 0.15);\n",
              "      filter: drop-shadow(0px 1px 2px rgba(0, 0, 0, 0.3));\n",
              "      fill: #FFFFFF;\n",
              "    }\n",
              "  </style>\n",
              "\n",
              "      <script>\n",
              "        const buttonEl =\n",
              "          document.querySelector('#df-4621e0f9-d8f0-4537-b55b-bffe502dcb5e button.colab-df-convert');\n",
              "        buttonEl.style.display =\n",
              "          google.colab.kernel.accessAllowed ? 'block' : 'none';\n",
              "\n",
              "        async function convertToInteractive(key) {\n",
              "          const element = document.querySelector('#df-4621e0f9-d8f0-4537-b55b-bffe502dcb5e');\n",
              "          const dataTable =\n",
              "            await google.colab.kernel.invokeFunction('convertToInteractive',\n",
              "                                                     [key], {});\n",
              "          if (!dataTable) return;\n",
              "\n",
              "          const docLinkHtml = 'Like what you see? Visit the ' +\n",
              "            '<a target=\"_blank\" href=https://colab.research.google.com/notebooks/data_table.ipynb>data table notebook</a>'\n",
              "            + ' to learn more about interactive tables.';\n",
              "          element.innerHTML = '';\n",
              "          dataTable['output_type'] = 'display_data';\n",
              "          await google.colab.output.renderOutput(dataTable, element);\n",
              "          const docLink = document.createElement('div');\n",
              "          docLink.innerHTML = docLinkHtml;\n",
              "          element.appendChild(docLink);\n",
              "        }\n",
              "      </script>\n",
              "    </div>\n",
              "  </div>\n",
              "  "
            ]
          },
          "metadata": {},
          "execution_count": 57
        }
      ]
    },
    {
      "cell_type": "markdown",
      "source": [
        "mu: The number of parents selected each iteration.\n",
        "\n",
        "lambda: Size of the population.\n",
        "\n",
        "lambda / mu: Number of children generated from each selected parent."
      ],
      "metadata": {
        "id": "aLjcrT2TCD3l"
      }
    },
    {
      "cell_type": "code",
      "source": [
        "def objective(candidate):\n",
        "  return qmc.discrepancy(candidate, method='L2-star',workers=-1)"
      ],
      "metadata": {
        "id": "dNUfH_JM97Bw"
      },
      "execution_count": 58,
      "outputs": []
    },
    {
      "cell_type": "code",
      "source": [
        "objective(df)"
      ],
      "metadata": {
        "id": "lUeIIbG5sSx8",
        "outputId": "4c882103-b3fd-4840-f4b2-f4deec04a2f3",
        "colab": {
          "base_uri": "https://localhost:8080/"
        }
      },
      "execution_count": 59,
      "outputs": [
        {
          "output_type": "execute_result",
          "data": {
            "text/plain": [
              "0.6922122692776922"
            ]
          },
          "metadata": {},
          "execution_count": 59
        }
      ]
    },
    {
      "cell_type": "code",
      "source": [
        "# check if a point is within the bounds of the search\n",
        "def in_bounds(point):\n",
        "\t# assuming all dimensions should lie in the same range, e.i. [0,1]\n",
        "\ttest = ((point > 0) == (point < 1)).all()\n",
        "\t# Returns True if they are within the bounds, false otherwise.\n",
        "\treturn test"
      ],
      "metadata": {
        "id": "GfuM-CxyLKRj"
      },
      "execution_count": 70,
      "outputs": []
    },
    {
      "cell_type": "code",
      "source": [
        "# evolution strategy (mu, lambda) algorithm\n",
        "def es_comma(initial_record, objective, frac, n_iter, step_size, mu, lam):\n",
        "  best, best_eval = None, 1e+10\n",
        "\t# calculate the number of children per parent\n",
        "  n_children = int(lam / mu)\n",
        "\t\n",
        "  # initial population\n",
        "  population = list()\n",
        "  \n",
        "  for i in range(lam):\n",
        "    candidate = df.copy()\n",
        "    sample = candidate.sample(frac=frac, random_state=1)\n",
        "    candidate.loc[sample.index] = np.random.rand(sample.shape[0],sample.shape[1])\n",
        "    population.append(candidate)\n",
        "\n",
        "  # perform the search\n",
        "  for epoch in range(n_iter):\n",
        "    # evaluate the fitness for the population\n",
        "    scores = [objective(candidate) for candidate in population]\n",
        "    # rank scores in ascending order\n",
        "    ranks = np.argsort(np.argsort(scores))\n",
        "    # select the indexes for the top mu ranked solutions, drop the worse results\t\n",
        "    selected = [i for i,_ in enumerate(ranks) if ranks[i] < mu]\n",
        "    # create offspring from parents\n",
        "    offspring = list()\n",
        "    for i in selected:\n",
        "      # check if this parent is the best solution ever seen\n",
        "      if scores[i] < best_eval:\n",
        "        best, best_eval = population[i], scores[i]\n",
        "        print('%d, Best eval: = %.5f' % (epoch, best_eval))\n",
        "        # create offspring for parent\n",
        "        for j in range(n_children):\n",
        "          print(\"\\t\", j, end =\" \")\n",
        "          aux = None\n",
        "          timeout = time.time() + 10 # seconds to find a solution within the bounds\n",
        "          while aux is None or not in_bounds(aux.to_numpy()):\n",
        "            aux = population[i].loc[sample.index]\n",
        "            aux = aux + np.random.rand(sample.shape[0],sample.shape[1]) * np.random.choice([-1,1]) * step_size\n",
        "            if time.time() > timeout:\n",
        "              aux = population[i].loc[sample.index]\n",
        "              print('timeout')\n",
        "              break\n",
        "          population[i].loc[sample.index] = aux\n",
        "          child = population[i]\n",
        "          offspring.append(child)\n",
        "\n",
        "    # replace population with children\n",
        "    population = offspring\n",
        "\n",
        "  return [best, best_eval]"
      ],
      "metadata": {
        "id": "esTr9UUUdJhw"
      },
      "execution_count": 84,
      "outputs": []
    },
    {
      "cell_type": "code",
      "source": [
        "# define the fraction to be sampled\n",
        "frac = 0.1\n",
        "# define the total iterations\n",
        "n_iter = 5000\n",
        "# define the maximum step size\n",
        "step_size = 0.10\n",
        "# number of parents selected\n",
        "mu = 20\n",
        "# the number of children generated by parents\n",
        "lam = 100\n",
        "# perform the evolution strategy (mu, lambda) search\n",
        "best, score = es_comma(df, objective, frac, n_iter, step_size, mu, lam)"
      ],
      "metadata": {
        "id": "pLrm4mWti_1i",
        "outputId": "6b3f0d83-f0fd-41df-87dd-0408f98b4e29",
        "colab": {
          "base_uri": "https://localhost:8080/"
        }
      },
      "execution_count": 85,
      "outputs": [
        {
          "output_type": "stream",
          "name": "stdout",
          "text": [
            "0, Best eval: = 0.62115\n",
            "\t 0 timeout\n",
            "\t 1 timeout\n",
            "\t 2 timeout\n",
            "\t 3 timeout\n",
            "\t 4 timeout\n",
            "0, Best eval: = 0.62087\n",
            "\t 0 timeout\n",
            "\t 1 timeout\n",
            "\t 2 timeout\n",
            "\t 3 timeout\n",
            "\t 4 timeout\n",
            "0, Best eval: = 0.62046\n",
            "\t 0 timeout\n",
            "\t 1 timeout\n",
            "\t 2 timeout\n",
            "\t 3 timeout\n",
            "\t 4 timeout\n",
            "0, Best eval: = 0.62033\n",
            "\t 0 timeout\n",
            "\t 1 timeout\n",
            "\t 2 timeout\n",
            "\t 3 timeout\n",
            "\t 4 timeout\n"
          ]
        }
      ]
    },
    {
      "cell_type": "code",
      "source": [
        "score"
      ],
      "metadata": {
        "id": "1W3s2AeHAKEq",
        "outputId": "bf477560-1f4c-4922-85c6-8f08a008d0fc",
        "colab": {
          "base_uri": "https://localhost:8080/"
        }
      },
      "execution_count": 86,
      "outputs": [
        {
          "output_type": "execute_result",
          "data": {
            "text/plain": [
              "0.6203347418716882"
            ]
          },
          "metadata": {},
          "execution_count": 86
        }
      ]
    },
    {
      "cell_type": "code",
      "source": [
        "df.plot.scatter(x='Degree Centrality', y='anomaly_ratio')"
      ],
      "metadata": {
        "id": "vXMAZRlZiP2I",
        "outputId": "cdc979c0-2e1b-4806-fdd0-64c37fd9585e",
        "colab": {
          "base_uri": "https://localhost:8080/",
          "height": 296
        }
      },
      "execution_count": 87,
      "outputs": [
        {
          "output_type": "execute_result",
          "data": {
            "text/plain": [
              "<matplotlib.axes._subplots.AxesSubplot at 0x7f8183ee94d0>"
            ]
          },
          "metadata": {},
          "execution_count": 87
        },
        {
          "output_type": "display_data",
          "data": {
            "text/plain": [
              "<Figure size 432x288 with 1 Axes>"
            ],
            "image/png": "[encoded data removed]"
          },
          "metadata": {
            "needs_background": "light"
          }
        }
      ]
    },
    {
      "cell_type": "code",
      "source": [
        "best.plot.scatter(x='Degree Centrality', y='anomaly_ratio')"
      ],
      "metadata": {
        "id": "E5twVWccirt6",
        "outputId": "2890ed69-0a28-446f-c968-6f860298d510",
        "colab": {
          "base_uri": "https://localhost:8080/",
          "height": 296
        }
      },
      "execution_count": 88,
      "outputs": [
        {
          "output_type": "execute_result",
          "data": {
            "text/plain": [
              "<matplotlib.axes._subplots.AxesSubplot at 0x7f8182dd2a10>"
            ]
          },
          "metadata": {},
          "execution_count": 88
        },
        {
          "output_type": "display_data",
          "data": {
            "text/plain": [
              "<Figure size 432x288 with 1 Axes>"
            ],
            "image/png": "[encoded data removed]"
          },
          "metadata": {
            "needs_background": "light"
          }
        }
      ]
    },
    {
      "cell_type": "code",
      "source": [
        "df.count().sum() - (df == best).astype(int).sum().sum()"
      ],
      "metadata": {
        "id": "WN5ONvZrHFUd",
        "outputId": "eea56a1d-5705-4ce4-cc8a-597485df5602",
        "colab": {
          "base_uri": "https://localhost:8080/"
        }
      },
      "execution_count": 90,
      "outputs": [
        {
          "output_type": "execute_result",
          "data": {
            "text/plain": [
              "824"
            ]
          },
          "metadata": {},
          "execution_count": 90
        }
      ]
    },
    {
      "cell_type": "code",
      "source": [
        "824/(df.shape[0]*df.shape[1])"
      ],
      "metadata": {
        "id": "u_FYo3HhHUTF",
        "outputId": "a8da8b29-fa78-4b3a-b616-d62435ab5710",
        "colab": {
          "base_uri": "https://localhost:8080/"
        }
      },
      "execution_count": 96,
      "outputs": [
        {
          "output_type": "execute_result",
          "data": {
            "text/plain": [
              "0.10004856726566294"
            ]
          },
          "metadata": {},
          "execution_count": 96
        }
      ]
    }
  ]
}