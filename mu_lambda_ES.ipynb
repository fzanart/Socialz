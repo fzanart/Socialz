{
  "nbformat": 4,
  "nbformat_minor": 0,
  "metadata": {
    "colab": {
      "name": "mu_lambda_ES.ipynb",
      "provenance": [],
      "authorship_tag": "ABX9TyPR0rCNljPQqWW2vnFXey9K",
      "include_colab_link": true
    },
    "kernelspec": {
      "name": "python3",
      "display_name": "Python 3"
    },
    "language_info": {
      "name": "python"
    }
  },
  "cells": [
    {
      "cell_type": "markdown",
      "metadata": {
        "id": "view-in-github",
        "colab_type": "text"
      },
      "source": [
        "<a href=\"https://colab.research.google.com/github/fzanart/Socialz/blob/main/mu_lambda_ES.ipynb\" target=\"_parent\"><img src=\"https://colab.research.google.com/assets/colab-badge.svg\" alt=\"Open In Colab\"/></a>"
      ]
    },
    {
      "cell_type": "code",
      "source": [
        "!pip install scipy --upgrade"
      ],
      "metadata": {
        "colab": {
          "base_uri": "https://localhost:8080/"
        },
        "id": "-WJRsuLC9l5d",
        "outputId": "e5780cb4-cc28-4f09-c01a-794cedc4853b"
      },
      "execution_count": 1,
      "outputs": [
        {
          "output_type": "stream",
          "name": "stdout",
          "text": [
            "Requirement already satisfied: scipy in /usr/local/lib/python3.7/dist-packages (1.7.3)\n",
            "Requirement already satisfied: numpy<1.23.0,>=1.16.5 in /usr/local/lib/python3.7/dist-packages (from scipy) (1.21.6)\n"
          ]
        }
      ]
    },
    {
      "cell_type": "code",
      "source": [
        "import random\n",
        "import pandas as pd\n",
        "import numpy as np\n",
        "import pandas as pd\n",
        "import matplotlib.pyplot as plt\n",
        "from scipy.stats import qmc"
      ],
      "metadata": {
        "id": "wfsS6NvF9puI"
      },
      "execution_count": 9,
      "outputs": []
    },
    {
      "cell_type": "code",
      "source": [
        "data = {}\n",
        "\n",
        "\n",
        "def generate_random(number):\n",
        "  values = []\n",
        "  for i in range(10):\n",
        "      values.extend([random.uniform(0, 1)])\n",
        "  return values\n",
        "\n",
        "data['Betweeness'] = generate_random(10)\n",
        "data['Average_activity'] = generate_random(10)\n",
        "data['Abnormal_ratio'] = generate_random(10)\n",
        "\n",
        "df = pd.DataFrame(data)\n",
        "df"
      ],
      "metadata": {
        "colab": {
          "base_uri": "https://localhost:8080/",
          "height": 374
        },
        "id": "uvgT_cfB_Mz-",
        "outputId": "ea4ff303-2ae6-464a-dc65-5f73cfb5b39a"
      },
      "execution_count": 10,
      "outputs": [
        {
          "output_type": "execute_result",
          "data": {
            "text/plain": [
              "   Betweeness  Average_activity  Abnormal_ratio\n",
              "0    0.614062          0.641559        0.263238\n",
              "1    0.654887          0.162797        0.175473\n",
              "2    0.411365          0.218218        0.697543\n",
              "3    0.290461          0.779146        0.744818\n",
              "4    0.849185          0.109536        0.827267\n",
              "5    0.904911          0.473598        0.789840\n",
              "6    0.446492          0.547697        0.734179\n",
              "7    0.175780          0.203725        0.474223\n",
              "8    0.848459          0.633665        0.467135\n",
              "9    0.931052          0.880664        0.963333"
            ],
            "text/html": [
              "\n",
              "  <div id=\"df-42103d1b-3d29-45fe-b99d-eab1776f8c76\">\n",
              "    <div class=\"colab-df-container\">\n",
              "      <div>\n",
              "<style scoped>\n",
              "    .dataframe tbody tr th:only-of-type {\n",
              "        vertical-align: middle;\n",
              "    }\n",
              "\n",
              "    .dataframe tbody tr th {\n",
              "        vertical-align: top;\n",
              "    }\n",
              "\n",
              "    .dataframe thead th {\n",
              "        text-align: right;\n",
              "    }\n",
              "</style>\n",
              "<table border=\"1\" class=\"dataframe\">\n",
              "  <thead>\n",
              "    <tr style=\"text-align: right;\">\n",
              "      <th></th>\n",
              "      <th>Betweeness</th>\n",
              "      <th>Average_activity</th>\n",
              "      <th>Abnormal_ratio</th>\n",
              "    </tr>\n",
              "  </thead>\n",
              "  <tbody>\n",
              "    <tr>\n",
              "      <th>0</th>\n",
              "      <td>0.614062</td>\n",
              "      <td>0.641559</td>\n",
              "      <td>0.263238</td>\n",
              "    </tr>\n",
              "    <tr>\n",
              "      <th>1</th>\n",
              "      <td>0.654887</td>\n",
              "      <td>0.162797</td>\n",
              "      <td>0.175473</td>\n",
              "    </tr>\n",
              "    <tr>\n",
              "      <th>2</th>\n",
              "      <td>0.411365</td>\n",
              "      <td>0.218218</td>\n",
              "      <td>0.697543</td>\n",
              "    </tr>\n",
              "    <tr>\n",
              "      <th>3</th>\n",
              "      <td>0.290461</td>\n",
              "      <td>0.779146</td>\n",
              "      <td>0.744818</td>\n",
              "    </tr>\n",
              "    <tr>\n",
              "      <th>4</th>\n",
              "      <td>0.849185</td>\n",
              "      <td>0.109536</td>\n",
              "      <td>0.827267</td>\n",
              "    </tr>\n",
              "    <tr>\n",
              "      <th>5</th>\n",
              "      <td>0.904911</td>\n",
              "      <td>0.473598</td>\n",
              "      <td>0.789840</td>\n",
              "    </tr>\n",
              "    <tr>\n",
              "      <th>6</th>\n",
              "      <td>0.446492</td>\n",
              "      <td>0.547697</td>\n",
              "      <td>0.734179</td>\n",
              "    </tr>\n",
              "    <tr>\n",
              "      <th>7</th>\n",
              "      <td>0.175780</td>\n",
              "      <td>0.203725</td>\n",
              "      <td>0.474223</td>\n",
              "    </tr>\n",
              "    <tr>\n",
              "      <th>8</th>\n",
              "      <td>0.848459</td>\n",
              "      <td>0.633665</td>\n",
              "      <td>0.467135</td>\n",
              "    </tr>\n",
              "    <tr>\n",
              "      <th>9</th>\n",
              "      <td>0.931052</td>\n",
              "      <td>0.880664</td>\n",
              "      <td>0.963333</td>\n",
              "    </tr>\n",
              "  </tbody>\n",
              "</table>\n",
              "</div>\n",
              "      <button class=\"colab-df-convert\" onclick=\"convertToInteractive('df-42103d1b-3d29-45fe-b99d-eab1776f8c76')\"\n",
              "              title=\"Convert this dataframe to an interactive table.\"\n",
              "              style=\"display:none;\">\n",
              "        \n",
              "  <svg xmlns=\"http://www.w3.org/2000/svg\" height=\"24px\"viewBox=\"0 0 24 24\"\n",
              "       width=\"24px\">\n",
              "    <path d=\"M0 0h24v24H0V0z\" fill=\"none\"/>\n",
              "    <path d=\"M18.56 5.44l.94 2.06.94-2.06 2.06-.94-2.06-.94-.94-2.06-.94 2.06-2.06.94zm-11 1L8.5 8.5l.94-2.06 2.06-.94-2.06-.94L8.5 2.5l-.94 2.06-2.06.94zm10 10l.94 2.06.94-2.06 2.06-.94-2.06-.94-.94-2.06-.94 2.06-2.06.94z\"/><path d=\"M17.41 7.96l-1.37-1.37c-.4-.4-.92-.59-1.43-.59-.52 0-1.04.2-1.43.59L10.3 9.45l-7.72 7.72c-.78.78-.78 2.05 0 2.83L4 21.41c.39.39.9.59 1.41.59.51 0 1.02-.2 1.41-.59l7.78-7.78 2.81-2.81c.8-.78.8-2.07 0-2.86zM5.41 20L4 18.59l7.72-7.72 1.47 1.35L5.41 20z\"/>\n",
              "  </svg>\n",
              "      </button>\n",
              "      \n",
              "  <style>\n",
              "    .colab-df-container {\n",
              "      display:flex;\n",
              "      flex-wrap:wrap;\n",
              "      gap: 12px;\n",
              "    }\n",
              "\n",
              "    .colab-df-convert {\n",
              "      background-color: #E8F0FE;\n",
              "      border: none;\n",
              "      border-radius: 50%;\n",
              "      cursor: pointer;\n",
              "      display: none;\n",
              "      fill: #1967D2;\n",
              "      height: 32px;\n",
              "      padding: 0 0 0 0;\n",
              "      width: 32px;\n",
              "    }\n",
              "\n",
              "    .colab-df-convert:hover {\n",
              "      background-color: #E2EBFA;\n",
              "      box-shadow: 0px 1px 2px rgba(60, 64, 67, 0.3), 0px 1px 3px 1px rgba(60, 64, 67, 0.15);\n",
              "      fill: #174EA6;\n",
              "    }\n",
              "\n",
              "    [theme=dark] .colab-df-convert {\n",
              "      background-color: #3B4455;\n",
              "      fill: #D2E3FC;\n",
              "    }\n",
              "\n",
              "    [theme=dark] .colab-df-convert:hover {\n",
              "      background-color: #434B5C;\n",
              "      box-shadow: 0px 1px 3px 1px rgba(0, 0, 0, 0.15);\n",
              "      filter: drop-shadow(0px 1px 2px rgba(0, 0, 0, 0.3));\n",
              "      fill: #FFFFFF;\n",
              "    }\n",
              "  </style>\n",
              "\n",
              "      <script>\n",
              "        const buttonEl =\n",
              "          document.querySelector('#df-42103d1b-3d29-45fe-b99d-eab1776f8c76 button.colab-df-convert');\n",
              "        buttonEl.style.display =\n",
              "          google.colab.kernel.accessAllowed ? 'block' : 'none';\n",
              "\n",
              "        async function convertToInteractive(key) {\n",
              "          const element = document.querySelector('#df-42103d1b-3d29-45fe-b99d-eab1776f8c76');\n",
              "          const dataTable =\n",
              "            await google.colab.kernel.invokeFunction('convertToInteractive',\n",
              "                                                     [key], {});\n",
              "          if (!dataTable) return;\n",
              "\n",
              "          const docLinkHtml = 'Like what you see? Visit the ' +\n",
              "            '<a target=\"_blank\" href=https://colab.research.google.com/notebooks/data_table.ipynb>data table notebook</a>'\n",
              "            + ' to learn more about interactive tables.';\n",
              "          element.innerHTML = '';\n",
              "          dataTable['output_type'] = 'display_data';\n",
              "          await google.colab.output.renderOutput(dataTable, element);\n",
              "          const docLink = document.createElement('div');\n",
              "          docLink.innerHTML = docLinkHtml;\n",
              "          element.appendChild(docLink);\n",
              "        }\n",
              "      </script>\n",
              "    </div>\n",
              "  </div>\n",
              "  "
            ]
          },
          "metadata": {},
          "execution_count": 10
        }
      ]
    },
    {
      "cell_type": "markdown",
      "source": [
        "mu: The number of parents selected each iteration.\n",
        "\n",
        "lambda: Size of the population.\n",
        "\n",
        "lambda / mu: Number of children generated from each selected parent."
      ],
      "metadata": {
        "id": "aLjcrT2TCD3l"
      }
    },
    {
      "cell_type": "code",
      "source": [
        "qmc.discrepancy(df.to_numpy(), method='L2-star',workers=-1)"
      ],
      "metadata": {
        "colab": {
          "base_uri": "https://localhost:8080/"
        },
        "id": "agQspIGwLe55",
        "outputId": "f226046e-2819-4d50-9629-026ade880f43"
      },
      "execution_count": 92,
      "outputs": [
        {
          "output_type": "execute_result",
          "data": {
            "text/plain": [
              "0.06368088180876683"
            ]
          },
          "metadata": {},
          "execution_count": 92
        }
      ]
    },
    {
      "cell_type": "code",
      "source": [
        "def objective(initial_population, candidate):\n",
        "  space = initial_population.to_numpy()\n",
        "  space = np.vstack((space, candidate))\n",
        "  return qmc.discrepancy(space, method='L2-star',workers=-1)"
      ],
      "metadata": {
        "id": "dNUfH_JM97Bw"
      },
      "execution_count": 14,
      "outputs": []
    },
    {
      "cell_type": "code",
      "source": [
        "# check if a point is within the bounds of the search\n",
        "def in_bounds(point, bounds):\n",
        "\t# enumerate all dimensions of the point\n",
        "\tfor d in range(len(bounds)):\n",
        "\t\t# check if out of bounds for this dimension\n",
        "\t\tif point[d] < bounds[d, 0] or point[d] > bounds[d, 1]:\n",
        "\t\t\treturn False\n",
        "\treturn True"
      ],
      "metadata": {
        "id": "GfuM-CxyLKRj"
      },
      "execution_count": 89,
      "outputs": []
    },
    {
      "cell_type": "code",
      "source": [
        "# evolution strategy (mu, lambda) algorithm\n",
        "def es_comma(objective, bounds, n_iter, step_size, mu, lam):\n",
        "\tbest, best_eval = None, 1e+10\n",
        "\t# calculate the number of children per parent\n",
        "\tn_children = int(lam / mu)\n",
        "\t# initial population\n",
        "\tpopulation = list()\n",
        "\tfor _ in range(lam):\n",
        "\t\tcandidate = None\n",
        "\t\twhile candidate is None or not in_bounds(candidate, bounds):\n",
        "\t\t\tcandidate = bounds[:, 0] + np.random.rand(len(bounds)) * (bounds[:, 1] - bounds[:, 0])\n",
        "\t\tpopulation.append(candidate)\n",
        "\t# perform the search\n",
        "\tfor epoch in range(n_iter):\n",
        "\t\t# evaluate fitness for the population\n",
        "\t\tscores = [objective(df, c) for c in population]\n",
        "\t\t# rank scores in ascending order\n",
        "\t\tranks = np.argsort(np.argsort(scores))\n",
        "\t\t# select the indexes for the top mu ranked solutions\n",
        "\t\tselected = [i for i,_ in enumerate(ranks) if ranks[i] < mu]\n",
        "\t\t# create children from parents\n",
        "\t\tchildren = list()\n",
        "\t\tfor i in selected:\n",
        "\t\t\t# check if this parent is the best solution ever seen\n",
        "\t\t\tif scores[i] < best_eval:\n",
        "\t\t\t\tbest, best_eval = population[i], scores[i]\n",
        "\t\t\t\tprint('%d, Best: (%s) = %.5f' % (epoch, best, best_eval))\n",
        "\t\t\t# create children for parent\n",
        "\t\t\tfor _ in range(n_children):\n",
        "\t\t\t\tchild = None\n",
        "\t\t\t\twhile child is None or not in_bounds(child, bounds):\n",
        "\t\t\t\t\tchild = population[i] + np.random.randn(len(bounds)) * step_size\n",
        "\t\t\t\tchildren.append(child)\n",
        "\t\t# replace population with children\n",
        "\t\tpopulation = children\n",
        "\treturn [best, best_eval]"
      ],
      "metadata": {
        "id": "X5EVHsxSIntt"
      },
      "execution_count": 90,
      "outputs": []
    },
    {
      "cell_type": "code",
      "source": [
        "# define range for input\n",
        "bounds = np.asarray([[0.0, 1.0], [0.0, 1.0], [0.0, 1.0]])\n",
        "# define the total iterations\n",
        "n_iter = 5000\n",
        "# define the maximum step size\n",
        "step_size = 0.15\n",
        "# number of parents selected\n",
        "mu = 20\n",
        "# the number of children generated by parents\n",
        "lam = 100\n",
        "# perform the evolution strategy (mu, lambda) search\n",
        "best, score = es_comma(objective, bounds, n_iter, step_size, mu, lam)\n",
        "print('(%s) = %f' % (best, score))"
      ],
      "metadata": {
        "colab": {
          "base_uri": "https://localhost:8080/"
        },
        "id": "lkYz9N-UJRxX",
        "outputId": "f867da73-21ba-4987-ca56-7b2674b475a9"
      },
      "execution_count": 91,
      "outputs": [
        {
          "output_type": "stream",
          "name": "stdout",
          "text": [
            "0, Best: f([0.55494024 0.3177519  0.18322595]) = 0.06221\n",
            "0, Best: f([0.28687834 0.68565626 0.49322849]) = 0.05981\n",
            "0, Best: f([0.43143179 0.89198558 0.1054242 ]) = 0.05942\n",
            "0, Best: f([0.16033003 0.57356178 0.42532656]) = 0.05721\n",
            "0, Best: f([0.37080323 0.43087518 0.21886505]) = 0.05408\n",
            "0, Best: f([0.05058689 0.71347696 0.00414167]) = 0.05355\n",
            "1, Best: f([0.10572367 0.60085753 0.17859806]) = 0.05239\n",
            "1, Best: f([0.08687098 0.57745599 0.21997134]) = 0.05220\n",
            "2, Best: f([0.24415256 0.58145931 0.06847236]) = 0.05183\n",
            "2, Best: f([0.12677881 0.47718048 0.22297827]) = 0.05161\n",
            "2, Best: f([0.12607332 0.57495417 0.08845359]) = 0.05138\n",
            "2, Best: f([0.21001087 0.46489243 0.12150665]) = 0.05104\n",
            "3, Best: f([0.12052145 0.49032309 0.1120397 ]) = 0.05071\n",
            "52, Best: f([0.10786047 0.5084625  0.10378636]) = 0.05070\n",
            "80, Best: f([0.11776317 0.49959932 0.11525603]) = 0.05069\n",
            "311, Best: f([0.11586735 0.49416038 0.10857676]) = 0.05068\n",
            "1332, Best: f([0.10625531 0.49730091 0.11310836]) = 0.05067\n",
            "1434, Best: f([0.10822167 0.49504033 0.11193874]) = 0.05067\n",
            "1917, Best: f([0.10908772 0.49730598 0.1123614 ]) = 0.05067\n",
            "3029, Best: f([0.10991028 0.49960641 0.11073287]) = 0.05067\n",
            "f([0.10991028 0.49960641 0.11073287]) = 0.050671\n"
          ]
        }
      ]
    }
  ]
}