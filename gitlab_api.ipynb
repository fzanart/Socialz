{
 "cells": [
  {
   "cell_type": "code",
   "execution_count": null,
   "metadata": {},
   "outputs": [],
   "source": [
    "import gitlab\n",
    "token = ''"
   ]
  },
  {
   "cell_type": "code",
   "execution_count": null,
   "metadata": {},
   "outputs": [],
   "source": [
    "gl = gitlab.Gitlab(url='http://192.168.64.6', private_token=token)"
   ]
  },
  {
   "cell_type": "code",
   "execution_count": null,
   "metadata": {},
   "outputs": [],
   "source": [
    "# create a new user\n",
    "user_data = {'email': 'user3@mail.com', 'username': 'user3', 'name': 'user3', 'reset_password':False, 'password':'password','skip_confirmation':True}\n",
    "user = gl.users.create(user_data)\n",
    "print(user)"
   ]
  },
  {
   "cell_type": "code",
   "execution_count": null,
   "metadata": {},
   "outputs": [],
   "source": [
    "# Check if a user exists:\n",
    "# Use either the get_all=True or iterator=True parameters to get all the items when using listing methods.\n",
    "gl.users.list(get_all=True)"
   ]
  },
  {
   "cell_type": "code",
   "execution_count": null,
   "metadata": {},
   "outputs": [],
   "source": [
    "# Create a new repo on behalf a user, initialise readme, public\n",
    "# https://docs.gitlab.com/ee/api/projects.html#create-project\n",
    "p = gl.projects.create({'name': 'project_two', 'visibility':'public', 'initialize_with_readme':True}, sudo='user3')\n",
    "p"
   ]
  },
  {
   "cell_type": "code",
   "execution_count": null,
   "metadata": {},
   "outputs": [],
   "source": [
    "\n",
    "# Get a GH project\n",
    "project = gl.projects.get('user3/project_two')\n",
    "project\n"
   ]
  },
  {
   "cell_type": "code",
   "execution_count": null,
   "metadata": {},
   "outputs": [],
   "source": [
    "# get forks\n",
    "project.forks.list(get_all=True)"
   ]
  },
  {
   "cell_type": "code",
   "execution_count": null,
   "metadata": {},
   "outputs": [],
   "source": [
    "# get branches\n",
    "project.branches.list(get_all=True)"
   ]
  },
  {
   "cell_type": "code",
   "execution_count": null,
   "metadata": {},
   "outputs": [],
   "source": [
    "# create a branch on behalf a user\n",
    "project.branches.create({'branch': 'testing','ref': 'master'}, sudo='user3')"
   ]
  },
  {
   "cell_type": "code",
   "execution_count": null,
   "metadata": {},
   "outputs": [],
   "source": [
    "# create fork on behalf a user\n",
    "project.forks.create({}, sudo='user2')"
   ]
  },
  {
   "cell_type": "code",
   "execution_count": null,
   "metadata": {},
   "outputs": [],
   "source": [
    "# list all branches\n",
    "project.branches.list(get_all=True)\n"
   ]
  },
  {
   "cell_type": "code",
   "execution_count": null,
   "metadata": {},
   "outputs": [],
   "source": [
    "# check project visibility\n",
    "project.visibility\n"
   ]
  },
  {
   "cell_type": "code",
   "execution_count": null,
   "metadata": {},
   "outputs": [],
   "source": [
    "# check project id\n",
    "project.id"
   ]
  },
  {
   "cell_type": "code",
   "execution_count": null,
   "metadata": {},
   "outputs": [],
   "source": [
    "# Create a merge request (pull request in GH):\n",
    "# https://docs.gitlab.com/ee/api/merge_requests.html#create-mr\n",
    "project = gl.projects.get('user2/project_two')\n",
    "project.mergerequests.create({'source_branch':'master', \n",
    "                              'target_branch':'master',\n",
    "                              'title':'testing',\n",
    "                              'target_project_id':5}, sudo='user2')"
   ]
  }
 ],
 "metadata": {
  "language_info": {
   "name": "python"
  },
  "orig_nbformat": 4
 },
 "nbformat": 4,
 "nbformat_minor": 2
}
