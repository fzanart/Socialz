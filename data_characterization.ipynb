{
  "nbformat": 4,
  "nbformat_minor": 0,
  "metadata": {
    "colab": {
      "name": "data_characterization.ipynb",
      "provenance": [],
      "authorship_tag": "ABX9TyPEpQtrmrLg6wBRIPQtoAW4",
      "include_colab_link": true
    },
    "kernelspec": {
      "name": "python3",
      "display_name": "Python 3"
    },
    "language_info": {
      "name": "python"
    }
  },
  "cells": [
    {
      "cell_type": "markdown",
      "metadata": {
        "id": "view-in-github",
        "colab_type": "text"
      },
      "source": [
        "<a href=\"https://colab.research.google.com/github/fzanart/Socialz/blob/main/data_characterization.ipynb\" target=\"_parent\"><img src=\"https://colab.research.google.com/assets/colab-badge.svg\" alt=\"Open In Colab\"/></a>"
      ]
    },
    {
      "cell_type": "code",
      "execution_count": null,
      "metadata": {
        "id": "b3_N1Y_qTYal"
      },
      "outputs": [],
      "source": [
        "import pandas as pd\n",
        "import numpy as np\n",
        "from google.colab import drive\n",
        "drive.mount('/content/drive/')\n",
        "import json\n",
        "import matplotlib.pyplot as plt\n",
        "from sklearn.ensemble import IsolationForest\n",
        "from sklearn.manifold import TSNE"
      ]
    },
    {
      "cell_type": "code",
      "source": [
        "df = pd.read_csv('/content/drive/MyDrive/Socialz/cobol_pullrequests.csv')\n",
        "df"
      ],
      "metadata": {
        "id": "NToOcD9hTl3j"
      },
      "execution_count": null,
      "outputs": []
    },
    {
      "cell_type": "code",
      "source": [
        "users = df['login'].unique()"
      ],
      "metadata": {
        "id": "SBD34-NqTtYY"
      },
      "execution_count": null,
      "outputs": []
    },
    {
      "cell_type": "code",
      "source": [
        "def text_lenght(text):\n",
        "\n",
        "    if text == None:\n",
        "\n",
        "        return 0\n",
        "    else:\n",
        "\n",
        "        return len(text)\n",
        "\n",
        "df['payload'] = df['payload'].apply(json.loads)\n",
        "df['merged'] = df['payload'].apply(lambda x: x.get('pull_request').get('merged'))\n",
        "df['comments'] = df['payload'].apply(lambda x: x.get('pull_request').get('comments'))\n",
        "df['review_comments'] = df['payload'].apply(lambda x: x.get('pull_request').get('review_comments'))\n",
        "df['title lenght'] = df['payload'].apply(lambda x: text_lenght(x.get('pull_request').get('title')))\n",
        "df['body lenght'] = df['payload'].apply(lambda x: text_lenght(x.get('pull_request').get('body')))"
      ],
      "metadata": {
        "id": "d__EV6GjToro"
      },
      "execution_count": null,
      "outputs": []
    },
    {
      "cell_type": "code",
      "source": [
        "columns = ['merged', 'commits', 'additions', 'deletions','changed_files', 'comments', 'review_comments','title lenght', 'body lenght']\n",
        "\n",
        "def outlier_detection(df, user):\n",
        "  \n",
        "  # get train / test data by user\n",
        "  X_train = df[(df['merged'] == True) & (df['login'] == user)]\n",
        "  X_train = X_train[columns]\n",
        "\n",
        "  X_test = df[(df['merged'] == False) & (df['login'] == user)]\n",
        "  X_test = X_test[columns]\n",
        "\n",
        "  # fit predict isolation forest algorithm for outlier detection\n",
        "  clf = IsolationForest(max_samples='auto', n_jobs=-1, random_state=42)\n",
        "  clf.fit(X_train)\n",
        "  y_pred_train = clf.fit_predict(X_train)\n",
        "  y_pred_test = clf.predict(X_test)\n",
        "\n",
        "  # Concatenate train / test data with outlier predictions\n",
        "  anomaly = np.concatenate([y_pred_train,y_pred_test])\n",
        "  data = pd.concat([X_train, X_test])\n",
        "  data['Anomaly'] = anomaly\n",
        "\n",
        "  return data['Anomaly']"
      ],
      "metadata": {
        "id": "YGLP51yeTwz1"
      },
      "execution_count": null,
      "outputs": []
    },
    {
      "cell_type": "code",
      "source": [
        "anomaly = pd.Series()\n",
        "\n",
        "for user in users:\n",
        "  anomaly = pd.concat([anomaly, outlier_detection(df, user)])"
      ],
      "metadata": {
        "id": "F0YGNF1qUicY"
      },
      "execution_count": null,
      "outputs": []
    },
    {
      "cell_type": "code",
      "source": [
        "#TODO: add abnormal ratio, add average monthly activity -> add date/time data, user type, calculate centrality degree"
      ],
      "metadata": {
        "id": "OGYLTtYMVOzY"
      },
      "execution_count": null,
      "outputs": []
    },
    {
      "cell_type": "code",
      "source": [
        "# Build graph to calculate degree of centrality:\n",
        "\n",
        "df['login'] = df['login'].apply(lambda x: 'User: '+x)\n",
        "df['name'] = df['name'].apply(lambda x: 'Repo: '+x)\n",
        "\n",
        "# Build the adjacency matrix\n",
        "am = pd.crosstab(df['login'], df['name']).astype(float)\n",
        "idx = am.columns.union(am.index)\n",
        "am = am.reindex(index = idx, columns=idx, fill_value=0.0)\n",
        "\n",
        "matrix_elements = np.sort(df['login'].unique(), axis=0)\n",
        "repo_len = len(df['name'].unique())\n",
        "\n",
        "def  cosine_similarity(vector_a, vector_b):\n",
        "    \n",
        "    norma = (np.linalg.norm(vector_a)*np.linalg.norm(vector_b))\n",
        "\n",
        "    if norma > 0:\n",
        "\n",
        "        cos_sim = np.dot(vector_a,vector_b)/ norma\n",
        "\n",
        "    else:\n",
        "\n",
        "        cos_sim = 0\n",
        "\n",
        "    return cos_sim\n",
        "\n",
        "#Initialise an auxiliar matrix to record the user - user similarities\n",
        "shape = (len(matrix_elements), len(matrix_elements))\n",
        "aux_matrix = pd.DataFrame((np.zeros(shape=shape)), columns=matrix_elements, index=matrix_elements)\n",
        "\n",
        "for i in matrix_elements:\n",
        "    for j in matrix_elements:\n",
        "\n",
        "        # Compare row vectors\n",
        "        aux_vector_a = am.loc[i].to_numpy()[:repo_len]\n",
        "        aux_vector_b = am.loc[j].to_numpy()[:repo_len]\n",
        "        \n",
        "        score = cosine_similarity(aux_vector_a, aux_vector_b)\n",
        "        # print(i, j, score)\n",
        "        aux_matrix.at[i, j] = score\n",
        "\n",
        "#%%\n",
        "# Fill adj_matrix with aux_matrix data\n",
        "for column in aux_matrix.columns:\n",
        "    for row in aux_matrix.index:\n",
        "\n",
        "        aux = aux_matrix.at[row, column]\n",
        "        am.at[row, column] = aux\n",
        "        # if (aux == am.at[row, column]) ==  False:\n",
        "        #     print(aux, row, column)\n",
        "\n",
        "# %%\n",
        "# Build graph from matrix, after user-user connections\n",
        "G = nx.from_numpy_matrix(am.to_numpy())"
      ],
      "metadata": {
        "id": "HyE_MuGckM5f"
      },
      "execution_count": null,
      "outputs": []
    },
    {
      "cell_type": "code",
      "source": [
        "def CreateBarChartForCentralityMeasures(data, centrality_name):\n",
        "    df = pd.DataFrame(data, columns=['Node', centrality_name])\n",
        "    return df\n",
        "\n",
        "degree_centrality_df = CreateBarChartForCentralityMeasures(sorted(nx.degree_centrality(G).items(), key=lambda x:x[1], reverse=True), 'Degree Centrality')"
      ],
      "metadata": {
        "id": "0xuRBZj_nugr"
      },
      "execution_count": null,
      "outputs": []
    },
    {
      "cell_type": "code",
      "source": [
        "# Calculate average monthly activity:\n",
        "\n",
        "\n",
        "def timelist_to_minutes(time_list):\n",
        "\n",
        "    datetime_list = [datetime.strptime(x, '%Y-%m-%d %H:%M:%S %Z') for x in time_list]\n",
        "\n",
        "    minutes = [time.hour*60 + time.minute + time.second/60 for time in datetime_list]\n",
        "\n",
        "    return minutes\n",
        "\n",
        "def time_to_minutes(time):\n",
        "\n",
        "    time = datetime.strptime(time, '%Y-%m-%d %H:%M:%S %Z')\n",
        "\n",
        "    minutes = time.hour*60 + time.minute + time.second/60\n",
        "\n",
        "    return minutes\n",
        "\n",
        "\n",
        "df['Time_in_minutes'] = df['created_at'].apply(lambda x: time_to_minutes(x))"
      ],
      "metadata": {
        "id": "LmOo7TOlk50y"
      },
      "execution_count": null,
      "outputs": []
    }
  ]
}